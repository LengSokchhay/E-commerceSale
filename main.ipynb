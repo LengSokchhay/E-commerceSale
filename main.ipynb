{
 "cells": [
  {
   "cell_type": "code",
   "execution_count": 46,
   "metadata": {},
   "outputs": [
    {
     "data": {
      "text/html": [
       "<div>\n",
       "<style scoped>\n",
       "    .dataframe tbody tr th:only-of-type {\n",
       "        vertical-align: middle;\n",
       "    }\n",
       "\n",
       "    .dataframe tbody tr th {\n",
       "        vertical-align: top;\n",
       "    }\n",
       "\n",
       "    .dataframe thead th {\n",
       "        text-align: right;\n",
       "    }\n",
       "</style>\n",
       "<table border=\"1\" class=\"dataframe\">\n",
       "  <thead>\n",
       "    <tr style=\"text-align: right;\">\n",
       "      <th></th>\n",
       "      <th>product_id</th>\n",
       "      <th>product_name</th>\n",
       "      <th>category</th>\n",
       "      <th>price</th>\n",
       "      <th>review_score</th>\n",
       "      <th>review_count</th>\n",
       "      <th>sales_month_1</th>\n",
       "      <th>sales_month_2</th>\n",
       "      <th>sales_month_3</th>\n",
       "      <th>sales_month_4</th>\n",
       "      <th>sales_month_5</th>\n",
       "      <th>sales_month_6</th>\n",
       "      <th>sales_month_7</th>\n",
       "      <th>sales_month_8</th>\n",
       "      <th>sales_month_9</th>\n",
       "      <th>sales_month_10</th>\n",
       "      <th>sales_month_11</th>\n",
       "      <th>sales_month_12</th>\n",
       "    </tr>\n",
       "  </thead>\n",
       "  <tbody>\n",
       "    <tr>\n",
       "      <th>0</th>\n",
       "      <td>1</td>\n",
       "      <td>Product_1</td>\n",
       "      <td>Clothing</td>\n",
       "      <td>190.40</td>\n",
       "      <td>1.7</td>\n",
       "      <td>220</td>\n",
       "      <td>479</td>\n",
       "      <td>449</td>\n",
       "      <td>92</td>\n",
       "      <td>784</td>\n",
       "      <td>604</td>\n",
       "      <td>904</td>\n",
       "      <td>446</td>\n",
       "      <td>603</td>\n",
       "      <td>807</td>\n",
       "      <td>252</td>\n",
       "      <td>695</td>\n",
       "      <td>306</td>\n",
       "    </tr>\n",
       "    <tr>\n",
       "      <th>1</th>\n",
       "      <td>2</td>\n",
       "      <td>Product_2</td>\n",
       "      <td>Home &amp; Kitchen</td>\n",
       "      <td>475.60</td>\n",
       "      <td>3.2</td>\n",
       "      <td>903</td>\n",
       "      <td>21</td>\n",
       "      <td>989</td>\n",
       "      <td>861</td>\n",
       "      <td>863</td>\n",
       "      <td>524</td>\n",
       "      <td>128</td>\n",
       "      <td>610</td>\n",
       "      <td>436</td>\n",
       "      <td>176</td>\n",
       "      <td>294</td>\n",
       "      <td>772</td>\n",
       "      <td>353</td>\n",
       "    </tr>\n",
       "    <tr>\n",
       "      <th>2</th>\n",
       "      <td>3</td>\n",
       "      <td>Product_3</td>\n",
       "      <td>Toys</td>\n",
       "      <td>367.34</td>\n",
       "      <td>4.5</td>\n",
       "      <td>163</td>\n",
       "      <td>348</td>\n",
       "      <td>558</td>\n",
       "      <td>567</td>\n",
       "      <td>143</td>\n",
       "      <td>771</td>\n",
       "      <td>409</td>\n",
       "      <td>290</td>\n",
       "      <td>828</td>\n",
       "      <td>340</td>\n",
       "      <td>667</td>\n",
       "      <td>267</td>\n",
       "      <td>392</td>\n",
       "    </tr>\n",
       "    <tr>\n",
       "      <th>3</th>\n",
       "      <td>4</td>\n",
       "      <td>Product_4</td>\n",
       "      <td>Toys</td>\n",
       "      <td>301.34</td>\n",
       "      <td>3.9</td>\n",
       "      <td>951</td>\n",
       "      <td>725</td>\n",
       "      <td>678</td>\n",
       "      <td>59</td>\n",
       "      <td>15</td>\n",
       "      <td>937</td>\n",
       "      <td>421</td>\n",
       "      <td>670</td>\n",
       "      <td>933</td>\n",
       "      <td>56</td>\n",
       "      <td>157</td>\n",
       "      <td>168</td>\n",
       "      <td>203</td>\n",
       "    </tr>\n",
       "    <tr>\n",
       "      <th>4</th>\n",
       "      <td>5</td>\n",
       "      <td>Product_5</td>\n",
       "      <td>Books</td>\n",
       "      <td>82.23</td>\n",
       "      <td>4.2</td>\n",
       "      <td>220</td>\n",
       "      <td>682</td>\n",
       "      <td>451</td>\n",
       "      <td>649</td>\n",
       "      <td>301</td>\n",
       "      <td>620</td>\n",
       "      <td>293</td>\n",
       "      <td>411</td>\n",
       "      <td>258</td>\n",
       "      <td>854</td>\n",
       "      <td>548</td>\n",
       "      <td>770</td>\n",
       "      <td>257</td>\n",
       "    </tr>\n",
       "    <tr>\n",
       "      <th>5</th>\n",
       "      <td>6</td>\n",
       "      <td>Product_6</td>\n",
       "      <td>Toys</td>\n",
       "      <td>82.22</td>\n",
       "      <td>3.6</td>\n",
       "      <td>270</td>\n",
       "      <td>834</td>\n",
       "      <td>288</td>\n",
       "      <td>38</td>\n",
       "      <td>422</td>\n",
       "      <td>329</td>\n",
       "      <td>245</td>\n",
       "      <td>614</td>\n",
       "      <td>979</td>\n",
       "      <td>851</td>\n",
       "      <td>630</td>\n",
       "      <td>738</td>\n",
       "      <td>485</td>\n",
       "    </tr>\n",
       "    <tr>\n",
       "      <th>6</th>\n",
       "      <td>7</td>\n",
       "      <td>Product_7</td>\n",
       "      <td>Electronics</td>\n",
       "      <td>33.75</td>\n",
       "      <td>3.8</td>\n",
       "      <td>632</td>\n",
       "      <td>565</td>\n",
       "      <td>140</td>\n",
       "      <td>539</td>\n",
       "      <td>244</td>\n",
       "      <td>188</td>\n",
       "      <td>700</td>\n",
       "      <td>896</td>\n",
       "      <td>965</td>\n",
       "      <td>447</td>\n",
       "      <td>66</td>\n",
       "      <td>32</td>\n",
       "      <td>516</td>\n",
       "    </tr>\n",
       "    <tr>\n",
       "      <th>7</th>\n",
       "      <td>8</td>\n",
       "      <td>Product_8</td>\n",
       "      <td>Electronics</td>\n",
       "      <td>433.76</td>\n",
       "      <td>4.4</td>\n",
       "      <td>906</td>\n",
       "      <td>905</td>\n",
       "      <td>83</td>\n",
       "      <td>48</td>\n",
       "      <td>926</td>\n",
       "      <td>94</td>\n",
       "      <td>555</td>\n",
       "      <td>280</td>\n",
       "      <td>102</td>\n",
       "      <td>202</td>\n",
       "      <td>753</td>\n",
       "      <td>376</td>\n",
       "      <td>445</td>\n",
       "    </tr>\n",
       "    <tr>\n",
       "      <th>8</th>\n",
       "      <td>9</td>\n",
       "      <td>Product_9</td>\n",
       "      <td>Electronics</td>\n",
       "      <td>302.55</td>\n",
       "      <td>2.0</td>\n",
       "      <td>848</td>\n",
       "      <td>809</td>\n",
       "      <td>693</td>\n",
       "      <td>419</td>\n",
       "      <td>106</td>\n",
       "      <td>616</td>\n",
       "      <td>85</td>\n",
       "      <td>42</td>\n",
       "      <td>992</td>\n",
       "      <td>696</td>\n",
       "      <td>298</td>\n",
       "      <td>213</td>\n",
       "      <td>708</td>\n",
       "    </tr>\n",
       "    <tr>\n",
       "      <th>9</th>\n",
       "      <td>10</td>\n",
       "      <td>Product_10</td>\n",
       "      <td>Clothing</td>\n",
       "      <td>355.50</td>\n",
       "      <td>3.0</td>\n",
       "      <td>400</td>\n",
       "      <td>319</td>\n",
       "      <td>390</td>\n",
       "      <td>636</td>\n",
       "      <td>87</td>\n",
       "      <td>7</td>\n",
       "      <td>555</td>\n",
       "      <td>485</td>\n",
       "      <td>566</td>\n",
       "      <td>632</td>\n",
       "      <td>462</td>\n",
       "      <td>561</td>\n",
       "      <td>179</td>\n",
       "    </tr>\n",
       "  </tbody>\n",
       "</table>\n",
       "</div>"
      ],
      "text/plain": [
       "   product_id product_name        category   price  review_score  \\\n",
       "0           1    Product_1        Clothing  190.40           1.7   \n",
       "1           2    Product_2  Home & Kitchen  475.60           3.2   \n",
       "2           3    Product_3            Toys  367.34           4.5   \n",
       "3           4    Product_4            Toys  301.34           3.9   \n",
       "4           5    Product_5           Books   82.23           4.2   \n",
       "5           6    Product_6            Toys   82.22           3.6   \n",
       "6           7    Product_7     Electronics   33.75           3.8   \n",
       "7           8    Product_8     Electronics  433.76           4.4   \n",
       "8           9    Product_9     Electronics  302.55           2.0   \n",
       "9          10   Product_10        Clothing  355.50           3.0   \n",
       "\n",
       "   review_count  sales_month_1  sales_month_2  sales_month_3  sales_month_4  \\\n",
       "0           220            479            449             92            784   \n",
       "1           903             21            989            861            863   \n",
       "2           163            348            558            567            143   \n",
       "3           951            725            678             59             15   \n",
       "4           220            682            451            649            301   \n",
       "5           270            834            288             38            422   \n",
       "6           632            565            140            539            244   \n",
       "7           906            905             83             48            926   \n",
       "8           848            809            693            419            106   \n",
       "9           400            319            390            636             87   \n",
       "\n",
       "   sales_month_5  sales_month_6  sales_month_7  sales_month_8  sales_month_9  \\\n",
       "0            604            904            446            603            807   \n",
       "1            524            128            610            436            176   \n",
       "2            771            409            290            828            340   \n",
       "3            937            421            670            933             56   \n",
       "4            620            293            411            258            854   \n",
       "5            329            245            614            979            851   \n",
       "6            188            700            896            965            447   \n",
       "7             94            555            280            102            202   \n",
       "8            616             85             42            992            696   \n",
       "9              7            555            485            566            632   \n",
       "\n",
       "   sales_month_10  sales_month_11  sales_month_12  \n",
       "0             252             695             306  \n",
       "1             294             772             353  \n",
       "2             667             267             392  \n",
       "3             157             168             203  \n",
       "4             548             770             257  \n",
       "5             630             738             485  \n",
       "6              66              32             516  \n",
       "7             753             376             445  \n",
       "8             298             213             708  \n",
       "9             462             561             179  "
      ]
     },
     "execution_count": 46,
     "metadata": {},
     "output_type": "execute_result"
    }
   ],
   "source": [
    "import numpy as np\n",
    "import pandas as pd\n",
    "import plotly.express as px \n",
    "import plotly.graph_objects as go\n",
    "from plotly.subplots import make_subplots\n",
    "from scipy import stats\n",
    "# Load the dataset\n",
    "data = pd.read_csv('data/data.csv')\n",
    "data.head(10)"
   ]
  },
  {
   "cell_type": "code",
   "execution_count": 47,
   "metadata": {},
   "outputs": [
    {
     "data": {
      "text/plain": [
       "(1000, 18)"
      ]
     },
     "execution_count": 47,
     "metadata": {},
     "output_type": "execute_result"
    }
   ],
   "source": [
    "data.shape"
   ]
  },
  {
   "cell_type": "code",
   "execution_count": 48,
   "metadata": {},
   "outputs": [
    {
     "data": {
      "text/plain": [
       "Index(['product_id', 'product_name', 'category', 'price', 'review_score',\n",
       "       'review_count', 'sales_month_1', 'sales_month_2', 'sales_month_3',\n",
       "       'sales_month_4', 'sales_month_5', 'sales_month_6', 'sales_month_7',\n",
       "       'sales_month_8', 'sales_month_9', 'sales_month_10', 'sales_month_11',\n",
       "       'sales_month_12'],\n",
       "      dtype='object')"
      ]
     },
     "execution_count": 48,
     "metadata": {},
     "output_type": "execute_result"
    }
   ],
   "source": [
    "data.columns"
   ]
  },
  {
   "cell_type": "code",
   "execution_count": 49,
   "metadata": {},
   "outputs": [
    {
     "name": "stdout",
     "output_type": "stream",
     "text": [
      "<class 'pandas.core.frame.DataFrame'>\n",
      "RangeIndex: 1000 entries, 0 to 999\n",
      "Data columns (total 18 columns):\n",
      " #   Column          Non-Null Count  Dtype  \n",
      "---  ------          --------------  -----  \n",
      " 0   product_id      1000 non-null   int64  \n",
      " 1   product_name    1000 non-null   object \n",
      " 2   category        1000 non-null   object \n",
      " 3   price           1000 non-null   float64\n",
      " 4   review_score    1000 non-null   float64\n",
      " 5   review_count    1000 non-null   int64  \n",
      " 6   sales_month_1   1000 non-null   int64  \n",
      " 7   sales_month_2   1000 non-null   int64  \n",
      " 8   sales_month_3   1000 non-null   int64  \n",
      " 9   sales_month_4   1000 non-null   int64  \n",
      " 10  sales_month_5   1000 non-null   int64  \n",
      " 11  sales_month_6   1000 non-null   int64  \n",
      " 12  sales_month_7   1000 non-null   int64  \n",
      " 13  sales_month_8   1000 non-null   int64  \n",
      " 14  sales_month_9   1000 non-null   int64  \n",
      " 15  sales_month_10  1000 non-null   int64  \n",
      " 16  sales_month_11  1000 non-null   int64  \n",
      " 17  sales_month_12  1000 non-null   int64  \n",
      "dtypes: float64(2), int64(14), object(2)\n",
      "memory usage: 140.8+ KB\n"
     ]
    }
   ],
   "source": [
    "data.info()"
   ]
  },
  {
   "cell_type": "code",
   "execution_count": 50,
   "metadata": {},
   "outputs": [
    {
     "data": {
      "text/plain": [
       "0"
      ]
     },
     "execution_count": 50,
     "metadata": {},
     "output_type": "execute_result"
    }
   ],
   "source": [
    "data.duplicated().sum()"
   ]
  },
  {
   "cell_type": "code",
   "execution_count": null,
   "metadata": {},
   "outputs": [],
   "source": [
    "import pandas as pd\n",
    "data.isna().any()\n",
    "\n",
    "\n",
    "# Function to impute missing values in the sales data for a product\n",
    "def impute_missing_sales(row):\n",
    "    # Loop through each month (sales_month_1 to sales_month_12)\n",
    "    for month in range(1, 13):  \n",
    "        month_column = f'sales_month_{month}'\n",
    "        if pd.isna(row[month_column]):  # If the value is missing\n",
    "            # Calculate the mean of the other 11 months\n",
    "            other_months = row.drop(month_column)  # Exclude the current month\n",
    "            mean_value = other_months.mean()  # Calculate the mean of the remaining values\n",
    "            row[month_column] = mean_value  # Replace the missing value with the mean\n",
    "    return row\n",
    "\n",
    "# Example usage:\n",
    "# Apply the impute_missing_sales function to each row of the Data\n",
    "data = data.apply(impute_missing_sales, axis=1)"
   ]
  },
  {
   "cell_type": "code",
   "execution_count": 52,
   "metadata": {},
   "outputs": [
    {
     "data": {
      "text/plain": [
       "product_id        0\n",
       "product_name      0\n",
       "category          0\n",
       "price             0\n",
       "review_score      0\n",
       "review_count      0\n",
       "sales_month_1     0\n",
       "sales_month_2     0\n",
       "sales_month_3     0\n",
       "sales_month_4     0\n",
       "sales_month_5     0\n",
       "sales_month_6     0\n",
       "sales_month_7     0\n",
       "sales_month_8     0\n",
       "sales_month_9     0\n",
       "sales_month_10    0\n",
       "sales_month_11    0\n",
       "sales_month_12    0\n",
       "dtype: int64"
      ]
     },
     "execution_count": 52,
     "metadata": {},
     "output_type": "execute_result"
    }
   ],
   "source": [
    "data.isnull().sum()"
   ]
  },
  {
   "cell_type": "code",
   "execution_count": 53,
   "metadata": {},
   "outputs": [
    {
     "data": {
      "text/html": [
       "<div>\n",
       "<style scoped>\n",
       "    .dataframe tbody tr th:only-of-type {\n",
       "        vertical-align: middle;\n",
       "    }\n",
       "\n",
       "    .dataframe tbody tr th {\n",
       "        vertical-align: top;\n",
       "    }\n",
       "\n",
       "    .dataframe thead th {\n",
       "        text-align: right;\n",
       "    }\n",
       "</style>\n",
       "<table border=\"1\" class=\"dataframe\">\n",
       "  <thead>\n",
       "    <tr style=\"text-align: right;\">\n",
       "      <th></th>\n",
       "      <th>product_id</th>\n",
       "      <th>price</th>\n",
       "      <th>review_score</th>\n",
       "      <th>review_count</th>\n",
       "      <th>sales_month_1</th>\n",
       "      <th>sales_month_2</th>\n",
       "      <th>sales_month_3</th>\n",
       "      <th>sales_month_4</th>\n",
       "      <th>sales_month_5</th>\n",
       "      <th>sales_month_6</th>\n",
       "      <th>sales_month_7</th>\n",
       "      <th>sales_month_8</th>\n",
       "      <th>sales_month_9</th>\n",
       "      <th>sales_month_10</th>\n",
       "      <th>sales_month_11</th>\n",
       "      <th>sales_month_12</th>\n",
       "    </tr>\n",
       "  </thead>\n",
       "  <tbody>\n",
       "    <tr>\n",
       "      <th>count</th>\n",
       "      <td>1000.000000</td>\n",
       "      <td>1000.000000</td>\n",
       "      <td>1000.000000</td>\n",
       "      <td>1000.000000</td>\n",
       "      <td>1000.000000</td>\n",
       "      <td>1000.000000</td>\n",
       "      <td>1000.000000</td>\n",
       "      <td>1000.000000</td>\n",
       "      <td>1000.000000</td>\n",
       "      <td>1000.000000</td>\n",
       "      <td>1000.000000</td>\n",
       "      <td>1000.000000</td>\n",
       "      <td>1000.000000</td>\n",
       "      <td>1000.000000</td>\n",
       "      <td>1000.00000</td>\n",
       "      <td>1000.000000</td>\n",
       "    </tr>\n",
       "    <tr>\n",
       "      <th>mean</th>\n",
       "      <td>500.500000</td>\n",
       "      <td>247.677130</td>\n",
       "      <td>3.027600</td>\n",
       "      <td>526.506000</td>\n",
       "      <td>498.306000</td>\n",
       "      <td>507.661000</td>\n",
       "      <td>506.739000</td>\n",
       "      <td>503.823000</td>\n",
       "      <td>487.194000</td>\n",
       "      <td>491.653000</td>\n",
       "      <td>507.011000</td>\n",
       "      <td>504.569000</td>\n",
       "      <td>491.934000</td>\n",
       "      <td>514.798000</td>\n",
       "      <td>505.83800</td>\n",
       "      <td>500.386000</td>\n",
       "    </tr>\n",
       "    <tr>\n",
       "      <th>std</th>\n",
       "      <td>288.819436</td>\n",
       "      <td>144.607983</td>\n",
       "      <td>1.171243</td>\n",
       "      <td>282.269932</td>\n",
       "      <td>289.941478</td>\n",
       "      <td>285.992689</td>\n",
       "      <td>294.010873</td>\n",
       "      <td>286.645567</td>\n",
       "      <td>287.844324</td>\n",
       "      <td>289.234018</td>\n",
       "      <td>291.047287</td>\n",
       "      <td>289.945691</td>\n",
       "      <td>287.514731</td>\n",
       "      <td>288.710119</td>\n",
       "      <td>288.82451</td>\n",
       "      <td>278.509459</td>\n",
       "    </tr>\n",
       "    <tr>\n",
       "      <th>min</th>\n",
       "      <td>1.000000</td>\n",
       "      <td>7.290000</td>\n",
       "      <td>1.000000</td>\n",
       "      <td>1.000000</td>\n",
       "      <td>0.000000</td>\n",
       "      <td>2.000000</td>\n",
       "      <td>0.000000</td>\n",
       "      <td>0.000000</td>\n",
       "      <td>0.000000</td>\n",
       "      <td>0.000000</td>\n",
       "      <td>0.000000</td>\n",
       "      <td>5.000000</td>\n",
       "      <td>0.000000</td>\n",
       "      <td>1.000000</td>\n",
       "      <td>0.00000</td>\n",
       "      <td>4.000000</td>\n",
       "    </tr>\n",
       "    <tr>\n",
       "      <th>25%</th>\n",
       "      <td>250.750000</td>\n",
       "      <td>121.810000</td>\n",
       "      <td>2.000000</td>\n",
       "      <td>283.750000</td>\n",
       "      <td>245.500000</td>\n",
       "      <td>262.500000</td>\n",
       "      <td>243.750000</td>\n",
       "      <td>261.500000</td>\n",
       "      <td>221.000000</td>\n",
       "      <td>236.000000</td>\n",
       "      <td>254.000000</td>\n",
       "      <td>240.500000</td>\n",
       "      <td>247.250000</td>\n",
       "      <td>267.000000</td>\n",
       "      <td>251.25000</td>\n",
       "      <td>259.000000</td>\n",
       "    </tr>\n",
       "    <tr>\n",
       "      <th>50%</th>\n",
       "      <td>500.500000</td>\n",
       "      <td>250.920000</td>\n",
       "      <td>3.100000</td>\n",
       "      <td>543.000000</td>\n",
       "      <td>507.500000</td>\n",
       "      <td>508.000000</td>\n",
       "      <td>493.000000</td>\n",
       "      <td>501.500000</td>\n",
       "      <td>497.000000</td>\n",
       "      <td>479.500000</td>\n",
       "      <td>522.500000</td>\n",
       "      <td>499.500000</td>\n",
       "      <td>495.500000</td>\n",
       "      <td>532.000000</td>\n",
       "      <td>502.00000</td>\n",
       "      <td>500.500000</td>\n",
       "    </tr>\n",
       "    <tr>\n",
       "      <th>75%</th>\n",
       "      <td>750.250000</td>\n",
       "      <td>373.435000</td>\n",
       "      <td>4.000000</td>\n",
       "      <td>772.000000</td>\n",
       "      <td>740.750000</td>\n",
       "      <td>756.250000</td>\n",
       "      <td>777.250000</td>\n",
       "      <td>749.500000</td>\n",
       "      <td>727.000000</td>\n",
       "      <td>740.500000</td>\n",
       "      <td>757.250000</td>\n",
       "      <td>762.250000</td>\n",
       "      <td>735.250000</td>\n",
       "      <td>770.250000</td>\n",
       "      <td>761.00000</td>\n",
       "      <td>730.000000</td>\n",
       "    </tr>\n",
       "    <tr>\n",
       "      <th>max</th>\n",
       "      <td>1000.000000</td>\n",
       "      <td>499.860000</td>\n",
       "      <td>5.000000</td>\n",
       "      <td>999.000000</td>\n",
       "      <td>1000.000000</td>\n",
       "      <td>1000.000000</td>\n",
       "      <td>999.000000</td>\n",
       "      <td>1000.000000</td>\n",
       "      <td>1000.000000</td>\n",
       "      <td>1000.000000</td>\n",
       "      <td>1000.000000</td>\n",
       "      <td>1000.000000</td>\n",
       "      <td>1000.000000</td>\n",
       "      <td>1000.000000</td>\n",
       "      <td>1000.00000</td>\n",
       "      <td>1000.000000</td>\n",
       "    </tr>\n",
       "  </tbody>\n",
       "</table>\n",
       "</div>"
      ],
      "text/plain": [
       "        product_id        price  review_score  review_count  sales_month_1  \\\n",
       "count  1000.000000  1000.000000   1000.000000   1000.000000    1000.000000   \n",
       "mean    500.500000   247.677130      3.027600    526.506000     498.306000   \n",
       "std     288.819436   144.607983      1.171243    282.269932     289.941478   \n",
       "min       1.000000     7.290000      1.000000      1.000000       0.000000   \n",
       "25%     250.750000   121.810000      2.000000    283.750000     245.500000   \n",
       "50%     500.500000   250.920000      3.100000    543.000000     507.500000   \n",
       "75%     750.250000   373.435000      4.000000    772.000000     740.750000   \n",
       "max    1000.000000   499.860000      5.000000    999.000000    1000.000000   \n",
       "\n",
       "       sales_month_2  sales_month_3  sales_month_4  sales_month_5  \\\n",
       "count    1000.000000    1000.000000    1000.000000    1000.000000   \n",
       "mean      507.661000     506.739000     503.823000     487.194000   \n",
       "std       285.992689     294.010873     286.645567     287.844324   \n",
       "min         2.000000       0.000000       0.000000       0.000000   \n",
       "25%       262.500000     243.750000     261.500000     221.000000   \n",
       "50%       508.000000     493.000000     501.500000     497.000000   \n",
       "75%       756.250000     777.250000     749.500000     727.000000   \n",
       "max      1000.000000     999.000000    1000.000000    1000.000000   \n",
       "\n",
       "       sales_month_6  sales_month_7  sales_month_8  sales_month_9  \\\n",
       "count    1000.000000    1000.000000    1000.000000    1000.000000   \n",
       "mean      491.653000     507.011000     504.569000     491.934000   \n",
       "std       289.234018     291.047287     289.945691     287.514731   \n",
       "min         0.000000       0.000000       5.000000       0.000000   \n",
       "25%       236.000000     254.000000     240.500000     247.250000   \n",
       "50%       479.500000     522.500000     499.500000     495.500000   \n",
       "75%       740.500000     757.250000     762.250000     735.250000   \n",
       "max      1000.000000    1000.000000    1000.000000    1000.000000   \n",
       "\n",
       "       sales_month_10  sales_month_11  sales_month_12  \n",
       "count     1000.000000      1000.00000     1000.000000  \n",
       "mean       514.798000       505.83800      500.386000  \n",
       "std        288.710119       288.82451      278.509459  \n",
       "min          1.000000         0.00000        4.000000  \n",
       "25%        267.000000       251.25000      259.000000  \n",
       "50%        532.000000       502.00000      500.500000  \n",
       "75%        770.250000       761.00000      730.000000  \n",
       "max       1000.000000      1000.00000     1000.000000  "
      ]
     },
     "execution_count": 53,
     "metadata": {},
     "output_type": "execute_result"
    }
   ],
   "source": [
    "data.describe()"
   ]
  },
  {
   "cell_type": "code",
   "execution_count": 54,
   "metadata": {},
   "outputs": [
    {
     "data": {
      "text/plain": [
       "array(['Clothing', 'Home & Kitchen', 'Toys', 'Books', 'Electronics',\n",
       "       'Health', 'Sports'], dtype=object)"
      ]
     },
     "execution_count": 54,
     "metadata": {},
     "output_type": "execute_result"
    }
   ],
   "source": [
    "data['category'].unique()"
   ]
  },
  {
   "cell_type": "code",
   "execution_count": 55,
   "metadata": {},
   "outputs": [
    {
     "data": {
      "text/plain": [
       "category\n",
       "Books             154\n",
       "Sports            153\n",
       "Toys              151\n",
       "Clothing          140\n",
       "Health            139\n",
       "Electronics       138\n",
       "Home & Kitchen    125\n",
       "Name: count, dtype: int64"
      ]
     },
     "execution_count": 55,
     "metadata": {},
     "output_type": "execute_result"
    }
   ],
   "source": [
    "data['category'].value_counts()"
   ]
  },
  {
   "cell_type": "code",
   "execution_count": 56,
   "metadata": {},
   "outputs": [
    {
     "data": {
      "application/vnd.plotly.v1+json": {
       "config": {
        "plotlyServerURL": "https://plot.ly"
       },
       "data": [
        {
         "domain": {
          "x": [
           0,
           1
          ],
          "y": [
           0,
           1
          ]
         },
         "hovertemplate": "label=%{label}<br>value=%{value}<extra></extra>",
         "labels": [
          "Clothing",
          "Home & Kitchen",
          "Toys",
          "Books",
          "Electronics",
          "Health",
          "Sports"
         ],
         "legendgroup": "",
         "name": "",
         "showlegend": true,
         "textinfo": "label+percent",
         "type": "pie",
         "values": [
          154,
          153,
          151,
          140,
          139,
          138,
          125
         ]
        }
       ],
       "layout": {
        "legend": {
         "tracegroupgap": 0
        },
        "template": {
         "data": {
          "bar": [
           {
            "error_x": {
             "color": "#2a3f5f"
            },
            "error_y": {
             "color": "#2a3f5f"
            },
            "marker": {
             "line": {
              "color": "#E5ECF6",
              "width": 0.5
             },
             "pattern": {
              "fillmode": "overlay",
              "size": 10,
              "solidity": 0.2
             }
            },
            "type": "bar"
           }
          ],
          "barpolar": [
           {
            "marker": {
             "line": {
              "color": "#E5ECF6",
              "width": 0.5
             },
             "pattern": {
              "fillmode": "overlay",
              "size": 10,
              "solidity": 0.2
             }
            },
            "type": "barpolar"
           }
          ],
          "carpet": [
           {
            "aaxis": {
             "endlinecolor": "#2a3f5f",
             "gridcolor": "white",
             "linecolor": "white",
             "minorgridcolor": "white",
             "startlinecolor": "#2a3f5f"
            },
            "baxis": {
             "endlinecolor": "#2a3f5f",
             "gridcolor": "white",
             "linecolor": "white",
             "minorgridcolor": "white",
             "startlinecolor": "#2a3f5f"
            },
            "type": "carpet"
           }
          ],
          "choropleth": [
           {
            "colorbar": {
             "outlinewidth": 0,
             "ticks": ""
            },
            "type": "choropleth"
           }
          ],
          "contour": [
           {
            "colorbar": {
             "outlinewidth": 0,
             "ticks": ""
            },
            "colorscale": [
             [
              0,
              "#0d0887"
             ],
             [
              0.1111111111111111,
              "#46039f"
             ],
             [
              0.2222222222222222,
              "#7201a8"
             ],
             [
              0.3333333333333333,
              "#9c179e"
             ],
             [
              0.4444444444444444,
              "#bd3786"
             ],
             [
              0.5555555555555556,
              "#d8576b"
             ],
             [
              0.6666666666666666,
              "#ed7953"
             ],
             [
              0.7777777777777778,
              "#fb9f3a"
             ],
             [
              0.8888888888888888,
              "#fdca26"
             ],
             [
              1,
              "#f0f921"
             ]
            ],
            "type": "contour"
           }
          ],
          "contourcarpet": [
           {
            "colorbar": {
             "outlinewidth": 0,
             "ticks": ""
            },
            "type": "contourcarpet"
           }
          ],
          "heatmap": [
           {
            "colorbar": {
             "outlinewidth": 0,
             "ticks": ""
            },
            "colorscale": [
             [
              0,
              "#0d0887"
             ],
             [
              0.1111111111111111,
              "#46039f"
             ],
             [
              0.2222222222222222,
              "#7201a8"
             ],
             [
              0.3333333333333333,
              "#9c179e"
             ],
             [
              0.4444444444444444,
              "#bd3786"
             ],
             [
              0.5555555555555556,
              "#d8576b"
             ],
             [
              0.6666666666666666,
              "#ed7953"
             ],
             [
              0.7777777777777778,
              "#fb9f3a"
             ],
             [
              0.8888888888888888,
              "#fdca26"
             ],
             [
              1,
              "#f0f921"
             ]
            ],
            "type": "heatmap"
           }
          ],
          "heatmapgl": [
           {
            "colorbar": {
             "outlinewidth": 0,
             "ticks": ""
            },
            "colorscale": [
             [
              0,
              "#0d0887"
             ],
             [
              0.1111111111111111,
              "#46039f"
             ],
             [
              0.2222222222222222,
              "#7201a8"
             ],
             [
              0.3333333333333333,
              "#9c179e"
             ],
             [
              0.4444444444444444,
              "#bd3786"
             ],
             [
              0.5555555555555556,
              "#d8576b"
             ],
             [
              0.6666666666666666,
              "#ed7953"
             ],
             [
              0.7777777777777778,
              "#fb9f3a"
             ],
             [
              0.8888888888888888,
              "#fdca26"
             ],
             [
              1,
              "#f0f921"
             ]
            ],
            "type": "heatmapgl"
           }
          ],
          "histogram": [
           {
            "marker": {
             "pattern": {
              "fillmode": "overlay",
              "size": 10,
              "solidity": 0.2
             }
            },
            "type": "histogram"
           }
          ],
          "histogram2d": [
           {
            "colorbar": {
             "outlinewidth": 0,
             "ticks": ""
            },
            "colorscale": [
             [
              0,
              "#0d0887"
             ],
             [
              0.1111111111111111,
              "#46039f"
             ],
             [
              0.2222222222222222,
              "#7201a8"
             ],
             [
              0.3333333333333333,
              "#9c179e"
             ],
             [
              0.4444444444444444,
              "#bd3786"
             ],
             [
              0.5555555555555556,
              "#d8576b"
             ],
             [
              0.6666666666666666,
              "#ed7953"
             ],
             [
              0.7777777777777778,
              "#fb9f3a"
             ],
             [
              0.8888888888888888,
              "#fdca26"
             ],
             [
              1,
              "#f0f921"
             ]
            ],
            "type": "histogram2d"
           }
          ],
          "histogram2dcontour": [
           {
            "colorbar": {
             "outlinewidth": 0,
             "ticks": ""
            },
            "colorscale": [
             [
              0,
              "#0d0887"
             ],
             [
              0.1111111111111111,
              "#46039f"
             ],
             [
              0.2222222222222222,
              "#7201a8"
             ],
             [
              0.3333333333333333,
              "#9c179e"
             ],
             [
              0.4444444444444444,
              "#bd3786"
             ],
             [
              0.5555555555555556,
              "#d8576b"
             ],
             [
              0.6666666666666666,
              "#ed7953"
             ],
             [
              0.7777777777777778,
              "#fb9f3a"
             ],
             [
              0.8888888888888888,
              "#fdca26"
             ],
             [
              1,
              "#f0f921"
             ]
            ],
            "type": "histogram2dcontour"
           }
          ],
          "mesh3d": [
           {
            "colorbar": {
             "outlinewidth": 0,
             "ticks": ""
            },
            "type": "mesh3d"
           }
          ],
          "parcoords": [
           {
            "line": {
             "colorbar": {
              "outlinewidth": 0,
              "ticks": ""
             }
            },
            "type": "parcoords"
           }
          ],
          "pie": [
           {
            "automargin": true,
            "type": "pie"
           }
          ],
          "scatter": [
           {
            "fillpattern": {
             "fillmode": "overlay",
             "size": 10,
             "solidity": 0.2
            },
            "type": "scatter"
           }
          ],
          "scatter3d": [
           {
            "line": {
             "colorbar": {
              "outlinewidth": 0,
              "ticks": ""
             }
            },
            "marker": {
             "colorbar": {
              "outlinewidth": 0,
              "ticks": ""
             }
            },
            "type": "scatter3d"
           }
          ],
          "scattercarpet": [
           {
            "marker": {
             "colorbar": {
              "outlinewidth": 0,
              "ticks": ""
             }
            },
            "type": "scattercarpet"
           }
          ],
          "scattergeo": [
           {
            "marker": {
             "colorbar": {
              "outlinewidth": 0,
              "ticks": ""
             }
            },
            "type": "scattergeo"
           }
          ],
          "scattergl": [
           {
            "marker": {
             "colorbar": {
              "outlinewidth": 0,
              "ticks": ""
             }
            },
            "type": "scattergl"
           }
          ],
          "scattermapbox": [
           {
            "marker": {
             "colorbar": {
              "outlinewidth": 0,
              "ticks": ""
             }
            },
            "type": "scattermapbox"
           }
          ],
          "scatterpolar": [
           {
            "marker": {
             "colorbar": {
              "outlinewidth": 0,
              "ticks": ""
             }
            },
            "type": "scatterpolar"
           }
          ],
          "scatterpolargl": [
           {
            "marker": {
             "colorbar": {
              "outlinewidth": 0,
              "ticks": ""
             }
            },
            "type": "scatterpolargl"
           }
          ],
          "scatterternary": [
           {
            "marker": {
             "colorbar": {
              "outlinewidth": 0,
              "ticks": ""
             }
            },
            "type": "scatterternary"
           }
          ],
          "surface": [
           {
            "colorbar": {
             "outlinewidth": 0,
             "ticks": ""
            },
            "colorscale": [
             [
              0,
              "#0d0887"
             ],
             [
              0.1111111111111111,
              "#46039f"
             ],
             [
              0.2222222222222222,
              "#7201a8"
             ],
             [
              0.3333333333333333,
              "#9c179e"
             ],
             [
              0.4444444444444444,
              "#bd3786"
             ],
             [
              0.5555555555555556,
              "#d8576b"
             ],
             [
              0.6666666666666666,
              "#ed7953"
             ],
             [
              0.7777777777777778,
              "#fb9f3a"
             ],
             [
              0.8888888888888888,
              "#fdca26"
             ],
             [
              1,
              "#f0f921"
             ]
            ],
            "type": "surface"
           }
          ],
          "table": [
           {
            "cells": {
             "fill": {
              "color": "#EBF0F8"
             },
             "line": {
              "color": "white"
             }
            },
            "header": {
             "fill": {
              "color": "#C8D4E3"
             },
             "line": {
              "color": "white"
             }
            },
            "type": "table"
           }
          ]
         },
         "layout": {
          "annotationdefaults": {
           "arrowcolor": "#2a3f5f",
           "arrowhead": 0,
           "arrowwidth": 1
          },
          "autotypenumbers": "strict",
          "coloraxis": {
           "colorbar": {
            "outlinewidth": 0,
            "ticks": ""
           }
          },
          "colorscale": {
           "diverging": [
            [
             0,
             "#8e0152"
            ],
            [
             0.1,
             "#c51b7d"
            ],
            [
             0.2,
             "#de77ae"
            ],
            [
             0.3,
             "#f1b6da"
            ],
            [
             0.4,
             "#fde0ef"
            ],
            [
             0.5,
             "#f7f7f7"
            ],
            [
             0.6,
             "#e6f5d0"
            ],
            [
             0.7,
             "#b8e186"
            ],
            [
             0.8,
             "#7fbc41"
            ],
            [
             0.9,
             "#4d9221"
            ],
            [
             1,
             "#276419"
            ]
           ],
           "sequential": [
            [
             0,
             "#0d0887"
            ],
            [
             0.1111111111111111,
             "#46039f"
            ],
            [
             0.2222222222222222,
             "#7201a8"
            ],
            [
             0.3333333333333333,
             "#9c179e"
            ],
            [
             0.4444444444444444,
             "#bd3786"
            ],
            [
             0.5555555555555556,
             "#d8576b"
            ],
            [
             0.6666666666666666,
             "#ed7953"
            ],
            [
             0.7777777777777778,
             "#fb9f3a"
            ],
            [
             0.8888888888888888,
             "#fdca26"
            ],
            [
             1,
             "#f0f921"
            ]
           ],
           "sequentialminus": [
            [
             0,
             "#0d0887"
            ],
            [
             0.1111111111111111,
             "#46039f"
            ],
            [
             0.2222222222222222,
             "#7201a8"
            ],
            [
             0.3333333333333333,
             "#9c179e"
            ],
            [
             0.4444444444444444,
             "#bd3786"
            ],
            [
             0.5555555555555556,
             "#d8576b"
            ],
            [
             0.6666666666666666,
             "#ed7953"
            ],
            [
             0.7777777777777778,
             "#fb9f3a"
            ],
            [
             0.8888888888888888,
             "#fdca26"
            ],
            [
             1,
             "#f0f921"
            ]
           ]
          },
          "colorway": [
           "#636efa",
           "#EF553B",
           "#00cc96",
           "#ab63fa",
           "#FFA15A",
           "#19d3f3",
           "#FF6692",
           "#B6E880",
           "#FF97FF",
           "#FECB52"
          ],
          "font": {
           "color": "#2a3f5f"
          },
          "geo": {
           "bgcolor": "white",
           "lakecolor": "white",
           "landcolor": "#E5ECF6",
           "showlakes": true,
           "showland": true,
           "subunitcolor": "white"
          },
          "hoverlabel": {
           "align": "left"
          },
          "hovermode": "closest",
          "mapbox": {
           "style": "light"
          },
          "paper_bgcolor": "white",
          "plot_bgcolor": "#E5ECF6",
          "polar": {
           "angularaxis": {
            "gridcolor": "white",
            "linecolor": "white",
            "ticks": ""
           },
           "bgcolor": "#E5ECF6",
           "radialaxis": {
            "gridcolor": "white",
            "linecolor": "white",
            "ticks": ""
           }
          },
          "scene": {
           "xaxis": {
            "backgroundcolor": "#E5ECF6",
            "gridcolor": "white",
            "gridwidth": 2,
            "linecolor": "white",
            "showbackground": true,
            "ticks": "",
            "zerolinecolor": "white"
           },
           "yaxis": {
            "backgroundcolor": "#E5ECF6",
            "gridcolor": "white",
            "gridwidth": 2,
            "linecolor": "white",
            "showbackground": true,
            "ticks": "",
            "zerolinecolor": "white"
           },
           "zaxis": {
            "backgroundcolor": "#E5ECF6",
            "gridcolor": "white",
            "gridwidth": 2,
            "linecolor": "white",
            "showbackground": true,
            "ticks": "",
            "zerolinecolor": "white"
           }
          },
          "shapedefaults": {
           "line": {
            "color": "#2a3f5f"
           }
          },
          "ternary": {
           "aaxis": {
            "gridcolor": "white",
            "linecolor": "white",
            "ticks": ""
           },
           "baxis": {
            "gridcolor": "white",
            "linecolor": "white",
            "ticks": ""
           },
           "bgcolor": "#E5ECF6",
           "caxis": {
            "gridcolor": "white",
            "linecolor": "white",
            "ticks": ""
           }
          },
          "title": {
           "x": 0.05
          },
          "xaxis": {
           "automargin": true,
           "gridcolor": "white",
           "linecolor": "white",
           "ticks": "",
           "title": {
            "standoff": 15
           },
           "zerolinecolor": "white",
           "zerolinewidth": 2
          },
          "yaxis": {
           "automargin": true,
           "gridcolor": "white",
           "linecolor": "white",
           "ticks": "",
           "title": {
            "standoff": 15
           },
           "zerolinecolor": "white",
           "zerolinewidth": 2
          }
         }
        },
        "title": {
         "text": "Percentage of Each Product Category"
        }
       }
      }
     },
     "metadata": {},
     "output_type": "display_data"
    }
   ],
   "source": [
    "#Graph of percentage of each product category\n",
    "fig = px.pie(values = data['category'].value_counts(), names = data['category'].unique(),\n",
    "            title = 'Percentage of Each Product Category')\n",
    "fig.update_traces(textinfo = 'label+percent')\n",
    "fig.show()"
   ]
  },
  {
   "cell_type": "code",
   "execution_count": 57,
   "metadata": {},
   "outputs": [
    {
     "data": {
      "text/html": [
       "<div>\n",
       "<style scoped>\n",
       "    .dataframe tbody tr th:only-of-type {\n",
       "        vertical-align: middle;\n",
       "    }\n",
       "\n",
       "    .dataframe tbody tr th {\n",
       "        vertical-align: top;\n",
       "    }\n",
       "\n",
       "    .dataframe thead th {\n",
       "        text-align: right;\n",
       "    }\n",
       "</style>\n",
       "<table border=\"1\" class=\"dataframe\">\n",
       "  <thead>\n",
       "    <tr style=\"text-align: right;\">\n",
       "      <th></th>\n",
       "      <th>product_id</th>\n",
       "      <th>product_name</th>\n",
       "      <th>category</th>\n",
       "      <th>price</th>\n",
       "      <th>review_score</th>\n",
       "      <th>review_count</th>\n",
       "      <th>sales_month_1</th>\n",
       "      <th>sales_month_2</th>\n",
       "      <th>sales_month_3</th>\n",
       "      <th>sales_month_4</th>\n",
       "      <th>sales_month_5</th>\n",
       "      <th>sales_month_6</th>\n",
       "      <th>sales_month_7</th>\n",
       "      <th>sales_month_8</th>\n",
       "      <th>sales_month_9</th>\n",
       "      <th>sales_month_10</th>\n",
       "      <th>sales_month_11</th>\n",
       "      <th>sales_month_12</th>\n",
       "      <th>total_sales</th>\n",
       "    </tr>\n",
       "  </thead>\n",
       "  <tbody>\n",
       "    <tr>\n",
       "      <th>0</th>\n",
       "      <td>1</td>\n",
       "      <td>Product_1</td>\n",
       "      <td>Clothing</td>\n",
       "      <td>190.40</td>\n",
       "      <td>1.7</td>\n",
       "      <td>220</td>\n",
       "      <td>479</td>\n",
       "      <td>449</td>\n",
       "      <td>92</td>\n",
       "      <td>784</td>\n",
       "      <td>604</td>\n",
       "      <td>904</td>\n",
       "      <td>446</td>\n",
       "      <td>603</td>\n",
       "      <td>807</td>\n",
       "      <td>252</td>\n",
       "      <td>695</td>\n",
       "      <td>306</td>\n",
       "      <td>6421</td>\n",
       "    </tr>\n",
       "    <tr>\n",
       "      <th>1</th>\n",
       "      <td>2</td>\n",
       "      <td>Product_2</td>\n",
       "      <td>Home &amp; Kitchen</td>\n",
       "      <td>475.60</td>\n",
       "      <td>3.2</td>\n",
       "      <td>903</td>\n",
       "      <td>21</td>\n",
       "      <td>989</td>\n",
       "      <td>861</td>\n",
       "      <td>863</td>\n",
       "      <td>524</td>\n",
       "      <td>128</td>\n",
       "      <td>610</td>\n",
       "      <td>436</td>\n",
       "      <td>176</td>\n",
       "      <td>294</td>\n",
       "      <td>772</td>\n",
       "      <td>353</td>\n",
       "      <td>6027</td>\n",
       "    </tr>\n",
       "    <tr>\n",
       "      <th>2</th>\n",
       "      <td>3</td>\n",
       "      <td>Product_3</td>\n",
       "      <td>Toys</td>\n",
       "      <td>367.34</td>\n",
       "      <td>4.5</td>\n",
       "      <td>163</td>\n",
       "      <td>348</td>\n",
       "      <td>558</td>\n",
       "      <td>567</td>\n",
       "      <td>143</td>\n",
       "      <td>771</td>\n",
       "      <td>409</td>\n",
       "      <td>290</td>\n",
       "      <td>828</td>\n",
       "      <td>340</td>\n",
       "      <td>667</td>\n",
       "      <td>267</td>\n",
       "      <td>392</td>\n",
       "      <td>5580</td>\n",
       "    </tr>\n",
       "    <tr>\n",
       "      <th>3</th>\n",
       "      <td>4</td>\n",
       "      <td>Product_4</td>\n",
       "      <td>Toys</td>\n",
       "      <td>301.34</td>\n",
       "      <td>3.9</td>\n",
       "      <td>951</td>\n",
       "      <td>725</td>\n",
       "      <td>678</td>\n",
       "      <td>59</td>\n",
       "      <td>15</td>\n",
       "      <td>937</td>\n",
       "      <td>421</td>\n",
       "      <td>670</td>\n",
       "      <td>933</td>\n",
       "      <td>56</td>\n",
       "      <td>157</td>\n",
       "      <td>168</td>\n",
       "      <td>203</td>\n",
       "      <td>5022</td>\n",
       "    </tr>\n",
       "    <tr>\n",
       "      <th>4</th>\n",
       "      <td>5</td>\n",
       "      <td>Product_5</td>\n",
       "      <td>Books</td>\n",
       "      <td>82.23</td>\n",
       "      <td>4.2</td>\n",
       "      <td>220</td>\n",
       "      <td>682</td>\n",
       "      <td>451</td>\n",
       "      <td>649</td>\n",
       "      <td>301</td>\n",
       "      <td>620</td>\n",
       "      <td>293</td>\n",
       "      <td>411</td>\n",
       "      <td>258</td>\n",
       "      <td>854</td>\n",
       "      <td>548</td>\n",
       "      <td>770</td>\n",
       "      <td>257</td>\n",
       "      <td>6094</td>\n",
       "    </tr>\n",
       "  </tbody>\n",
       "</table>\n",
       "</div>"
      ],
      "text/plain": [
       "   product_id product_name        category   price  review_score  \\\n",
       "0           1    Product_1        Clothing  190.40           1.7   \n",
       "1           2    Product_2  Home & Kitchen  475.60           3.2   \n",
       "2           3    Product_3            Toys  367.34           4.5   \n",
       "3           4    Product_4            Toys  301.34           3.9   \n",
       "4           5    Product_5           Books   82.23           4.2   \n",
       "\n",
       "   review_count  sales_month_1  sales_month_2  sales_month_3  sales_month_4  \\\n",
       "0           220            479            449             92            784   \n",
       "1           903             21            989            861            863   \n",
       "2           163            348            558            567            143   \n",
       "3           951            725            678             59             15   \n",
       "4           220            682            451            649            301   \n",
       "\n",
       "   sales_month_5  sales_month_6  sales_month_7  sales_month_8  sales_month_9  \\\n",
       "0            604            904            446            603            807   \n",
       "1            524            128            610            436            176   \n",
       "2            771            409            290            828            340   \n",
       "3            937            421            670            933             56   \n",
       "4            620            293            411            258            854   \n",
       "\n",
       "   sales_month_10  sales_month_11  sales_month_12  total_sales  \n",
       "0             252             695             306         6421  \n",
       "1             294             772             353         6027  \n",
       "2             667             267             392         5580  \n",
       "3             157             168             203         5022  \n",
       "4             548             770             257         6094  "
      ]
     },
     "execution_count": 57,
     "metadata": {},
     "output_type": "execute_result"
    }
   ],
   "source": [
    "#Creating a new column total sales by summing the sales over the past year\n",
    "data['total_sales'] = data[['sales_month_1', 'sales_month_2', 'sales_month_3', \n",
    "                        'sales_month_4', 'sales_month_5', 'sales_month_6', \n",
    "                        'sales_month_7', 'sales_month_8', 'sales_month_9', \n",
    "                        'sales_month_10', 'sales_month_11', 'sales_month_12']].sum(axis = 1)\n",
    "data.head()"
   ]
  },
  {
   "cell_type": "code",
   "execution_count": 58,
   "metadata": {},
   "outputs": [
    {
     "data": {
      "text/html": [
       "<div>\n",
       "<style scoped>\n",
       "    .dataframe tbody tr th:only-of-type {\n",
       "        vertical-align: middle;\n",
       "    }\n",
       "\n",
       "    .dataframe tbody tr th {\n",
       "        vertical-align: top;\n",
       "    }\n",
       "\n",
       "    .dataframe thead th {\n",
       "        text-align: right;\n",
       "    }\n",
       "</style>\n",
       "<table border=\"1\" class=\"dataframe\">\n",
       "  <thead>\n",
       "    <tr style=\"text-align: right;\">\n",
       "      <th></th>\n",
       "      <th>product_name</th>\n",
       "      <th>category</th>\n",
       "      <th>price</th>\n",
       "      <th>review_score</th>\n",
       "      <th>review_count</th>\n",
       "      <th>total_sales</th>\n",
       "    </tr>\n",
       "  </thead>\n",
       "  <tbody>\n",
       "    <tr>\n",
       "      <th>0</th>\n",
       "      <td>Product_1</td>\n",
       "      <td>Clothing</td>\n",
       "      <td>190.40</td>\n",
       "      <td>1.7</td>\n",
       "      <td>220</td>\n",
       "      <td>6421</td>\n",
       "    </tr>\n",
       "    <tr>\n",
       "      <th>1</th>\n",
       "      <td>Product_2</td>\n",
       "      <td>Home &amp; Kitchen</td>\n",
       "      <td>475.60</td>\n",
       "      <td>3.2</td>\n",
       "      <td>903</td>\n",
       "      <td>6027</td>\n",
       "    </tr>\n",
       "    <tr>\n",
       "      <th>2</th>\n",
       "      <td>Product_3</td>\n",
       "      <td>Toys</td>\n",
       "      <td>367.34</td>\n",
       "      <td>4.5</td>\n",
       "      <td>163</td>\n",
       "      <td>5580</td>\n",
       "    </tr>\n",
       "    <tr>\n",
       "      <th>3</th>\n",
       "      <td>Product_4</td>\n",
       "      <td>Toys</td>\n",
       "      <td>301.34</td>\n",
       "      <td>3.9</td>\n",
       "      <td>951</td>\n",
       "      <td>5022</td>\n",
       "    </tr>\n",
       "    <tr>\n",
       "      <th>4</th>\n",
       "      <td>Product_5</td>\n",
       "      <td>Books</td>\n",
       "      <td>82.23</td>\n",
       "      <td>4.2</td>\n",
       "      <td>220</td>\n",
       "      <td>6094</td>\n",
       "    </tr>\n",
       "    <tr>\n",
       "      <th>5</th>\n",
       "      <td>Product_6</td>\n",
       "      <td>Toys</td>\n",
       "      <td>82.22</td>\n",
       "      <td>3.6</td>\n",
       "      <td>270</td>\n",
       "      <td>6453</td>\n",
       "    </tr>\n",
       "    <tr>\n",
       "      <th>6</th>\n",
       "      <td>Product_7</td>\n",
       "      <td>Electronics</td>\n",
       "      <td>33.75</td>\n",
       "      <td>3.8</td>\n",
       "      <td>632</td>\n",
       "      <td>5298</td>\n",
       "    </tr>\n",
       "    <tr>\n",
       "      <th>7</th>\n",
       "      <td>Product_8</td>\n",
       "      <td>Electronics</td>\n",
       "      <td>433.76</td>\n",
       "      <td>4.4</td>\n",
       "      <td>906</td>\n",
       "      <td>4769</td>\n",
       "    </tr>\n",
       "    <tr>\n",
       "      <th>8</th>\n",
       "      <td>Product_9</td>\n",
       "      <td>Electronics</td>\n",
       "      <td>302.55</td>\n",
       "      <td>2.0</td>\n",
       "      <td>848</td>\n",
       "      <td>5677</td>\n",
       "    </tr>\n",
       "    <tr>\n",
       "      <th>9</th>\n",
       "      <td>Product_10</td>\n",
       "      <td>Clothing</td>\n",
       "      <td>355.50</td>\n",
       "      <td>3.0</td>\n",
       "      <td>400</td>\n",
       "      <td>4879</td>\n",
       "    </tr>\n",
       "  </tbody>\n",
       "</table>\n",
       "</div>"
      ],
      "text/plain": [
       "  product_name        category   price  review_score  review_count  \\\n",
       "0    Product_1        Clothing  190.40           1.7           220   \n",
       "1    Product_2  Home & Kitchen  475.60           3.2           903   \n",
       "2    Product_3            Toys  367.34           4.5           163   \n",
       "3    Product_4            Toys  301.34           3.9           951   \n",
       "4    Product_5           Books   82.23           4.2           220   \n",
       "5    Product_6            Toys   82.22           3.6           270   \n",
       "6    Product_7     Electronics   33.75           3.8           632   \n",
       "7    Product_8     Electronics  433.76           4.4           906   \n",
       "8    Product_9     Electronics  302.55           2.0           848   \n",
       "9   Product_10        Clothing  355.50           3.0           400   \n",
       "\n",
       "   total_sales  \n",
       "0         6421  \n",
       "1         6027  \n",
       "2         5580  \n",
       "3         5022  \n",
       "4         6094  \n",
       "5         6453  \n",
       "6         5298  \n",
       "7         4769  \n",
       "8         5677  \n",
       "9         4879  "
      ]
     },
     "execution_count": 58,
     "metadata": {},
     "output_type": "execute_result"
    }
   ],
   "source": [
    "#Creating a new dataframe with total sales\n",
    "new_data = data[['product_name', 'category', 'price', 'review_score', 'review_count', 'total_sales']]\n",
    "new_data.head(10)"
   ]
  },
  {
   "cell_type": "code",
   "execution_count": 59,
   "metadata": {},
   "outputs": [
    {
     "name": "stdout",
     "output_type": "stream",
     "text": [
      "Maximum total sales is:  9151 units\n"
     ]
    }
   ],
   "source": [
    "sales_max = np.max(new_data['total_sales'])\n",
    "print(\"Maximum total sales is: \", sales_max, \"units\")"
   ]
  },
  {
   "cell_type": "code",
   "execution_count": 60,
   "metadata": {},
   "outputs": [
    {
     "name": "stdout",
     "output_type": "stream",
     "text": [
      "Product category with maximum sales is:  Electronics\n"
     ]
    }
   ],
   "source": [
    "category_max = new_data.groupby('category')['total_sales'].max().idxmax()\n",
    "print(\"Product category with maximum sales is: \", category_max)"
   ]
  },
  {
   "cell_type": "code",
   "execution_count": 61,
   "metadata": {},
   "outputs": [
    {
     "name": "stdout",
     "output_type": "stream",
     "text": [
      "Minimum total sales is:  2972 units\n"
     ]
    }
   ],
   "source": [
    "sales_min = np.min(new_data['total_sales'])\n",
    "print(\"Minimum total sales is: \", sales_min, \"units\")"
   ]
  },
  {
   "cell_type": "code",
   "execution_count": 62,
   "metadata": {},
   "outputs": [
    {
     "data": {
      "text/html": [
       "<div>\n",
       "<style scoped>\n",
       "    .dataframe tbody tr th:only-of-type {\n",
       "        vertical-align: middle;\n",
       "    }\n",
       "\n",
       "    .dataframe tbody tr th {\n",
       "        vertical-align: top;\n",
       "    }\n",
       "\n",
       "    .dataframe thead th {\n",
       "        text-align: right;\n",
       "    }\n",
       "</style>\n",
       "<table border=\"1\" class=\"dataframe\">\n",
       "  <thead>\n",
       "    <tr style=\"text-align: right;\">\n",
       "      <th></th>\n",
       "      <th>price</th>\n",
       "      <th>review_score</th>\n",
       "      <th>review_count</th>\n",
       "      <th>total_sales</th>\n",
       "    </tr>\n",
       "  </thead>\n",
       "  <tbody>\n",
       "    <tr>\n",
       "      <th>count</th>\n",
       "      <td>1000.000000</td>\n",
       "      <td>1000.000000</td>\n",
       "      <td>1000.000000</td>\n",
       "      <td>1000.000000</td>\n",
       "    </tr>\n",
       "    <tr>\n",
       "      <th>mean</th>\n",
       "      <td>247.677130</td>\n",
       "      <td>3.027600</td>\n",
       "      <td>526.506000</td>\n",
       "      <td>6019.912000</td>\n",
       "    </tr>\n",
       "    <tr>\n",
       "      <th>std</th>\n",
       "      <td>144.607983</td>\n",
       "      <td>1.171243</td>\n",
       "      <td>282.269932</td>\n",
       "      <td>992.273787</td>\n",
       "    </tr>\n",
       "    <tr>\n",
       "      <th>min</th>\n",
       "      <td>7.290000</td>\n",
       "      <td>1.000000</td>\n",
       "      <td>1.000000</td>\n",
       "      <td>2972.000000</td>\n",
       "    </tr>\n",
       "    <tr>\n",
       "      <th>25%</th>\n",
       "      <td>121.810000</td>\n",
       "      <td>2.000000</td>\n",
       "      <td>283.750000</td>\n",
       "      <td>5392.000000</td>\n",
       "    </tr>\n",
       "    <tr>\n",
       "      <th>50%</th>\n",
       "      <td>250.920000</td>\n",
       "      <td>3.100000</td>\n",
       "      <td>543.000000</td>\n",
       "      <td>5992.000000</td>\n",
       "    </tr>\n",
       "    <tr>\n",
       "      <th>75%</th>\n",
       "      <td>373.435000</td>\n",
       "      <td>4.000000</td>\n",
       "      <td>772.000000</td>\n",
       "      <td>6680.000000</td>\n",
       "    </tr>\n",
       "    <tr>\n",
       "      <th>max</th>\n",
       "      <td>499.860000</td>\n",
       "      <td>5.000000</td>\n",
       "      <td>999.000000</td>\n",
       "      <td>9151.000000</td>\n",
       "    </tr>\n",
       "  </tbody>\n",
       "</table>\n",
       "</div>"
      ],
      "text/plain": [
       "             price  review_score  review_count  total_sales\n",
       "count  1000.000000   1000.000000   1000.000000  1000.000000\n",
       "mean    247.677130      3.027600    526.506000  6019.912000\n",
       "std     144.607983      1.171243    282.269932   992.273787\n",
       "min       7.290000      1.000000      1.000000  2972.000000\n",
       "25%     121.810000      2.000000    283.750000  5392.000000\n",
       "50%     250.920000      3.100000    543.000000  5992.000000\n",
       "75%     373.435000      4.000000    772.000000  6680.000000\n",
       "max     499.860000      5.000000    999.000000  9151.000000"
      ]
     },
     "execution_count": 62,
     "metadata": {},
     "output_type": "execute_result"
    }
   ],
   "source": [
    "new_data.describe()"
   ]
  },
  {
   "cell_type": "code",
   "execution_count": 63,
   "metadata": {},
   "outputs": [
    {
     "data": {
      "text/html": [
       "<div>\n",
       "<style scoped>\n",
       "    .dataframe tbody tr th:only-of-type {\n",
       "        vertical-align: middle;\n",
       "    }\n",
       "\n",
       "    .dataframe tbody tr th {\n",
       "        vertical-align: top;\n",
       "    }\n",
       "\n",
       "    .dataframe thead th {\n",
       "        text-align: right;\n",
       "    }\n",
       "</style>\n",
       "<table border=\"1\" class=\"dataframe\">\n",
       "  <thead>\n",
       "    <tr style=\"text-align: right;\">\n",
       "      <th></th>\n",
       "      <th>category</th>\n",
       "      <th>price</th>\n",
       "      <th>review_score</th>\n",
       "      <th>review_count</th>\n",
       "      <th>total_sales</th>\n",
       "    </tr>\n",
       "    <tr>\n",
       "      <th>product_name</th>\n",
       "      <th></th>\n",
       "      <th></th>\n",
       "      <th></th>\n",
       "      <th></th>\n",
       "      <th></th>\n",
       "    </tr>\n",
       "  </thead>\n",
       "  <tbody>\n",
       "    <tr>\n",
       "      <th>Product_224</th>\n",
       "      <td>Electronics</td>\n",
       "      <td>187.02</td>\n",
       "      <td>4.8</td>\n",
       "      <td>613</td>\n",
       "      <td>9151</td>\n",
       "    </tr>\n",
       "    <tr>\n",
       "      <th>Product_286</th>\n",
       "      <td>Clothing</td>\n",
       "      <td>22.79</td>\n",
       "      <td>3.1</td>\n",
       "      <td>728</td>\n",
       "      <td>8921</td>\n",
       "    </tr>\n",
       "    <tr>\n",
       "      <th>Product_734</th>\n",
       "      <td>Health</td>\n",
       "      <td>263.92</td>\n",
       "      <td>2.7</td>\n",
       "      <td>30</td>\n",
       "      <td>8914</td>\n",
       "    </tr>\n",
       "    <tr>\n",
       "      <th>Product_905</th>\n",
       "      <td>Sports</td>\n",
       "      <td>213.61</td>\n",
       "      <td>4.0</td>\n",
       "      <td>520</td>\n",
       "      <td>8783</td>\n",
       "    </tr>\n",
       "    <tr>\n",
       "      <th>Product_180</th>\n",
       "      <td>Sports</td>\n",
       "      <td>73.07</td>\n",
       "      <td>3.2</td>\n",
       "      <td>268</td>\n",
       "      <td>8775</td>\n",
       "    </tr>\n",
       "    <tr>\n",
       "      <th>Product_853</th>\n",
       "      <td>Books</td>\n",
       "      <td>108.90</td>\n",
       "      <td>4.4</td>\n",
       "      <td>305</td>\n",
       "      <td>8765</td>\n",
       "    </tr>\n",
       "    <tr>\n",
       "      <th>Product_239</th>\n",
       "      <td>Health</td>\n",
       "      <td>324.51</td>\n",
       "      <td>4.9</td>\n",
       "      <td>575</td>\n",
       "      <td>8724</td>\n",
       "    </tr>\n",
       "    <tr>\n",
       "      <th>Product_924</th>\n",
       "      <td>Electronics</td>\n",
       "      <td>400.93</td>\n",
       "      <td>2.4</td>\n",
       "      <td>758</td>\n",
       "      <td>8525</td>\n",
       "    </tr>\n",
       "    <tr>\n",
       "      <th>Product_937</th>\n",
       "      <td>Electronics</td>\n",
       "      <td>14.10</td>\n",
       "      <td>2.1</td>\n",
       "      <td>883</td>\n",
       "      <td>8459</td>\n",
       "    </tr>\n",
       "    <tr>\n",
       "      <th>Product_197</th>\n",
       "      <td>Toys</td>\n",
       "      <td>364.35</td>\n",
       "      <td>4.9</td>\n",
       "      <td>104</td>\n",
       "      <td>8418</td>\n",
       "    </tr>\n",
       "  </tbody>\n",
       "</table>\n",
       "</div>"
      ],
      "text/plain": [
       "                 category   price  review_score  review_count  total_sales\n",
       "product_name                                                              \n",
       "Product_224   Electronics  187.02           4.8           613         9151\n",
       "Product_286      Clothing   22.79           3.1           728         8921\n",
       "Product_734        Health  263.92           2.7            30         8914\n",
       "Product_905        Sports  213.61           4.0           520         8783\n",
       "Product_180        Sports   73.07           3.2           268         8775\n",
       "Product_853         Books  108.90           4.4           305         8765\n",
       "Product_239        Health  324.51           4.9           575         8724\n",
       "Product_924   Electronics  400.93           2.4           758         8525\n",
       "Product_937   Electronics   14.10           2.1           883         8459\n",
       "Product_197          Toys  364.35           4.9           104         8418"
      ]
     },
     "execution_count": 63,
     "metadata": {},
     "output_type": "execute_result"
    }
   ],
   "source": [
    "#Top performing product\n",
    "product = new_data.groupby('product_name').sum()\n",
    "product_10 = product.sort_values(['total_sales'], ascending = False).head(10)\n",
    "product_10"
   ]
  },
  {
   "cell_type": "code",
   "execution_count": 64,
   "metadata": {},
   "outputs": [
    {
     "data": {
      "application/vnd.plotly.v1+json": {
       "config": {
        "plotlyServerURL": "https://plot.ly"
       },
       "data": [
        {
         "alignmentgroup": "True",
         "hovertemplate": "x=%{x}<br>y=%{y}<extra></extra>",
         "legendgroup": "",
         "marker": {
          "color": "peachpuff",
          "line": {
           "color": "coral",
           "width": 1
          },
          "pattern": {
           "shape": ""
          }
         },
         "name": "",
         "offsetgroup": "",
         "orientation": "h",
         "showlegend": false,
         "textposition": "auto",
         "texttemplate": "%{x}",
         "type": "bar",
         "x": [
          9151,
          8921,
          8914,
          8783,
          8775,
          8765,
          8724,
          8525,
          8459,
          8418
         ],
         "xaxis": "x",
         "y": [
          "Product_224",
          "Product_286",
          "Product_734",
          "Product_905",
          "Product_180",
          "Product_853",
          "Product_239",
          "Product_924",
          "Product_937",
          "Product_197"
         ],
         "yaxis": "y"
        }
       ],
       "layout": {
        "barmode": "relative",
        "legend": {
         "tracegroupgap": 0
        },
        "template": {
         "data": {
          "bar": [
           {
            "error_x": {
             "color": "#2a3f5f"
            },
            "error_y": {
             "color": "#2a3f5f"
            },
            "marker": {
             "line": {
              "color": "#E5ECF6",
              "width": 0.5
             },
             "pattern": {
              "fillmode": "overlay",
              "size": 10,
              "solidity": 0.2
             }
            },
            "type": "bar"
           }
          ],
          "barpolar": [
           {
            "marker": {
             "line": {
              "color": "#E5ECF6",
              "width": 0.5
             },
             "pattern": {
              "fillmode": "overlay",
              "size": 10,
              "solidity": 0.2
             }
            },
            "type": "barpolar"
           }
          ],
          "carpet": [
           {
            "aaxis": {
             "endlinecolor": "#2a3f5f",
             "gridcolor": "white",
             "linecolor": "white",
             "minorgridcolor": "white",
             "startlinecolor": "#2a3f5f"
            },
            "baxis": {
             "endlinecolor": "#2a3f5f",
             "gridcolor": "white",
             "linecolor": "white",
             "minorgridcolor": "white",
             "startlinecolor": "#2a3f5f"
            },
            "type": "carpet"
           }
          ],
          "choropleth": [
           {
            "colorbar": {
             "outlinewidth": 0,
             "ticks": ""
            },
            "type": "choropleth"
           }
          ],
          "contour": [
           {
            "colorbar": {
             "outlinewidth": 0,
             "ticks": ""
            },
            "colorscale": [
             [
              0,
              "#0d0887"
             ],
             [
              0.1111111111111111,
              "#46039f"
             ],
             [
              0.2222222222222222,
              "#7201a8"
             ],
             [
              0.3333333333333333,
              "#9c179e"
             ],
             [
              0.4444444444444444,
              "#bd3786"
             ],
             [
              0.5555555555555556,
              "#d8576b"
             ],
             [
              0.6666666666666666,
              "#ed7953"
             ],
             [
              0.7777777777777778,
              "#fb9f3a"
             ],
             [
              0.8888888888888888,
              "#fdca26"
             ],
             [
              1,
              "#f0f921"
             ]
            ],
            "type": "contour"
           }
          ],
          "contourcarpet": [
           {
            "colorbar": {
             "outlinewidth": 0,
             "ticks": ""
            },
            "type": "contourcarpet"
           }
          ],
          "heatmap": [
           {
            "colorbar": {
             "outlinewidth": 0,
             "ticks": ""
            },
            "colorscale": [
             [
              0,
              "#0d0887"
             ],
             [
              0.1111111111111111,
              "#46039f"
             ],
             [
              0.2222222222222222,
              "#7201a8"
             ],
             [
              0.3333333333333333,
              "#9c179e"
             ],
             [
              0.4444444444444444,
              "#bd3786"
             ],
             [
              0.5555555555555556,
              "#d8576b"
             ],
             [
              0.6666666666666666,
              "#ed7953"
             ],
             [
              0.7777777777777778,
              "#fb9f3a"
             ],
             [
              0.8888888888888888,
              "#fdca26"
             ],
             [
              1,
              "#f0f921"
             ]
            ],
            "type": "heatmap"
           }
          ],
          "heatmapgl": [
           {
            "colorbar": {
             "outlinewidth": 0,
             "ticks": ""
            },
            "colorscale": [
             [
              0,
              "#0d0887"
             ],
             [
              0.1111111111111111,
              "#46039f"
             ],
             [
              0.2222222222222222,
              "#7201a8"
             ],
             [
              0.3333333333333333,
              "#9c179e"
             ],
             [
              0.4444444444444444,
              "#bd3786"
             ],
             [
              0.5555555555555556,
              "#d8576b"
             ],
             [
              0.6666666666666666,
              "#ed7953"
             ],
             [
              0.7777777777777778,
              "#fb9f3a"
             ],
             [
              0.8888888888888888,
              "#fdca26"
             ],
             [
              1,
              "#f0f921"
             ]
            ],
            "type": "heatmapgl"
           }
          ],
          "histogram": [
           {
            "marker": {
             "pattern": {
              "fillmode": "overlay",
              "size": 10,
              "solidity": 0.2
             }
            },
            "type": "histogram"
           }
          ],
          "histogram2d": [
           {
            "colorbar": {
             "outlinewidth": 0,
             "ticks": ""
            },
            "colorscale": [
             [
              0,
              "#0d0887"
             ],
             [
              0.1111111111111111,
              "#46039f"
             ],
             [
              0.2222222222222222,
              "#7201a8"
             ],
             [
              0.3333333333333333,
              "#9c179e"
             ],
             [
              0.4444444444444444,
              "#bd3786"
             ],
             [
              0.5555555555555556,
              "#d8576b"
             ],
             [
              0.6666666666666666,
              "#ed7953"
             ],
             [
              0.7777777777777778,
              "#fb9f3a"
             ],
             [
              0.8888888888888888,
              "#fdca26"
             ],
             [
              1,
              "#f0f921"
             ]
            ],
            "type": "histogram2d"
           }
          ],
          "histogram2dcontour": [
           {
            "colorbar": {
             "outlinewidth": 0,
             "ticks": ""
            },
            "colorscale": [
             [
              0,
              "#0d0887"
             ],
             [
              0.1111111111111111,
              "#46039f"
             ],
             [
              0.2222222222222222,
              "#7201a8"
             ],
             [
              0.3333333333333333,
              "#9c179e"
             ],
             [
              0.4444444444444444,
              "#bd3786"
             ],
             [
              0.5555555555555556,
              "#d8576b"
             ],
             [
              0.6666666666666666,
              "#ed7953"
             ],
             [
              0.7777777777777778,
              "#fb9f3a"
             ],
             [
              0.8888888888888888,
              "#fdca26"
             ],
             [
              1,
              "#f0f921"
             ]
            ],
            "type": "histogram2dcontour"
           }
          ],
          "mesh3d": [
           {
            "colorbar": {
             "outlinewidth": 0,
             "ticks": ""
            },
            "type": "mesh3d"
           }
          ],
          "parcoords": [
           {
            "line": {
             "colorbar": {
              "outlinewidth": 0,
              "ticks": ""
             }
            },
            "type": "parcoords"
           }
          ],
          "pie": [
           {
            "automargin": true,
            "type": "pie"
           }
          ],
          "scatter": [
           {
            "fillpattern": {
             "fillmode": "overlay",
             "size": 10,
             "solidity": 0.2
            },
            "type": "scatter"
           }
          ],
          "scatter3d": [
           {
            "line": {
             "colorbar": {
              "outlinewidth": 0,
              "ticks": ""
             }
            },
            "marker": {
             "colorbar": {
              "outlinewidth": 0,
              "ticks": ""
             }
            },
            "type": "scatter3d"
           }
          ],
          "scattercarpet": [
           {
            "marker": {
             "colorbar": {
              "outlinewidth": 0,
              "ticks": ""
             }
            },
            "type": "scattercarpet"
           }
          ],
          "scattergeo": [
           {
            "marker": {
             "colorbar": {
              "outlinewidth": 0,
              "ticks": ""
             }
            },
            "type": "scattergeo"
           }
          ],
          "scattergl": [
           {
            "marker": {
             "colorbar": {
              "outlinewidth": 0,
              "ticks": ""
             }
            },
            "type": "scattergl"
           }
          ],
          "scattermapbox": [
           {
            "marker": {
             "colorbar": {
              "outlinewidth": 0,
              "ticks": ""
             }
            },
            "type": "scattermapbox"
           }
          ],
          "scatterpolar": [
           {
            "marker": {
             "colorbar": {
              "outlinewidth": 0,
              "ticks": ""
             }
            },
            "type": "scatterpolar"
           }
          ],
          "scatterpolargl": [
           {
            "marker": {
             "colorbar": {
              "outlinewidth": 0,
              "ticks": ""
             }
            },
            "type": "scatterpolargl"
           }
          ],
          "scatterternary": [
           {
            "marker": {
             "colorbar": {
              "outlinewidth": 0,
              "ticks": ""
             }
            },
            "type": "scatterternary"
           }
          ],
          "surface": [
           {
            "colorbar": {
             "outlinewidth": 0,
             "ticks": ""
            },
            "colorscale": [
             [
              0,
              "#0d0887"
             ],
             [
              0.1111111111111111,
              "#46039f"
             ],
             [
              0.2222222222222222,
              "#7201a8"
             ],
             [
              0.3333333333333333,
              "#9c179e"
             ],
             [
              0.4444444444444444,
              "#bd3786"
             ],
             [
              0.5555555555555556,
              "#d8576b"
             ],
             [
              0.6666666666666666,
              "#ed7953"
             ],
             [
              0.7777777777777778,
              "#fb9f3a"
             ],
             [
              0.8888888888888888,
              "#fdca26"
             ],
             [
              1,
              "#f0f921"
             ]
            ],
            "type": "surface"
           }
          ],
          "table": [
           {
            "cells": {
             "fill": {
              "color": "#EBF0F8"
             },
             "line": {
              "color": "white"
             }
            },
            "header": {
             "fill": {
              "color": "#C8D4E3"
             },
             "line": {
              "color": "white"
             }
            },
            "type": "table"
           }
          ]
         },
         "layout": {
          "annotationdefaults": {
           "arrowcolor": "#2a3f5f",
           "arrowhead": 0,
           "arrowwidth": 1
          },
          "autotypenumbers": "strict",
          "coloraxis": {
           "colorbar": {
            "outlinewidth": 0,
            "ticks": ""
           }
          },
          "colorscale": {
           "diverging": [
            [
             0,
             "#8e0152"
            ],
            [
             0.1,
             "#c51b7d"
            ],
            [
             0.2,
             "#de77ae"
            ],
            [
             0.3,
             "#f1b6da"
            ],
            [
             0.4,
             "#fde0ef"
            ],
            [
             0.5,
             "#f7f7f7"
            ],
            [
             0.6,
             "#e6f5d0"
            ],
            [
             0.7,
             "#b8e186"
            ],
            [
             0.8,
             "#7fbc41"
            ],
            [
             0.9,
             "#4d9221"
            ],
            [
             1,
             "#276419"
            ]
           ],
           "sequential": [
            [
             0,
             "#0d0887"
            ],
            [
             0.1111111111111111,
             "#46039f"
            ],
            [
             0.2222222222222222,
             "#7201a8"
            ],
            [
             0.3333333333333333,
             "#9c179e"
            ],
            [
             0.4444444444444444,
             "#bd3786"
            ],
            [
             0.5555555555555556,
             "#d8576b"
            ],
            [
             0.6666666666666666,
             "#ed7953"
            ],
            [
             0.7777777777777778,
             "#fb9f3a"
            ],
            [
             0.8888888888888888,
             "#fdca26"
            ],
            [
             1,
             "#f0f921"
            ]
           ],
           "sequentialminus": [
            [
             0,
             "#0d0887"
            ],
            [
             0.1111111111111111,
             "#46039f"
            ],
            [
             0.2222222222222222,
             "#7201a8"
            ],
            [
             0.3333333333333333,
             "#9c179e"
            ],
            [
             0.4444444444444444,
             "#bd3786"
            ],
            [
             0.5555555555555556,
             "#d8576b"
            ],
            [
             0.6666666666666666,
             "#ed7953"
            ],
            [
             0.7777777777777778,
             "#fb9f3a"
            ],
            [
             0.8888888888888888,
             "#fdca26"
            ],
            [
             1,
             "#f0f921"
            ]
           ]
          },
          "colorway": [
           "#636efa",
           "#EF553B",
           "#00cc96",
           "#ab63fa",
           "#FFA15A",
           "#19d3f3",
           "#FF6692",
           "#B6E880",
           "#FF97FF",
           "#FECB52"
          ],
          "font": {
           "color": "#2a3f5f"
          },
          "geo": {
           "bgcolor": "white",
           "lakecolor": "white",
           "landcolor": "#E5ECF6",
           "showlakes": true,
           "showland": true,
           "subunitcolor": "white"
          },
          "hoverlabel": {
           "align": "left"
          },
          "hovermode": "closest",
          "mapbox": {
           "style": "light"
          },
          "paper_bgcolor": "white",
          "plot_bgcolor": "#E5ECF6",
          "polar": {
           "angularaxis": {
            "gridcolor": "white",
            "linecolor": "white",
            "ticks": ""
           },
           "bgcolor": "#E5ECF6",
           "radialaxis": {
            "gridcolor": "white",
            "linecolor": "white",
            "ticks": ""
           }
          },
          "scene": {
           "xaxis": {
            "backgroundcolor": "#E5ECF6",
            "gridcolor": "white",
            "gridwidth": 2,
            "linecolor": "white",
            "showbackground": true,
            "ticks": "",
            "zerolinecolor": "white"
           },
           "yaxis": {
            "backgroundcolor": "#E5ECF6",
            "gridcolor": "white",
            "gridwidth": 2,
            "linecolor": "white",
            "showbackground": true,
            "ticks": "",
            "zerolinecolor": "white"
           },
           "zaxis": {
            "backgroundcolor": "#E5ECF6",
            "gridcolor": "white",
            "gridwidth": 2,
            "linecolor": "white",
            "showbackground": true,
            "ticks": "",
            "zerolinecolor": "white"
           }
          },
          "shapedefaults": {
           "line": {
            "color": "#2a3f5f"
           }
          },
          "ternary": {
           "aaxis": {
            "gridcolor": "white",
            "linecolor": "white",
            "ticks": ""
           },
           "baxis": {
            "gridcolor": "white",
            "linecolor": "white",
            "ticks": ""
           },
           "bgcolor": "#E5ECF6",
           "caxis": {
            "gridcolor": "white",
            "linecolor": "white",
            "ticks": ""
           }
          },
          "title": {
           "x": 0.05
          },
          "xaxis": {
           "automargin": true,
           "gridcolor": "white",
           "linecolor": "white",
           "ticks": "",
           "title": {
            "standoff": 15
           },
           "zerolinecolor": "white",
           "zerolinewidth": 2
          },
          "yaxis": {
           "automargin": true,
           "gridcolor": "white",
           "linecolor": "white",
           "ticks": "",
           "title": {
            "standoff": 15
           },
           "zerolinecolor": "white",
           "zerolinewidth": 2
          }
         }
        },
        "title": {
         "text": "Top 10 Best Performing Products"
        },
        "xaxis": {
         "anchor": "y",
         "domain": [
          0,
          1
         ],
         "title": {
          "text": "Total Sales"
         }
        },
        "yaxis": {
         "anchor": "x",
         "categoryorder": "total ascending",
         "domain": [
          0,
          1
         ],
         "title": {
          "text": "Product Name"
         }
        }
       }
      }
     },
     "metadata": {},
     "output_type": "display_data"
    }
   ],
   "source": [
    "#Graph of 10 best performing products\n",
    "fig = px.bar(x = product_10['total_sales'], y = product_10.index, \n",
    "            title = 'Top 10 Best Performing Products', text_auto = True)\n",
    "fig.update_traces(orientation = 'h', marker_color = 'peachpuff', \n",
    "                  marker_line_color = 'coral', marker_line_width = 1)\n",
    "fig.update_xaxes(title = 'Total Sales')\n",
    "fig.update_yaxes(title = 'Product Name')\n",
    "fig.update_layout(yaxis = {'categoryorder' : 'total ascending'})\n",
    "fig.show()"
   ]
  },
  {
   "cell_type": "code",
   "execution_count": 65,
   "metadata": {},
   "outputs": [
    {
     "data": {
      "text/html": [
       "<div>\n",
       "<style scoped>\n",
       "    .dataframe tbody tr th:only-of-type {\n",
       "        vertical-align: middle;\n",
       "    }\n",
       "\n",
       "    .dataframe tbody tr th {\n",
       "        vertical-align: top;\n",
       "    }\n",
       "\n",
       "    .dataframe thead th {\n",
       "        text-align: right;\n",
       "    }\n",
       "</style>\n",
       "<table border=\"1\" class=\"dataframe\">\n",
       "  <thead>\n",
       "    <tr style=\"text-align: right;\">\n",
       "      <th></th>\n",
       "      <th>category</th>\n",
       "      <th>price</th>\n",
       "      <th>review_score</th>\n",
       "      <th>review_count</th>\n",
       "      <th>total_sales</th>\n",
       "    </tr>\n",
       "    <tr>\n",
       "      <th>product_name</th>\n",
       "      <th></th>\n",
       "      <th></th>\n",
       "      <th></th>\n",
       "      <th></th>\n",
       "      <th></th>\n",
       "    </tr>\n",
       "  </thead>\n",
       "  <tbody>\n",
       "    <tr>\n",
       "      <th>Product_123</th>\n",
       "      <td>Health</td>\n",
       "      <td>162.41</td>\n",
       "      <td>4.4</td>\n",
       "      <td>650</td>\n",
       "      <td>2972</td>\n",
       "    </tr>\n",
       "    <tr>\n",
       "      <th>Product_692</th>\n",
       "      <td>Toys</td>\n",
       "      <td>215.59</td>\n",
       "      <td>3.0</td>\n",
       "      <td>514</td>\n",
       "      <td>3162</td>\n",
       "    </tr>\n",
       "    <tr>\n",
       "      <th>Product_786</th>\n",
       "      <td>Books</td>\n",
       "      <td>454.68</td>\n",
       "      <td>4.6</td>\n",
       "      <td>325</td>\n",
       "      <td>3286</td>\n",
       "    </tr>\n",
       "    <tr>\n",
       "      <th>Product_666</th>\n",
       "      <td>Home &amp; Kitchen</td>\n",
       "      <td>80.67</td>\n",
       "      <td>4.4</td>\n",
       "      <td>655</td>\n",
       "      <td>3301</td>\n",
       "    </tr>\n",
       "    <tr>\n",
       "      <th>Product_136</th>\n",
       "      <td>Home &amp; Kitchen</td>\n",
       "      <td>164.99</td>\n",
       "      <td>1.3</td>\n",
       "      <td>68</td>\n",
       "      <td>3391</td>\n",
       "    </tr>\n",
       "    <tr>\n",
       "      <th>Product_179</th>\n",
       "      <td>Sports</td>\n",
       "      <td>468.68</td>\n",
       "      <td>4.0</td>\n",
       "      <td>504</td>\n",
       "      <td>3443</td>\n",
       "    </tr>\n",
       "    <tr>\n",
       "      <th>Product_95</th>\n",
       "      <td>Electronics</td>\n",
       "      <td>386.63</td>\n",
       "      <td>1.9</td>\n",
       "      <td>610</td>\n",
       "      <td>3539</td>\n",
       "    </tr>\n",
       "    <tr>\n",
       "      <th>Product_815</th>\n",
       "      <td>Health</td>\n",
       "      <td>435.60</td>\n",
       "      <td>1.3</td>\n",
       "      <td>234</td>\n",
       "      <td>3551</td>\n",
       "    </tr>\n",
       "    <tr>\n",
       "      <th>Product_544</th>\n",
       "      <td>Clothing</td>\n",
       "      <td>337.49</td>\n",
       "      <td>2.0</td>\n",
       "      <td>913</td>\n",
       "      <td>3564</td>\n",
       "    </tr>\n",
       "    <tr>\n",
       "      <th>Product_625</th>\n",
       "      <td>Toys</td>\n",
       "      <td>311.04</td>\n",
       "      <td>1.7</td>\n",
       "      <td>268</td>\n",
       "      <td>3641</td>\n",
       "    </tr>\n",
       "  </tbody>\n",
       "</table>\n",
       "</div>"
      ],
      "text/plain": [
       "                    category   price  review_score  review_count  total_sales\n",
       "product_name                                                                 \n",
       "Product_123           Health  162.41           4.4           650         2972\n",
       "Product_692             Toys  215.59           3.0           514         3162\n",
       "Product_786            Books  454.68           4.6           325         3286\n",
       "Product_666   Home & Kitchen   80.67           4.4           655         3301\n",
       "Product_136   Home & Kitchen  164.99           1.3            68         3391\n",
       "Product_179           Sports  468.68           4.0           504         3443\n",
       "Product_95       Electronics  386.63           1.9           610         3539\n",
       "Product_815           Health  435.60           1.3           234         3551\n",
       "Product_544         Clothing  337.49           2.0           913         3564\n",
       "Product_625             Toys  311.04           1.7           268         3641"
      ]
     },
     "execution_count": 65,
     "metadata": {},
     "output_type": "execute_result"
    }
   ],
   "source": [
    "#Least performing product\n",
    "product_last = new_data.groupby('product_name').sum()\n",
    "product_last_10 = product_last.sort_values(['total_sales'], ascending = True).head(10)\n",
    "product_last_10"
   ]
  },
  {
   "cell_type": "code",
   "execution_count": 66,
   "metadata": {},
   "outputs": [
    {
     "data": {
      "application/vnd.plotly.v1+json": {
       "config": {
        "plotlyServerURL": "https://plot.ly"
       },
       "data": [
        {
         "alignmentgroup": "True",
         "hovertemplate": "x=%{x}<br>y=%{y}<extra></extra>",
         "legendgroup": "",
         "marker": {
          "color": "peru",
          "line": {
           "color": "saddlebrown",
           "width": 2
          },
          "pattern": {
           "shape": ""
          }
         },
         "name": "",
         "offsetgroup": "",
         "orientation": "h",
         "showlegend": false,
         "textposition": "auto",
         "texttemplate": "%{x}",
         "type": "bar",
         "x": [
          2972,
          3162,
          3286,
          3301,
          3391,
          3443,
          3539,
          3551,
          3564,
          3641
         ],
         "xaxis": "x",
         "y": [
          "Product_123",
          "Product_692",
          "Product_786",
          "Product_666",
          "Product_136",
          "Product_179",
          "Product_95",
          "Product_815",
          "Product_544",
          "Product_625"
         ],
         "yaxis": "y"
        }
       ],
       "layout": {
        "barmode": "relative",
        "legend": {
         "tracegroupgap": 0
        },
        "template": {
         "data": {
          "bar": [
           {
            "error_x": {
             "color": "#2a3f5f"
            },
            "error_y": {
             "color": "#2a3f5f"
            },
            "marker": {
             "line": {
              "color": "#E5ECF6",
              "width": 0.5
             },
             "pattern": {
              "fillmode": "overlay",
              "size": 10,
              "solidity": 0.2
             }
            },
            "type": "bar"
           }
          ],
          "barpolar": [
           {
            "marker": {
             "line": {
              "color": "#E5ECF6",
              "width": 0.5
             },
             "pattern": {
              "fillmode": "overlay",
              "size": 10,
              "solidity": 0.2
             }
            },
            "type": "barpolar"
           }
          ],
          "carpet": [
           {
            "aaxis": {
             "endlinecolor": "#2a3f5f",
             "gridcolor": "white",
             "linecolor": "white",
             "minorgridcolor": "white",
             "startlinecolor": "#2a3f5f"
            },
            "baxis": {
             "endlinecolor": "#2a3f5f",
             "gridcolor": "white",
             "linecolor": "white",
             "minorgridcolor": "white",
             "startlinecolor": "#2a3f5f"
            },
            "type": "carpet"
           }
          ],
          "choropleth": [
           {
            "colorbar": {
             "outlinewidth": 0,
             "ticks": ""
            },
            "type": "choropleth"
           }
          ],
          "contour": [
           {
            "colorbar": {
             "outlinewidth": 0,
             "ticks": ""
            },
            "colorscale": [
             [
              0,
              "#0d0887"
             ],
             [
              0.1111111111111111,
              "#46039f"
             ],
             [
              0.2222222222222222,
              "#7201a8"
             ],
             [
              0.3333333333333333,
              "#9c179e"
             ],
             [
              0.4444444444444444,
              "#bd3786"
             ],
             [
              0.5555555555555556,
              "#d8576b"
             ],
             [
              0.6666666666666666,
              "#ed7953"
             ],
             [
              0.7777777777777778,
              "#fb9f3a"
             ],
             [
              0.8888888888888888,
              "#fdca26"
             ],
             [
              1,
              "#f0f921"
             ]
            ],
            "type": "contour"
           }
          ],
          "contourcarpet": [
           {
            "colorbar": {
             "outlinewidth": 0,
             "ticks": ""
            },
            "type": "contourcarpet"
           }
          ],
          "heatmap": [
           {
            "colorbar": {
             "outlinewidth": 0,
             "ticks": ""
            },
            "colorscale": [
             [
              0,
              "#0d0887"
             ],
             [
              0.1111111111111111,
              "#46039f"
             ],
             [
              0.2222222222222222,
              "#7201a8"
             ],
             [
              0.3333333333333333,
              "#9c179e"
             ],
             [
              0.4444444444444444,
              "#bd3786"
             ],
             [
              0.5555555555555556,
              "#d8576b"
             ],
             [
              0.6666666666666666,
              "#ed7953"
             ],
             [
              0.7777777777777778,
              "#fb9f3a"
             ],
             [
              0.8888888888888888,
              "#fdca26"
             ],
             [
              1,
              "#f0f921"
             ]
            ],
            "type": "heatmap"
           }
          ],
          "heatmapgl": [
           {
            "colorbar": {
             "outlinewidth": 0,
             "ticks": ""
            },
            "colorscale": [
             [
              0,
              "#0d0887"
             ],
             [
              0.1111111111111111,
              "#46039f"
             ],
             [
              0.2222222222222222,
              "#7201a8"
             ],
             [
              0.3333333333333333,
              "#9c179e"
             ],
             [
              0.4444444444444444,
              "#bd3786"
             ],
             [
              0.5555555555555556,
              "#d8576b"
             ],
             [
              0.6666666666666666,
              "#ed7953"
             ],
             [
              0.7777777777777778,
              "#fb9f3a"
             ],
             [
              0.8888888888888888,
              "#fdca26"
             ],
             [
              1,
              "#f0f921"
             ]
            ],
            "type": "heatmapgl"
           }
          ],
          "histogram": [
           {
            "marker": {
             "pattern": {
              "fillmode": "overlay",
              "size": 10,
              "solidity": 0.2
             }
            },
            "type": "histogram"
           }
          ],
          "histogram2d": [
           {
            "colorbar": {
             "outlinewidth": 0,
             "ticks": ""
            },
            "colorscale": [
             [
              0,
              "#0d0887"
             ],
             [
              0.1111111111111111,
              "#46039f"
             ],
             [
              0.2222222222222222,
              "#7201a8"
             ],
             [
              0.3333333333333333,
              "#9c179e"
             ],
             [
              0.4444444444444444,
              "#bd3786"
             ],
             [
              0.5555555555555556,
              "#d8576b"
             ],
             [
              0.6666666666666666,
              "#ed7953"
             ],
             [
              0.7777777777777778,
              "#fb9f3a"
             ],
             [
              0.8888888888888888,
              "#fdca26"
             ],
             [
              1,
              "#f0f921"
             ]
            ],
            "type": "histogram2d"
           }
          ],
          "histogram2dcontour": [
           {
            "colorbar": {
             "outlinewidth": 0,
             "ticks": ""
            },
            "colorscale": [
             [
              0,
              "#0d0887"
             ],
             [
              0.1111111111111111,
              "#46039f"
             ],
             [
              0.2222222222222222,
              "#7201a8"
             ],
             [
              0.3333333333333333,
              "#9c179e"
             ],
             [
              0.4444444444444444,
              "#bd3786"
             ],
             [
              0.5555555555555556,
              "#d8576b"
             ],
             [
              0.6666666666666666,
              "#ed7953"
             ],
             [
              0.7777777777777778,
              "#fb9f3a"
             ],
             [
              0.8888888888888888,
              "#fdca26"
             ],
             [
              1,
              "#f0f921"
             ]
            ],
            "type": "histogram2dcontour"
           }
          ],
          "mesh3d": [
           {
            "colorbar": {
             "outlinewidth": 0,
             "ticks": ""
            },
            "type": "mesh3d"
           }
          ],
          "parcoords": [
           {
            "line": {
             "colorbar": {
              "outlinewidth": 0,
              "ticks": ""
             }
            },
            "type": "parcoords"
           }
          ],
          "pie": [
           {
            "automargin": true,
            "type": "pie"
           }
          ],
          "scatter": [
           {
            "fillpattern": {
             "fillmode": "overlay",
             "size": 10,
             "solidity": 0.2
            },
            "type": "scatter"
           }
          ],
          "scatter3d": [
           {
            "line": {
             "colorbar": {
              "outlinewidth": 0,
              "ticks": ""
             }
            },
            "marker": {
             "colorbar": {
              "outlinewidth": 0,
              "ticks": ""
             }
            },
            "type": "scatter3d"
           }
          ],
          "scattercarpet": [
           {
            "marker": {
             "colorbar": {
              "outlinewidth": 0,
              "ticks": ""
             }
            },
            "type": "scattercarpet"
           }
          ],
          "scattergeo": [
           {
            "marker": {
             "colorbar": {
              "outlinewidth": 0,
              "ticks": ""
             }
            },
            "type": "scattergeo"
           }
          ],
          "scattergl": [
           {
            "marker": {
             "colorbar": {
              "outlinewidth": 0,
              "ticks": ""
             }
            },
            "type": "scattergl"
           }
          ],
          "scattermapbox": [
           {
            "marker": {
             "colorbar": {
              "outlinewidth": 0,
              "ticks": ""
             }
            },
            "type": "scattermapbox"
           }
          ],
          "scatterpolar": [
           {
            "marker": {
             "colorbar": {
              "outlinewidth": 0,
              "ticks": ""
             }
            },
            "type": "scatterpolar"
           }
          ],
          "scatterpolargl": [
           {
            "marker": {
             "colorbar": {
              "outlinewidth": 0,
              "ticks": ""
             }
            },
            "type": "scatterpolargl"
           }
          ],
          "scatterternary": [
           {
            "marker": {
             "colorbar": {
              "outlinewidth": 0,
              "ticks": ""
             }
            },
            "type": "scatterternary"
           }
          ],
          "surface": [
           {
            "colorbar": {
             "outlinewidth": 0,
             "ticks": ""
            },
            "colorscale": [
             [
              0,
              "#0d0887"
             ],
             [
              0.1111111111111111,
              "#46039f"
             ],
             [
              0.2222222222222222,
              "#7201a8"
             ],
             [
              0.3333333333333333,
              "#9c179e"
             ],
             [
              0.4444444444444444,
              "#bd3786"
             ],
             [
              0.5555555555555556,
              "#d8576b"
             ],
             [
              0.6666666666666666,
              "#ed7953"
             ],
             [
              0.7777777777777778,
              "#fb9f3a"
             ],
             [
              0.8888888888888888,
              "#fdca26"
             ],
             [
              1,
              "#f0f921"
             ]
            ],
            "type": "surface"
           }
          ],
          "table": [
           {
            "cells": {
             "fill": {
              "color": "#EBF0F8"
             },
             "line": {
              "color": "white"
             }
            },
            "header": {
             "fill": {
              "color": "#C8D4E3"
             },
             "line": {
              "color": "white"
             }
            },
            "type": "table"
           }
          ]
         },
         "layout": {
          "annotationdefaults": {
           "arrowcolor": "#2a3f5f",
           "arrowhead": 0,
           "arrowwidth": 1
          },
          "autotypenumbers": "strict",
          "coloraxis": {
           "colorbar": {
            "outlinewidth": 0,
            "ticks": ""
           }
          },
          "colorscale": {
           "diverging": [
            [
             0,
             "#8e0152"
            ],
            [
             0.1,
             "#c51b7d"
            ],
            [
             0.2,
             "#de77ae"
            ],
            [
             0.3,
             "#f1b6da"
            ],
            [
             0.4,
             "#fde0ef"
            ],
            [
             0.5,
             "#f7f7f7"
            ],
            [
             0.6,
             "#e6f5d0"
            ],
            [
             0.7,
             "#b8e186"
            ],
            [
             0.8,
             "#7fbc41"
            ],
            [
             0.9,
             "#4d9221"
            ],
            [
             1,
             "#276419"
            ]
           ],
           "sequential": [
            [
             0,
             "#0d0887"
            ],
            [
             0.1111111111111111,
             "#46039f"
            ],
            [
             0.2222222222222222,
             "#7201a8"
            ],
            [
             0.3333333333333333,
             "#9c179e"
            ],
            [
             0.4444444444444444,
             "#bd3786"
            ],
            [
             0.5555555555555556,
             "#d8576b"
            ],
            [
             0.6666666666666666,
             "#ed7953"
            ],
            [
             0.7777777777777778,
             "#fb9f3a"
            ],
            [
             0.8888888888888888,
             "#fdca26"
            ],
            [
             1,
             "#f0f921"
            ]
           ],
           "sequentialminus": [
            [
             0,
             "#0d0887"
            ],
            [
             0.1111111111111111,
             "#46039f"
            ],
            [
             0.2222222222222222,
             "#7201a8"
            ],
            [
             0.3333333333333333,
             "#9c179e"
            ],
            [
             0.4444444444444444,
             "#bd3786"
            ],
            [
             0.5555555555555556,
             "#d8576b"
            ],
            [
             0.6666666666666666,
             "#ed7953"
            ],
            [
             0.7777777777777778,
             "#fb9f3a"
            ],
            [
             0.8888888888888888,
             "#fdca26"
            ],
            [
             1,
             "#f0f921"
            ]
           ]
          },
          "colorway": [
           "#636efa",
           "#EF553B",
           "#00cc96",
           "#ab63fa",
           "#FFA15A",
           "#19d3f3",
           "#FF6692",
           "#B6E880",
           "#FF97FF",
           "#FECB52"
          ],
          "font": {
           "color": "#2a3f5f"
          },
          "geo": {
           "bgcolor": "white",
           "lakecolor": "white",
           "landcolor": "#E5ECF6",
           "showlakes": true,
           "showland": true,
           "subunitcolor": "white"
          },
          "hoverlabel": {
           "align": "left"
          },
          "hovermode": "closest",
          "mapbox": {
           "style": "light"
          },
          "paper_bgcolor": "white",
          "plot_bgcolor": "#E5ECF6",
          "polar": {
           "angularaxis": {
            "gridcolor": "white",
            "linecolor": "white",
            "ticks": ""
           },
           "bgcolor": "#E5ECF6",
           "radialaxis": {
            "gridcolor": "white",
            "linecolor": "white",
            "ticks": ""
           }
          },
          "scene": {
           "xaxis": {
            "backgroundcolor": "#E5ECF6",
            "gridcolor": "white",
            "gridwidth": 2,
            "linecolor": "white",
            "showbackground": true,
            "ticks": "",
            "zerolinecolor": "white"
           },
           "yaxis": {
            "backgroundcolor": "#E5ECF6",
            "gridcolor": "white",
            "gridwidth": 2,
            "linecolor": "white",
            "showbackground": true,
            "ticks": "",
            "zerolinecolor": "white"
           },
           "zaxis": {
            "backgroundcolor": "#E5ECF6",
            "gridcolor": "white",
            "gridwidth": 2,
            "linecolor": "white",
            "showbackground": true,
            "ticks": "",
            "zerolinecolor": "white"
           }
          },
          "shapedefaults": {
           "line": {
            "color": "#2a3f5f"
           }
          },
          "ternary": {
           "aaxis": {
            "gridcolor": "white",
            "linecolor": "white",
            "ticks": ""
           },
           "baxis": {
            "gridcolor": "white",
            "linecolor": "white",
            "ticks": ""
           },
           "bgcolor": "#E5ECF6",
           "caxis": {
            "gridcolor": "white",
            "linecolor": "white",
            "ticks": ""
           }
          },
          "title": {
           "x": 0.05
          },
          "xaxis": {
           "automargin": true,
           "gridcolor": "white",
           "linecolor": "white",
           "ticks": "",
           "title": {
            "standoff": 15
           },
           "zerolinecolor": "white",
           "zerolinewidth": 2
          },
          "yaxis": {
           "automargin": true,
           "gridcolor": "white",
           "linecolor": "white",
           "ticks": "",
           "title": {
            "standoff": 15
           },
           "zerolinecolor": "white",
           "zerolinewidth": 2
          }
         }
        },
        "title": {
         "text": "Ten Least Performing Products"
        },
        "xaxis": {
         "anchor": "y",
         "domain": [
          0,
          1
         ],
         "title": {
          "text": "Total Sales"
         }
        },
        "yaxis": {
         "anchor": "x",
         "categoryorder": "total descending",
         "domain": [
          0,
          1
         ],
         "title": {
          "text": "Product Name"
         }
        }
       }
      }
     },
     "metadata": {},
     "output_type": "display_data"
    }
   ],
   "source": [
    "#Graph of least performing products\n",
    "fig = px.bar(x = product_last_10['total_sales'], y = product_last_10.index, \n",
    "            title = 'Ten Least Performing Products', text_auto = True)\n",
    "fig.update_traces(orientation = 'h', marker_color = 'peru', \n",
    "                  marker_line_color = 'saddlebrown', marker_line_width = 2)\n",
    "fig.update_xaxes(title = 'Total Sales')\n",
    "fig.update_yaxes(title = 'Product Name')\n",
    "fig.update_layout(yaxis = {'categoryorder' : 'total descending'})\n",
    "fig.show()"
   ]
  },
  {
   "cell_type": "markdown",
   "metadata": {},
   "source": [
    "Monthly Sales Analysis"
   ]
  },
  {
   "cell_type": "code",
   "execution_count": 67,
   "metadata": {},
   "outputs": [
    {
     "data": {
      "text/html": [
       "<div>\n",
       "<style scoped>\n",
       "    .dataframe tbody tr th:only-of-type {\n",
       "        vertical-align: middle;\n",
       "    }\n",
       "\n",
       "    .dataframe tbody tr th {\n",
       "        vertical-align: top;\n",
       "    }\n",
       "\n",
       "    .dataframe thead th {\n",
       "        text-align: right;\n",
       "    }\n",
       "</style>\n",
       "<table border=\"1\" class=\"dataframe\">\n",
       "  <thead>\n",
       "    <tr style=\"text-align: right;\">\n",
       "      <th></th>\n",
       "      <th>sales_month_1</th>\n",
       "    </tr>\n",
       "    <tr>\n",
       "      <th>category</th>\n",
       "      <th></th>\n",
       "    </tr>\n",
       "  </thead>\n",
       "  <tbody>\n",
       "    <tr>\n",
       "      <th>Toys</th>\n",
       "      <td>79836</td>\n",
       "    </tr>\n",
       "    <tr>\n",
       "      <th>Books</th>\n",
       "      <td>77932</td>\n",
       "    </tr>\n",
       "    <tr>\n",
       "      <th>Sports</th>\n",
       "      <td>77737</td>\n",
       "    </tr>\n",
       "    <tr>\n",
       "      <th>Electronics</th>\n",
       "      <td>76347</td>\n",
       "    </tr>\n",
       "    <tr>\n",
       "      <th>Health</th>\n",
       "      <td>67644</td>\n",
       "    </tr>\n",
       "    <tr>\n",
       "      <th>Clothing</th>\n",
       "      <td>60966</td>\n",
       "    </tr>\n",
       "    <tr>\n",
       "      <th>Home &amp; Kitchen</th>\n",
       "      <td>57844</td>\n",
       "    </tr>\n",
       "  </tbody>\n",
       "</table>\n",
       "</div>"
      ],
      "text/plain": [
       "                sales_month_1\n",
       "category                     \n",
       "Toys                    79836\n",
       "Books                   77932\n",
       "Sports                  77737\n",
       "Electronics             76347\n",
       "Health                  67644\n",
       "Clothing                60966\n",
       "Home & Kitchen          57844"
      ]
     },
     "execution_count": 67,
     "metadata": {},
     "output_type": "execute_result"
    }
   ],
   "source": [
    "#Top performing product category in sales month 1\n",
    "sm_1 = data.groupby('category')[['sales_month_1']].sum()\n",
    "sm1_1 = sm_1.sort_values(by = ['sales_month_1'], ascending = False)\n",
    "sm1_1"
   ]
  },
  {
   "cell_type": "code",
   "execution_count": 68,
   "metadata": {},
   "outputs": [
    {
     "data": {
      "text/html": [
       "<div>\n",
       "<style scoped>\n",
       "    .dataframe tbody tr th:only-of-type {\n",
       "        vertical-align: middle;\n",
       "    }\n",
       "\n",
       "    .dataframe tbody tr th {\n",
       "        vertical-align: top;\n",
       "    }\n",
       "\n",
       "    .dataframe thead th {\n",
       "        text-align: right;\n",
       "    }\n",
       "</style>\n",
       "<table border=\"1\" class=\"dataframe\">\n",
       "  <thead>\n",
       "    <tr style=\"text-align: right;\">\n",
       "      <th></th>\n",
       "      <th>sales_month_2</th>\n",
       "    </tr>\n",
       "    <tr>\n",
       "      <th>category</th>\n",
       "      <th></th>\n",
       "    </tr>\n",
       "  </thead>\n",
       "  <tbody>\n",
       "    <tr>\n",
       "      <th>Sports</th>\n",
       "      <td>82244</td>\n",
       "    </tr>\n",
       "    <tr>\n",
       "      <th>Toys</th>\n",
       "      <td>80271</td>\n",
       "    </tr>\n",
       "    <tr>\n",
       "      <th>Books</th>\n",
       "      <td>80079</td>\n",
       "    </tr>\n",
       "    <tr>\n",
       "      <th>Electronics</th>\n",
       "      <td>72472</td>\n",
       "    </tr>\n",
       "    <tr>\n",
       "      <th>Clothing</th>\n",
       "      <td>67911</td>\n",
       "    </tr>\n",
       "    <tr>\n",
       "      <th>Health</th>\n",
       "      <td>67432</td>\n",
       "    </tr>\n",
       "    <tr>\n",
       "      <th>Home &amp; Kitchen</th>\n",
       "      <td>57252</td>\n",
       "    </tr>\n",
       "  </tbody>\n",
       "</table>\n",
       "</div>"
      ],
      "text/plain": [
       "                sales_month_2\n",
       "category                     \n",
       "Sports                  82244\n",
       "Toys                    80271\n",
       "Books                   80079\n",
       "Electronics             72472\n",
       "Clothing                67911\n",
       "Health                  67432\n",
       "Home & Kitchen          57252"
      ]
     },
     "execution_count": 68,
     "metadata": {},
     "output_type": "execute_result"
    }
   ],
   "source": [
    "##Top performing product category in sales month 2\n",
    "sm_2 = data.groupby('category')[['sales_month_2']].sum()\n",
    "sm2_2 = sm_2.sort_values(by = ['sales_month_2'], ascending = False)\n",
    "sm2_2"
   ]
  },
  {
   "cell_type": "code",
   "execution_count": 69,
   "metadata": {},
   "outputs": [
    {
     "data": {
      "text/html": [
       "<div>\n",
       "<style scoped>\n",
       "    .dataframe tbody tr th:only-of-type {\n",
       "        vertical-align: middle;\n",
       "    }\n",
       "\n",
       "    .dataframe tbody tr th {\n",
       "        vertical-align: top;\n",
       "    }\n",
       "\n",
       "    .dataframe thead th {\n",
       "        text-align: right;\n",
       "    }\n",
       "</style>\n",
       "<table border=\"1\" class=\"dataframe\">\n",
       "  <thead>\n",
       "    <tr style=\"text-align: right;\">\n",
       "      <th></th>\n",
       "      <th>sales_month_3</th>\n",
       "    </tr>\n",
       "    <tr>\n",
       "      <th>category</th>\n",
       "      <th></th>\n",
       "    </tr>\n",
       "  </thead>\n",
       "  <tbody>\n",
       "    <tr>\n",
       "      <th>Books</th>\n",
       "      <td>76998</td>\n",
       "    </tr>\n",
       "    <tr>\n",
       "      <th>Toys</th>\n",
       "      <td>76859</td>\n",
       "    </tr>\n",
       "    <tr>\n",
       "      <th>Clothing</th>\n",
       "      <td>76796</td>\n",
       "    </tr>\n",
       "    <tr>\n",
       "      <th>Sports</th>\n",
       "      <td>75109</td>\n",
       "    </tr>\n",
       "    <tr>\n",
       "      <th>Electronics</th>\n",
       "      <td>70708</td>\n",
       "    </tr>\n",
       "    <tr>\n",
       "      <th>Health</th>\n",
       "      <td>67602</td>\n",
       "    </tr>\n",
       "    <tr>\n",
       "      <th>Home &amp; Kitchen</th>\n",
       "      <td>62667</td>\n",
       "    </tr>\n",
       "  </tbody>\n",
       "</table>\n",
       "</div>"
      ],
      "text/plain": [
       "                sales_month_3\n",
       "category                     \n",
       "Books                   76998\n",
       "Toys                    76859\n",
       "Clothing                76796\n",
       "Sports                  75109\n",
       "Electronics             70708\n",
       "Health                  67602\n",
       "Home & Kitchen          62667"
      ]
     },
     "execution_count": 69,
     "metadata": {},
     "output_type": "execute_result"
    }
   ],
   "source": [
    "#Top performing product category in sales month 3\n",
    "sm_3 = data.groupby('category')[['sales_month_3']].sum()\n",
    "sm3_3 = sm_3.sort_values(by = ['sales_month_3'], ascending = False)\n",
    "sm3_3"
   ]
  },
  {
   "cell_type": "code",
   "execution_count": 70,
   "metadata": {},
   "outputs": [
    {
     "data": {
      "text/html": [
       "<div>\n",
       "<style scoped>\n",
       "    .dataframe tbody tr th:only-of-type {\n",
       "        vertical-align: middle;\n",
       "    }\n",
       "\n",
       "    .dataframe tbody tr th {\n",
       "        vertical-align: top;\n",
       "    }\n",
       "\n",
       "    .dataframe thead th {\n",
       "        text-align: right;\n",
       "    }\n",
       "</style>\n",
       "<table border=\"1\" class=\"dataframe\">\n",
       "  <thead>\n",
       "    <tr style=\"text-align: right;\">\n",
       "      <th></th>\n",
       "      <th>sales_month_4</th>\n",
       "    </tr>\n",
       "    <tr>\n",
       "      <th>category</th>\n",
       "      <th></th>\n",
       "    </tr>\n",
       "  </thead>\n",
       "  <tbody>\n",
       "    <tr>\n",
       "      <th>Books</th>\n",
       "      <td>74699</td>\n",
       "    </tr>\n",
       "    <tr>\n",
       "      <th>Sports</th>\n",
       "      <td>74287</td>\n",
       "    </tr>\n",
       "    <tr>\n",
       "      <th>Toys</th>\n",
       "      <td>73278</td>\n",
       "    </tr>\n",
       "    <tr>\n",
       "      <th>Electronics</th>\n",
       "      <td>73158</td>\n",
       "    </tr>\n",
       "    <tr>\n",
       "      <th>Health</th>\n",
       "      <td>72925</td>\n",
       "    </tr>\n",
       "    <tr>\n",
       "      <th>Clothing</th>\n",
       "      <td>70088</td>\n",
       "    </tr>\n",
       "    <tr>\n",
       "      <th>Home &amp; Kitchen</th>\n",
       "      <td>65388</td>\n",
       "    </tr>\n",
       "  </tbody>\n",
       "</table>\n",
       "</div>"
      ],
      "text/plain": [
       "                sales_month_4\n",
       "category                     \n",
       "Books                   74699\n",
       "Sports                  74287\n",
       "Toys                    73278\n",
       "Electronics             73158\n",
       "Health                  72925\n",
       "Clothing                70088\n",
       "Home & Kitchen          65388"
      ]
     },
     "execution_count": 70,
     "metadata": {},
     "output_type": "execute_result"
    }
   ],
   "source": [
    "#Top performing product category in sales month 4\n",
    "sm_4 = data.groupby('category')[['sales_month_4']].sum()\n",
    "sm4_4 = sm_4.sort_values(by = ['sales_month_4'], ascending = False)\n",
    "sm4_4"
   ]
  },
  {
   "cell_type": "code",
   "execution_count": 71,
   "metadata": {},
   "outputs": [
    {
     "data": {
      "text/html": [
       "<div>\n",
       "<style scoped>\n",
       "    .dataframe tbody tr th:only-of-type {\n",
       "        vertical-align: middle;\n",
       "    }\n",
       "\n",
       "    .dataframe tbody tr th {\n",
       "        vertical-align: top;\n",
       "    }\n",
       "\n",
       "    .dataframe thead th {\n",
       "        text-align: right;\n",
       "    }\n",
       "</style>\n",
       "<table border=\"1\" class=\"dataframe\">\n",
       "  <thead>\n",
       "    <tr style=\"text-align: right;\">\n",
       "      <th></th>\n",
       "      <th>sales_month_5</th>\n",
       "    </tr>\n",
       "    <tr>\n",
       "      <th>category</th>\n",
       "      <th></th>\n",
       "    </tr>\n",
       "  </thead>\n",
       "  <tbody>\n",
       "    <tr>\n",
       "      <th>Books</th>\n",
       "      <td>79051</td>\n",
       "    </tr>\n",
       "    <tr>\n",
       "      <th>Sports</th>\n",
       "      <td>73467</td>\n",
       "    </tr>\n",
       "    <tr>\n",
       "      <th>Electronics</th>\n",
       "      <td>72169</td>\n",
       "    </tr>\n",
       "    <tr>\n",
       "      <th>Toys</th>\n",
       "      <td>71920</td>\n",
       "    </tr>\n",
       "    <tr>\n",
       "      <th>Health</th>\n",
       "      <td>69178</td>\n",
       "    </tr>\n",
       "    <tr>\n",
       "      <th>Clothing</th>\n",
       "      <td>61643</td>\n",
       "    </tr>\n",
       "    <tr>\n",
       "      <th>Home &amp; Kitchen</th>\n",
       "      <td>59766</td>\n",
       "    </tr>\n",
       "  </tbody>\n",
       "</table>\n",
       "</div>"
      ],
      "text/plain": [
       "                sales_month_5\n",
       "category                     \n",
       "Books                   79051\n",
       "Sports                  73467\n",
       "Electronics             72169\n",
       "Toys                    71920\n",
       "Health                  69178\n",
       "Clothing                61643\n",
       "Home & Kitchen          59766"
      ]
     },
     "execution_count": 71,
     "metadata": {},
     "output_type": "execute_result"
    }
   ],
   "source": [
    "#Top performing product category in sales month 5\n",
    "sm_5 = data.groupby('category')[['sales_month_5']].sum()\n",
    "sm5_5 = sm_5.sort_values(by = ['sales_month_5'], ascending = False)\n",
    "sm5_5"
   ]
  },
  {
   "cell_type": "code",
   "execution_count": 72,
   "metadata": {},
   "outputs": [
    {
     "data": {
      "text/html": [
       "<div>\n",
       "<style scoped>\n",
       "    .dataframe tbody tr th:only-of-type {\n",
       "        vertical-align: middle;\n",
       "    }\n",
       "\n",
       "    .dataframe tbody tr th {\n",
       "        vertical-align: top;\n",
       "    }\n",
       "\n",
       "    .dataframe thead th {\n",
       "        text-align: right;\n",
       "    }\n",
       "</style>\n",
       "<table border=\"1\" class=\"dataframe\">\n",
       "  <thead>\n",
       "    <tr style=\"text-align: right;\">\n",
       "      <th></th>\n",
       "      <th>sales_month_6</th>\n",
       "    </tr>\n",
       "    <tr>\n",
       "      <th>category</th>\n",
       "      <th></th>\n",
       "    </tr>\n",
       "  </thead>\n",
       "  <tbody>\n",
       "    <tr>\n",
       "      <th>Toys</th>\n",
       "      <td>79090</td>\n",
       "    </tr>\n",
       "    <tr>\n",
       "      <th>Books</th>\n",
       "      <td>76644</td>\n",
       "    </tr>\n",
       "    <tr>\n",
       "      <th>Sports</th>\n",
       "      <td>75641</td>\n",
       "    </tr>\n",
       "    <tr>\n",
       "      <th>Electronics</th>\n",
       "      <td>70060</td>\n",
       "    </tr>\n",
       "    <tr>\n",
       "      <th>Health</th>\n",
       "      <td>63926</td>\n",
       "    </tr>\n",
       "    <tr>\n",
       "      <th>Home &amp; Kitchen</th>\n",
       "      <td>63169</td>\n",
       "    </tr>\n",
       "    <tr>\n",
       "      <th>Clothing</th>\n",
       "      <td>63123</td>\n",
       "    </tr>\n",
       "  </tbody>\n",
       "</table>\n",
       "</div>"
      ],
      "text/plain": [
       "                sales_month_6\n",
       "category                     \n",
       "Toys                    79090\n",
       "Books                   76644\n",
       "Sports                  75641\n",
       "Electronics             70060\n",
       "Health                  63926\n",
       "Home & Kitchen          63169\n",
       "Clothing                63123"
      ]
     },
     "execution_count": 72,
     "metadata": {},
     "output_type": "execute_result"
    }
   ],
   "source": [
    "#Top performing product category in sales month 6\n",
    "sm_6 = data.groupby('category')[['sales_month_6']].sum()\n",
    "sm6_6 = sm_6.sort_values(by = ['sales_month_6'], ascending = False)\n",
    "sm6_6"
   ]
  },
  {
   "cell_type": "code",
   "execution_count": 73,
   "metadata": {},
   "outputs": [
    {
     "data": {
      "text/html": [
       "<div>\n",
       "<style scoped>\n",
       "    .dataframe tbody tr th:only-of-type {\n",
       "        vertical-align: middle;\n",
       "    }\n",
       "\n",
       "    .dataframe tbody tr th {\n",
       "        vertical-align: top;\n",
       "    }\n",
       "\n",
       "    .dataframe thead th {\n",
       "        text-align: right;\n",
       "    }\n",
       "</style>\n",
       "<table border=\"1\" class=\"dataframe\">\n",
       "  <thead>\n",
       "    <tr style=\"text-align: right;\">\n",
       "      <th></th>\n",
       "      <th>sales_month_7</th>\n",
       "    </tr>\n",
       "    <tr>\n",
       "      <th>category</th>\n",
       "      <th></th>\n",
       "    </tr>\n",
       "  </thead>\n",
       "  <tbody>\n",
       "    <tr>\n",
       "      <th>Books</th>\n",
       "      <td>79114</td>\n",
       "    </tr>\n",
       "    <tr>\n",
       "      <th>Toys</th>\n",
       "      <td>77102</td>\n",
       "    </tr>\n",
       "    <tr>\n",
       "      <th>Sports</th>\n",
       "      <td>77082</td>\n",
       "    </tr>\n",
       "    <tr>\n",
       "      <th>Health</th>\n",
       "      <td>75256</td>\n",
       "    </tr>\n",
       "    <tr>\n",
       "      <th>Electronics</th>\n",
       "      <td>72223</td>\n",
       "    </tr>\n",
       "    <tr>\n",
       "      <th>Clothing</th>\n",
       "      <td>66105</td>\n",
       "    </tr>\n",
       "    <tr>\n",
       "      <th>Home &amp; Kitchen</th>\n",
       "      <td>60129</td>\n",
       "    </tr>\n",
       "  </tbody>\n",
       "</table>\n",
       "</div>"
      ],
      "text/plain": [
       "                sales_month_7\n",
       "category                     \n",
       "Books                   79114\n",
       "Toys                    77102\n",
       "Sports                  77082\n",
       "Health                  75256\n",
       "Electronics             72223\n",
       "Clothing                66105\n",
       "Home & Kitchen          60129"
      ]
     },
     "execution_count": 73,
     "metadata": {},
     "output_type": "execute_result"
    }
   ],
   "source": [
    "#Top performing product category in sales month 7\n",
    "sm_7 = data.groupby('category')[['sales_month_7']].sum()\n",
    "sm7_7 = sm_7.sort_values(by = ['sales_month_7'], ascending = False)\n",
    "sm7_7"
   ]
  },
  {
   "cell_type": "code",
   "execution_count": 74,
   "metadata": {},
   "outputs": [
    {
     "data": {
      "text/html": [
       "<div>\n",
       "<style scoped>\n",
       "    .dataframe tbody tr th:only-of-type {\n",
       "        vertical-align: middle;\n",
       "    }\n",
       "\n",
       "    .dataframe tbody tr th {\n",
       "        vertical-align: top;\n",
       "    }\n",
       "\n",
       "    .dataframe thead th {\n",
       "        text-align: right;\n",
       "    }\n",
       "</style>\n",
       "<table border=\"1\" class=\"dataframe\">\n",
       "  <thead>\n",
       "    <tr style=\"text-align: right;\">\n",
       "      <th></th>\n",
       "      <th>sales_month_8</th>\n",
       "    </tr>\n",
       "    <tr>\n",
       "      <th>category</th>\n",
       "      <th></th>\n",
       "    </tr>\n",
       "  </thead>\n",
       "  <tbody>\n",
       "    <tr>\n",
       "      <th>Toys</th>\n",
       "      <td>78205</td>\n",
       "    </tr>\n",
       "    <tr>\n",
       "      <th>Books</th>\n",
       "      <td>78108</td>\n",
       "    </tr>\n",
       "    <tr>\n",
       "      <th>Clothing</th>\n",
       "      <td>74422</td>\n",
       "    </tr>\n",
       "    <tr>\n",
       "      <th>Sports</th>\n",
       "      <td>73912</td>\n",
       "    </tr>\n",
       "    <tr>\n",
       "      <th>Health</th>\n",
       "      <td>69126</td>\n",
       "    </tr>\n",
       "    <tr>\n",
       "      <th>Electronics</th>\n",
       "      <td>65754</td>\n",
       "    </tr>\n",
       "    <tr>\n",
       "      <th>Home &amp; Kitchen</th>\n",
       "      <td>65042</td>\n",
       "    </tr>\n",
       "  </tbody>\n",
       "</table>\n",
       "</div>"
      ],
      "text/plain": [
       "                sales_month_8\n",
       "category                     \n",
       "Toys                    78205\n",
       "Books                   78108\n",
       "Clothing                74422\n",
       "Sports                  73912\n",
       "Health                  69126\n",
       "Electronics             65754\n",
       "Home & Kitchen          65042"
      ]
     },
     "execution_count": 74,
     "metadata": {},
     "output_type": "execute_result"
    }
   ],
   "source": [
    "#Top performing product category in sales month 8\n",
    "sm_8 = data.groupby('category')[['sales_month_8']].sum()\n",
    "sm8_8 = sm_8.sort_values(by = ['sales_month_8'], ascending = False)\n",
    "sm8_8"
   ]
  },
  {
   "cell_type": "code",
   "execution_count": 75,
   "metadata": {},
   "outputs": [
    {
     "data": {
      "text/html": [
       "<div>\n",
       "<style scoped>\n",
       "    .dataframe tbody tr th:only-of-type {\n",
       "        vertical-align: middle;\n",
       "    }\n",
       "\n",
       "    .dataframe tbody tr th {\n",
       "        vertical-align: top;\n",
       "    }\n",
       "\n",
       "    .dataframe thead th {\n",
       "        text-align: right;\n",
       "    }\n",
       "</style>\n",
       "<table border=\"1\" class=\"dataframe\">\n",
       "  <thead>\n",
       "    <tr style=\"text-align: right;\">\n",
       "      <th></th>\n",
       "      <th>sales_month_9</th>\n",
       "    </tr>\n",
       "    <tr>\n",
       "      <th>category</th>\n",
       "      <th></th>\n",
       "    </tr>\n",
       "  </thead>\n",
       "  <tbody>\n",
       "    <tr>\n",
       "      <th>Sports</th>\n",
       "      <td>79209</td>\n",
       "    </tr>\n",
       "    <tr>\n",
       "      <th>Books</th>\n",
       "      <td>77211</td>\n",
       "    </tr>\n",
       "    <tr>\n",
       "      <th>Clothing</th>\n",
       "      <td>72675</td>\n",
       "    </tr>\n",
       "    <tr>\n",
       "      <th>Toys</th>\n",
       "      <td>70209</td>\n",
       "    </tr>\n",
       "    <tr>\n",
       "      <th>Electronics</th>\n",
       "      <td>69914</td>\n",
       "    </tr>\n",
       "    <tr>\n",
       "      <th>Health</th>\n",
       "      <td>64581</td>\n",
       "    </tr>\n",
       "    <tr>\n",
       "      <th>Home &amp; Kitchen</th>\n",
       "      <td>58135</td>\n",
       "    </tr>\n",
       "  </tbody>\n",
       "</table>\n",
       "</div>"
      ],
      "text/plain": [
       "                sales_month_9\n",
       "category                     \n",
       "Sports                  79209\n",
       "Books                   77211\n",
       "Clothing                72675\n",
       "Toys                    70209\n",
       "Electronics             69914\n",
       "Health                  64581\n",
       "Home & Kitchen          58135"
      ]
     },
     "execution_count": 75,
     "metadata": {},
     "output_type": "execute_result"
    }
   ],
   "source": [
    "#Top performing product category in sales month 9\n",
    "sm_9 = data.groupby('category')[['sales_month_9']].sum()\n",
    "sm9_9 = sm_9.sort_values(by = ['sales_month_9'], ascending = False)\n",
    "sm9_9"
   ]
  },
  {
   "cell_type": "code",
   "execution_count": 76,
   "metadata": {},
   "outputs": [
    {
     "data": {
      "text/html": [
       "<div>\n",
       "<style scoped>\n",
       "    .dataframe tbody tr th:only-of-type {\n",
       "        vertical-align: middle;\n",
       "    }\n",
       "\n",
       "    .dataframe tbody tr th {\n",
       "        vertical-align: top;\n",
       "    }\n",
       "\n",
       "    .dataframe thead th {\n",
       "        text-align: right;\n",
       "    }\n",
       "</style>\n",
       "<table border=\"1\" class=\"dataframe\">\n",
       "  <thead>\n",
       "    <tr style=\"text-align: right;\">\n",
       "      <th></th>\n",
       "      <th>sales_month_10</th>\n",
       "    </tr>\n",
       "    <tr>\n",
       "      <th>category</th>\n",
       "      <th></th>\n",
       "    </tr>\n",
       "  </thead>\n",
       "  <tbody>\n",
       "    <tr>\n",
       "      <th>Books</th>\n",
       "      <td>83504</td>\n",
       "    </tr>\n",
       "    <tr>\n",
       "      <th>Sports</th>\n",
       "      <td>80187</td>\n",
       "    </tr>\n",
       "    <tr>\n",
       "      <th>Toys</th>\n",
       "      <td>74664</td>\n",
       "    </tr>\n",
       "    <tr>\n",
       "      <th>Health</th>\n",
       "      <td>72613</td>\n",
       "    </tr>\n",
       "    <tr>\n",
       "      <th>Electronics</th>\n",
       "      <td>70148</td>\n",
       "    </tr>\n",
       "    <tr>\n",
       "      <th>Clothing</th>\n",
       "      <td>68806</td>\n",
       "    </tr>\n",
       "    <tr>\n",
       "      <th>Home &amp; Kitchen</th>\n",
       "      <td>64876</td>\n",
       "    </tr>\n",
       "  </tbody>\n",
       "</table>\n",
       "</div>"
      ],
      "text/plain": [
       "                sales_month_10\n",
       "category                      \n",
       "Books                    83504\n",
       "Sports                   80187\n",
       "Toys                     74664\n",
       "Health                   72613\n",
       "Electronics              70148\n",
       "Clothing                 68806\n",
       "Home & Kitchen           64876"
      ]
     },
     "execution_count": 76,
     "metadata": {},
     "output_type": "execute_result"
    }
   ],
   "source": [
    "#Top performing product category in sales month 10\n",
    "sm_10 = data.groupby('category')[['sales_month_10']].sum()\n",
    "sm10_10 = sm_10.sort_values(by = ['sales_month_10'], ascending = False)\n",
    "sm10_10"
   ]
  },
  {
   "cell_type": "code",
   "execution_count": 77,
   "metadata": {},
   "outputs": [
    {
     "data": {
      "text/html": [
       "<div>\n",
       "<style scoped>\n",
       "    .dataframe tbody tr th:only-of-type {\n",
       "        vertical-align: middle;\n",
       "    }\n",
       "\n",
       "    .dataframe tbody tr th {\n",
       "        vertical-align: top;\n",
       "    }\n",
       "\n",
       "    .dataframe thead th {\n",
       "        text-align: right;\n",
       "    }\n",
       "</style>\n",
       "<table border=\"1\" class=\"dataframe\">\n",
       "  <thead>\n",
       "    <tr style=\"text-align: right;\">\n",
       "      <th></th>\n",
       "      <th>sales_month_11</th>\n",
       "    </tr>\n",
       "    <tr>\n",
       "      <th>category</th>\n",
       "      <th></th>\n",
       "    </tr>\n",
       "  </thead>\n",
       "  <tbody>\n",
       "    <tr>\n",
       "      <th>Books</th>\n",
       "      <td>76557</td>\n",
       "    </tr>\n",
       "    <tr>\n",
       "      <th>Toys</th>\n",
       "      <td>76399</td>\n",
       "    </tr>\n",
       "    <tr>\n",
       "      <th>Sports</th>\n",
       "      <td>74270</td>\n",
       "    </tr>\n",
       "    <tr>\n",
       "      <th>Health</th>\n",
       "      <td>72500</td>\n",
       "    </tr>\n",
       "    <tr>\n",
       "      <th>Clothing</th>\n",
       "      <td>71683</td>\n",
       "    </tr>\n",
       "    <tr>\n",
       "      <th>Electronics</th>\n",
       "      <td>68148</td>\n",
       "    </tr>\n",
       "    <tr>\n",
       "      <th>Home &amp; Kitchen</th>\n",
       "      <td>66281</td>\n",
       "    </tr>\n",
       "  </tbody>\n",
       "</table>\n",
       "</div>"
      ],
      "text/plain": [
       "                sales_month_11\n",
       "category                      \n",
       "Books                    76557\n",
       "Toys                     76399\n",
       "Sports                   74270\n",
       "Health                   72500\n",
       "Clothing                 71683\n",
       "Electronics              68148\n",
       "Home & Kitchen           66281"
      ]
     },
     "execution_count": 77,
     "metadata": {},
     "output_type": "execute_result"
    }
   ],
   "source": [
    "#Top performing product category in sales month 11\n",
    "sm_11 = data.groupby('category')[['sales_month_11']].sum()\n",
    "sm11_11 = sm_11.sort_values(by = ['sales_month_11'], ascending = False)\n",
    "sm11_11"
   ]
  },
  {
   "cell_type": "code",
   "execution_count": 78,
   "metadata": {},
   "outputs": [
    {
     "data": {
      "text/html": [
       "<div>\n",
       "<style scoped>\n",
       "    .dataframe tbody tr th:only-of-type {\n",
       "        vertical-align: middle;\n",
       "    }\n",
       "\n",
       "    .dataframe tbody tr th {\n",
       "        vertical-align: top;\n",
       "    }\n",
       "\n",
       "    .dataframe thead th {\n",
       "        text-align: right;\n",
       "    }\n",
       "</style>\n",
       "<table border=\"1\" class=\"dataframe\">\n",
       "  <thead>\n",
       "    <tr style=\"text-align: right;\">\n",
       "      <th></th>\n",
       "      <th>sales_month_12</th>\n",
       "    </tr>\n",
       "    <tr>\n",
       "      <th>category</th>\n",
       "      <th></th>\n",
       "    </tr>\n",
       "  </thead>\n",
       "  <tbody>\n",
       "    <tr>\n",
       "      <th>Toys</th>\n",
       "      <td>79268</td>\n",
       "    </tr>\n",
       "    <tr>\n",
       "      <th>Books</th>\n",
       "      <td>78332</td>\n",
       "    </tr>\n",
       "    <tr>\n",
       "      <th>Sports</th>\n",
       "      <td>73226</td>\n",
       "    </tr>\n",
       "    <tr>\n",
       "      <th>Clothing</th>\n",
       "      <td>72318</td>\n",
       "    </tr>\n",
       "    <tr>\n",
       "      <th>Health</th>\n",
       "      <td>71631</td>\n",
       "    </tr>\n",
       "    <tr>\n",
       "      <th>Electronics</th>\n",
       "      <td>64019</td>\n",
       "    </tr>\n",
       "    <tr>\n",
       "      <th>Home &amp; Kitchen</th>\n",
       "      <td>61592</td>\n",
       "    </tr>\n",
       "  </tbody>\n",
       "</table>\n",
       "</div>"
      ],
      "text/plain": [
       "                sales_month_12\n",
       "category                      \n",
       "Toys                     79268\n",
       "Books                    78332\n",
       "Sports                   73226\n",
       "Clothing                 72318\n",
       "Health                   71631\n",
       "Electronics              64019\n",
       "Home & Kitchen           61592"
      ]
     },
     "execution_count": 78,
     "metadata": {},
     "output_type": "execute_result"
    }
   ],
   "source": [
    "#Top performing product category in sales month 12\n",
    "sm_12 = data.groupby('category')[['sales_month_12']].sum()\n",
    "sm12_12 = sm_12.sort_values(by = ['sales_month_12'], ascending = False)\n",
    "sm12_12"
   ]
  },
  {
   "cell_type": "code",
   "execution_count": 79,
   "metadata": {},
   "outputs": [
    {
     "data": {
      "application/vnd.plotly.v1+json": {
       "config": {
        "plotlyServerURL": "https://plot.ly"
       },
       "data": [
        {
         "domain": {
          "x": [
           0,
           0.2888888888888889
          ],
          "y": [
           0.84375,
           1
          ]
         },
         "hovertemplate": "label=%{label}<br>value=%{value}<extra></extra>",
         "labels": [
          "Toys",
          "Books",
          "Sports",
          "Electronics",
          "Health",
          "Clothing",
          "Home & Kitchen"
         ],
         "legendgroup": "",
         "marker": {
          "line": {
           "width": 1
          }
         },
         "name": "",
         "showlegend": true,
         "textfont": {
          "size": 10
         },
         "textinfo": "label+percent",
         "textposition": "inside",
         "type": "pie",
         "values": [
          79836,
          77932,
          77737,
          76347,
          67644,
          60966,
          57844
         ]
        },
        {
         "domain": {
          "x": [
           0.35555555555555557,
           0.6444444444444445
          ],
          "y": [
           0.84375,
           1
          ]
         },
         "hovertemplate": "label=%{label}<br>value=%{value}<extra></extra>",
         "labels": [
          "Sports",
          "Toys",
          "Books",
          "Electronics",
          "Clothing",
          "Health",
          "Home & Kitchen"
         ],
         "legendgroup": "",
         "marker": {
          "line": {
           "width": 1
          }
         },
         "name": "",
         "showlegend": true,
         "textfont": {
          "size": 10
         },
         "textinfo": "label+percent",
         "textposition": "inside",
         "type": "pie",
         "values": [
          82244,
          80271,
          80079,
          72472,
          67911,
          67432,
          57252
         ]
        },
        {
         "domain": {
          "x": [
           0.7111111111111111,
           1
          ],
          "y": [
           0.84375,
           1
          ]
         },
         "hovertemplate": "label=%{label}<br>value=%{value}<extra></extra>",
         "labels": [
          "Books",
          "Toys",
          "Clothing",
          "Sports",
          "Electronics",
          "Health",
          "Home & Kitchen"
         ],
         "legendgroup": "",
         "marker": {
          "line": {
           "width": 1
          }
         },
         "name": "",
         "showlegend": true,
         "textfont": {
          "size": 10
         },
         "textinfo": "label+percent",
         "textposition": "inside",
         "type": "pie",
         "values": [
          76998,
          76859,
          76796,
          75109,
          70708,
          67602,
          62667
         ]
        },
        {
         "domain": {
          "x": [
           0,
           0.2888888888888889
          ],
          "y": [
           0.5625,
           0.71875
          ]
         },
         "hovertemplate": "label=%{label}<br>value=%{value}<extra></extra>",
         "labels": [
          "Books",
          "Sports",
          "Toys",
          "Electronics",
          "Health",
          "Clothing",
          "Home & Kitchen"
         ],
         "legendgroup": "",
         "marker": {
          "line": {
           "width": 1
          }
         },
         "name": "",
         "showlegend": true,
         "textfont": {
          "size": 10
         },
         "textinfo": "label+percent",
         "textposition": "inside",
         "type": "pie",
         "values": [
          74699,
          74287,
          73278,
          73158,
          72925,
          70088,
          65388
         ]
        },
        {
         "domain": {
          "x": [
           0.35555555555555557,
           0.6444444444444445
          ],
          "y": [
           0.5625,
           0.71875
          ]
         },
         "hovertemplate": "label=%{label}<br>value=%{value}<extra></extra>",
         "labels": [
          "Books",
          "Sports",
          "Electronics",
          "Toys",
          "Health",
          "Clothing",
          "Home & Kitchen"
         ],
         "legendgroup": "",
         "marker": {
          "line": {
           "width": 1
          }
         },
         "name": "",
         "showlegend": true,
         "textfont": {
          "size": 10
         },
         "textinfo": "label+percent",
         "textposition": "inside",
         "type": "pie",
         "values": [
          79051,
          73467,
          72169,
          71920,
          69178,
          61643,
          59766
         ]
        },
        {
         "domain": {
          "x": [
           0.7111111111111111,
           1
          ],
          "y": [
           0.5625,
           0.71875
          ]
         },
         "hovertemplate": "label=%{label}<br>value=%{value}<extra></extra>",
         "labels": [
          "Toys",
          "Books",
          "Sports",
          "Electronics",
          "Health",
          "Home & Kitchen",
          "Clothing"
         ],
         "legendgroup": "",
         "marker": {
          "line": {
           "width": 1
          }
         },
         "name": "",
         "showlegend": true,
         "textfont": {
          "size": 10
         },
         "textinfo": "label+percent",
         "textposition": "inside",
         "type": "pie",
         "values": [
          79090,
          76644,
          75641,
          70060,
          63926,
          63169,
          63123
         ]
        },
        {
         "domain": {
          "x": [
           0,
           0.2888888888888889
          ],
          "y": [
           0.28125,
           0.4375
          ]
         },
         "hovertemplate": "label=%{label}<br>value=%{value}<extra></extra>",
         "labels": [
          "Books",
          "Toys",
          "Sports",
          "Health",
          "Electronics",
          "Clothing",
          "Home & Kitchen"
         ],
         "legendgroup": "",
         "marker": {
          "line": {
           "width": 1
          }
         },
         "name": "",
         "showlegend": true,
         "textfont": {
          "size": 10
         },
         "textinfo": "label+percent",
         "textposition": "inside",
         "type": "pie",
         "values": [
          79114,
          77102,
          77082,
          75256,
          72223,
          66105,
          60129
         ]
        },
        {
         "domain": {
          "x": [
           0.35555555555555557,
           0.6444444444444445
          ],
          "y": [
           0.28125,
           0.4375
          ]
         },
         "hovertemplate": "label=%{label}<br>value=%{value}<extra></extra>",
         "labels": [
          "Toys",
          "Books",
          "Clothing",
          "Sports",
          "Health",
          "Electronics",
          "Home & Kitchen"
         ],
         "legendgroup": "",
         "marker": {
          "line": {
           "width": 1
          }
         },
         "name": "",
         "showlegend": true,
         "textfont": {
          "size": 10
         },
         "textinfo": "label+percent",
         "textposition": "inside",
         "type": "pie",
         "values": [
          78205,
          78108,
          74422,
          73912,
          69126,
          65754,
          65042
         ]
        },
        {
         "domain": {
          "x": [
           0.7111111111111111,
           1
          ],
          "y": [
           0.28125,
           0.4375
          ]
         },
         "hovertemplate": "label=%{label}<br>value=%{value}<extra></extra>",
         "labels": [
          "Sports",
          "Books",
          "Clothing",
          "Toys",
          "Electronics",
          "Health",
          "Home & Kitchen"
         ],
         "legendgroup": "",
         "marker": {
          "line": {
           "width": 1
          }
         },
         "name": "",
         "showlegend": true,
         "textfont": {
          "size": 10
         },
         "textinfo": "label+percent",
         "textposition": "inside",
         "type": "pie",
         "values": [
          79209,
          77211,
          72675,
          70209,
          69914,
          64581,
          58135
         ]
        },
        {
         "domain": {
          "x": [
           0,
           0.2888888888888889
          ],
          "y": [
           0,
           0.15625
          ]
         },
         "hovertemplate": "label=%{label}<br>value=%{value}<extra></extra>",
         "labels": [
          "Books",
          "Sports",
          "Toys",
          "Health",
          "Electronics",
          "Clothing",
          "Home & Kitchen"
         ],
         "legendgroup": "",
         "marker": {
          "line": {
           "width": 1
          }
         },
         "name": "",
         "showlegend": true,
         "textfont": {
          "size": 10
         },
         "textinfo": "label+percent",
         "textposition": "inside",
         "type": "pie",
         "values": [
          83504,
          80187,
          74664,
          72613,
          70148,
          68806,
          64876
         ]
        },
        {
         "domain": {
          "x": [
           0.35555555555555557,
           0.6444444444444445
          ],
          "y": [
           0,
           0.15625
          ]
         },
         "hovertemplate": "label=%{label}<br>value=%{value}<extra></extra>",
         "labels": [
          "Books",
          "Toys",
          "Sports",
          "Health",
          "Clothing",
          "Electronics",
          "Home & Kitchen"
         ],
         "legendgroup": "",
         "marker": {
          "line": {
           "width": 1
          }
         },
         "name": "",
         "showlegend": true,
         "textfont": {
          "size": 10
         },
         "textinfo": "label+percent",
         "textposition": "inside",
         "type": "pie",
         "values": [
          76557,
          76399,
          74270,
          72500,
          71683,
          68148,
          66281
         ]
        },
        {
         "domain": {
          "x": [
           0.7111111111111111,
           1
          ],
          "y": [
           0,
           0.15625
          ]
         },
         "hovertemplate": "label=%{label}<br>value=%{value}<extra></extra>",
         "labels": [
          "Toys",
          "Books",
          "Sports",
          "Clothing",
          "Health",
          "Electronics",
          "Home & Kitchen"
         ],
         "legendgroup": "",
         "marker": {
          "line": {
           "width": 1
          }
         },
         "name": "",
         "showlegend": true,
         "textfont": {
          "size": 10
         },
         "textinfo": "label+percent",
         "textposition": "inside",
         "type": "pie",
         "values": [
          79268,
          78332,
          73226,
          72318,
          71631,
          64019,
          61592
         ]
        }
       ],
       "layout": {
        "annotations": [
         {
          "font": {
           "size": 16
          },
          "showarrow": false,
          "text": "Month 1",
          "x": 0.14444444444444446,
          "xanchor": "center",
          "xref": "paper",
          "y": 1,
          "yanchor": "bottom",
          "yref": "paper"
         },
         {
          "font": {
           "size": 16
          },
          "showarrow": false,
          "text": "Month 2",
          "x": 0.5,
          "xanchor": "center",
          "xref": "paper",
          "y": 1,
          "yanchor": "bottom",
          "yref": "paper"
         },
         {
          "font": {
           "size": 16
          },
          "showarrow": false,
          "text": "Month 3",
          "x": 0.8555555555555556,
          "xanchor": "center",
          "xref": "paper",
          "y": 1,
          "yanchor": "bottom",
          "yref": "paper"
         },
         {
          "font": {
           "size": 16
          },
          "showarrow": false,
          "text": "Month 4",
          "x": 0.14444444444444446,
          "xanchor": "center",
          "xref": "paper",
          "y": 0.71875,
          "yanchor": "bottom",
          "yref": "paper"
         },
         {
          "font": {
           "size": 16
          },
          "showarrow": false,
          "text": "Month 5",
          "x": 0.5,
          "xanchor": "center",
          "xref": "paper",
          "y": 0.71875,
          "yanchor": "bottom",
          "yref": "paper"
         },
         {
          "font": {
           "size": 16
          },
          "showarrow": false,
          "text": "Month 6",
          "x": 0.8555555555555556,
          "xanchor": "center",
          "xref": "paper",
          "y": 0.71875,
          "yanchor": "bottom",
          "yref": "paper"
         },
         {
          "font": {
           "size": 16
          },
          "showarrow": false,
          "text": "Month 7",
          "x": 0.14444444444444446,
          "xanchor": "center",
          "xref": "paper",
          "y": 0.4375,
          "yanchor": "bottom",
          "yref": "paper"
         },
         {
          "font": {
           "size": 16
          },
          "showarrow": false,
          "text": "Month 8",
          "x": 0.5,
          "xanchor": "center",
          "xref": "paper",
          "y": 0.4375,
          "yanchor": "bottom",
          "yref": "paper"
         },
         {
          "font": {
           "size": 16
          },
          "showarrow": false,
          "text": "Month 9",
          "x": 0.8555555555555556,
          "xanchor": "center",
          "xref": "paper",
          "y": 0.4375,
          "yanchor": "bottom",
          "yref": "paper"
         },
         {
          "font": {
           "size": 16
          },
          "showarrow": false,
          "text": "Month 10",
          "x": 0.14444444444444446,
          "xanchor": "center",
          "xref": "paper",
          "y": 0.15625,
          "yanchor": "bottom",
          "yref": "paper"
         },
         {
          "font": {
           "size": 16
          },
          "showarrow": false,
          "text": "Month 11",
          "x": 0.5,
          "xanchor": "center",
          "xref": "paper",
          "y": 0.15625,
          "yanchor": "bottom",
          "yref": "paper"
         },
         {
          "font": {
           "size": 16
          },
          "showarrow": false,
          "text": "Month 12",
          "x": 0.8555555555555556,
          "xanchor": "center",
          "xref": "paper",
          "y": 0.15625,
          "yanchor": "bottom",
          "yref": "paper"
         }
        ],
        "height": 1200,
        "template": {
         "data": {
          "bar": [
           {
            "error_x": {
             "color": "#2a3f5f"
            },
            "error_y": {
             "color": "#2a3f5f"
            },
            "marker": {
             "line": {
              "color": "#E5ECF6",
              "width": 0.5
             },
             "pattern": {
              "fillmode": "overlay",
              "size": 10,
              "solidity": 0.2
             }
            },
            "type": "bar"
           }
          ],
          "barpolar": [
           {
            "marker": {
             "line": {
              "color": "#E5ECF6",
              "width": 0.5
             },
             "pattern": {
              "fillmode": "overlay",
              "size": 10,
              "solidity": 0.2
             }
            },
            "type": "barpolar"
           }
          ],
          "carpet": [
           {
            "aaxis": {
             "endlinecolor": "#2a3f5f",
             "gridcolor": "white",
             "linecolor": "white",
             "minorgridcolor": "white",
             "startlinecolor": "#2a3f5f"
            },
            "baxis": {
             "endlinecolor": "#2a3f5f",
             "gridcolor": "white",
             "linecolor": "white",
             "minorgridcolor": "white",
             "startlinecolor": "#2a3f5f"
            },
            "type": "carpet"
           }
          ],
          "choropleth": [
           {
            "colorbar": {
             "outlinewidth": 0,
             "ticks": ""
            },
            "type": "choropleth"
           }
          ],
          "contour": [
           {
            "colorbar": {
             "outlinewidth": 0,
             "ticks": ""
            },
            "colorscale": [
             [
              0,
              "#0d0887"
             ],
             [
              0.1111111111111111,
              "#46039f"
             ],
             [
              0.2222222222222222,
              "#7201a8"
             ],
             [
              0.3333333333333333,
              "#9c179e"
             ],
             [
              0.4444444444444444,
              "#bd3786"
             ],
             [
              0.5555555555555556,
              "#d8576b"
             ],
             [
              0.6666666666666666,
              "#ed7953"
             ],
             [
              0.7777777777777778,
              "#fb9f3a"
             ],
             [
              0.8888888888888888,
              "#fdca26"
             ],
             [
              1,
              "#f0f921"
             ]
            ],
            "type": "contour"
           }
          ],
          "contourcarpet": [
           {
            "colorbar": {
             "outlinewidth": 0,
             "ticks": ""
            },
            "type": "contourcarpet"
           }
          ],
          "heatmap": [
           {
            "colorbar": {
             "outlinewidth": 0,
             "ticks": ""
            },
            "colorscale": [
             [
              0,
              "#0d0887"
             ],
             [
              0.1111111111111111,
              "#46039f"
             ],
             [
              0.2222222222222222,
              "#7201a8"
             ],
             [
              0.3333333333333333,
              "#9c179e"
             ],
             [
              0.4444444444444444,
              "#bd3786"
             ],
             [
              0.5555555555555556,
              "#d8576b"
             ],
             [
              0.6666666666666666,
              "#ed7953"
             ],
             [
              0.7777777777777778,
              "#fb9f3a"
             ],
             [
              0.8888888888888888,
              "#fdca26"
             ],
             [
              1,
              "#f0f921"
             ]
            ],
            "type": "heatmap"
           }
          ],
          "heatmapgl": [
           {
            "colorbar": {
             "outlinewidth": 0,
             "ticks": ""
            },
            "colorscale": [
             [
              0,
              "#0d0887"
             ],
             [
              0.1111111111111111,
              "#46039f"
             ],
             [
              0.2222222222222222,
              "#7201a8"
             ],
             [
              0.3333333333333333,
              "#9c179e"
             ],
             [
              0.4444444444444444,
              "#bd3786"
             ],
             [
              0.5555555555555556,
              "#d8576b"
             ],
             [
              0.6666666666666666,
              "#ed7953"
             ],
             [
              0.7777777777777778,
              "#fb9f3a"
             ],
             [
              0.8888888888888888,
              "#fdca26"
             ],
             [
              1,
              "#f0f921"
             ]
            ],
            "type": "heatmapgl"
           }
          ],
          "histogram": [
           {
            "marker": {
             "pattern": {
              "fillmode": "overlay",
              "size": 10,
              "solidity": 0.2
             }
            },
            "type": "histogram"
           }
          ],
          "histogram2d": [
           {
            "colorbar": {
             "outlinewidth": 0,
             "ticks": ""
            },
            "colorscale": [
             [
              0,
              "#0d0887"
             ],
             [
              0.1111111111111111,
              "#46039f"
             ],
             [
              0.2222222222222222,
              "#7201a8"
             ],
             [
              0.3333333333333333,
              "#9c179e"
             ],
             [
              0.4444444444444444,
              "#bd3786"
             ],
             [
              0.5555555555555556,
              "#d8576b"
             ],
             [
              0.6666666666666666,
              "#ed7953"
             ],
             [
              0.7777777777777778,
              "#fb9f3a"
             ],
             [
              0.8888888888888888,
              "#fdca26"
             ],
             [
              1,
              "#f0f921"
             ]
            ],
            "type": "histogram2d"
           }
          ],
          "histogram2dcontour": [
           {
            "colorbar": {
             "outlinewidth": 0,
             "ticks": ""
            },
            "colorscale": [
             [
              0,
              "#0d0887"
             ],
             [
              0.1111111111111111,
              "#46039f"
             ],
             [
              0.2222222222222222,
              "#7201a8"
             ],
             [
              0.3333333333333333,
              "#9c179e"
             ],
             [
              0.4444444444444444,
              "#bd3786"
             ],
             [
              0.5555555555555556,
              "#d8576b"
             ],
             [
              0.6666666666666666,
              "#ed7953"
             ],
             [
              0.7777777777777778,
              "#fb9f3a"
             ],
             [
              0.8888888888888888,
              "#fdca26"
             ],
             [
              1,
              "#f0f921"
             ]
            ],
            "type": "histogram2dcontour"
           }
          ],
          "mesh3d": [
           {
            "colorbar": {
             "outlinewidth": 0,
             "ticks": ""
            },
            "type": "mesh3d"
           }
          ],
          "parcoords": [
           {
            "line": {
             "colorbar": {
              "outlinewidth": 0,
              "ticks": ""
             }
            },
            "type": "parcoords"
           }
          ],
          "pie": [
           {
            "automargin": true,
            "type": "pie"
           }
          ],
          "scatter": [
           {
            "fillpattern": {
             "fillmode": "overlay",
             "size": 10,
             "solidity": 0.2
            },
            "type": "scatter"
           }
          ],
          "scatter3d": [
           {
            "line": {
             "colorbar": {
              "outlinewidth": 0,
              "ticks": ""
             }
            },
            "marker": {
             "colorbar": {
              "outlinewidth": 0,
              "ticks": ""
             }
            },
            "type": "scatter3d"
           }
          ],
          "scattercarpet": [
           {
            "marker": {
             "colorbar": {
              "outlinewidth": 0,
              "ticks": ""
             }
            },
            "type": "scattercarpet"
           }
          ],
          "scattergeo": [
           {
            "marker": {
             "colorbar": {
              "outlinewidth": 0,
              "ticks": ""
             }
            },
            "type": "scattergeo"
           }
          ],
          "scattergl": [
           {
            "marker": {
             "colorbar": {
              "outlinewidth": 0,
              "ticks": ""
             }
            },
            "type": "scattergl"
           }
          ],
          "scattermapbox": [
           {
            "marker": {
             "colorbar": {
              "outlinewidth": 0,
              "ticks": ""
             }
            },
            "type": "scattermapbox"
           }
          ],
          "scatterpolar": [
           {
            "marker": {
             "colorbar": {
              "outlinewidth": 0,
              "ticks": ""
             }
            },
            "type": "scatterpolar"
           }
          ],
          "scatterpolargl": [
           {
            "marker": {
             "colorbar": {
              "outlinewidth": 0,
              "ticks": ""
             }
            },
            "type": "scatterpolargl"
           }
          ],
          "scatterternary": [
           {
            "marker": {
             "colorbar": {
              "outlinewidth": 0,
              "ticks": ""
             }
            },
            "type": "scatterternary"
           }
          ],
          "surface": [
           {
            "colorbar": {
             "outlinewidth": 0,
             "ticks": ""
            },
            "colorscale": [
             [
              0,
              "#0d0887"
             ],
             [
              0.1111111111111111,
              "#46039f"
             ],
             [
              0.2222222222222222,
              "#7201a8"
             ],
             [
              0.3333333333333333,
              "#9c179e"
             ],
             [
              0.4444444444444444,
              "#bd3786"
             ],
             [
              0.5555555555555556,
              "#d8576b"
             ],
             [
              0.6666666666666666,
              "#ed7953"
             ],
             [
              0.7777777777777778,
              "#fb9f3a"
             ],
             [
              0.8888888888888888,
              "#fdca26"
             ],
             [
              1,
              "#f0f921"
             ]
            ],
            "type": "surface"
           }
          ],
          "table": [
           {
            "cells": {
             "fill": {
              "color": "#EBF0F8"
             },
             "line": {
              "color": "white"
             }
            },
            "header": {
             "fill": {
              "color": "#C8D4E3"
             },
             "line": {
              "color": "white"
             }
            },
            "type": "table"
           }
          ]
         },
         "layout": {
          "annotationdefaults": {
           "arrowcolor": "#2a3f5f",
           "arrowhead": 0,
           "arrowwidth": 1
          },
          "autotypenumbers": "strict",
          "coloraxis": {
           "colorbar": {
            "outlinewidth": 0,
            "ticks": ""
           }
          },
          "colorscale": {
           "diverging": [
            [
             0,
             "#8e0152"
            ],
            [
             0.1,
             "#c51b7d"
            ],
            [
             0.2,
             "#de77ae"
            ],
            [
             0.3,
             "#f1b6da"
            ],
            [
             0.4,
             "#fde0ef"
            ],
            [
             0.5,
             "#f7f7f7"
            ],
            [
             0.6,
             "#e6f5d0"
            ],
            [
             0.7,
             "#b8e186"
            ],
            [
             0.8,
             "#7fbc41"
            ],
            [
             0.9,
             "#4d9221"
            ],
            [
             1,
             "#276419"
            ]
           ],
           "sequential": [
            [
             0,
             "#0d0887"
            ],
            [
             0.1111111111111111,
             "#46039f"
            ],
            [
             0.2222222222222222,
             "#7201a8"
            ],
            [
             0.3333333333333333,
             "#9c179e"
            ],
            [
             0.4444444444444444,
             "#bd3786"
            ],
            [
             0.5555555555555556,
             "#d8576b"
            ],
            [
             0.6666666666666666,
             "#ed7953"
            ],
            [
             0.7777777777777778,
             "#fb9f3a"
            ],
            [
             0.8888888888888888,
             "#fdca26"
            ],
            [
             1,
             "#f0f921"
            ]
           ],
           "sequentialminus": [
            [
             0,
             "#0d0887"
            ],
            [
             0.1111111111111111,
             "#46039f"
            ],
            [
             0.2222222222222222,
             "#7201a8"
            ],
            [
             0.3333333333333333,
             "#9c179e"
            ],
            [
             0.4444444444444444,
             "#bd3786"
            ],
            [
             0.5555555555555556,
             "#d8576b"
            ],
            [
             0.6666666666666666,
             "#ed7953"
            ],
            [
             0.7777777777777778,
             "#fb9f3a"
            ],
            [
             0.8888888888888888,
             "#fdca26"
            ],
            [
             1,
             "#f0f921"
            ]
           ]
          },
          "colorway": [
           "#636efa",
           "#EF553B",
           "#00cc96",
           "#ab63fa",
           "#FFA15A",
           "#19d3f3",
           "#FF6692",
           "#B6E880",
           "#FF97FF",
           "#FECB52"
          ],
          "font": {
           "color": "#2a3f5f"
          },
          "geo": {
           "bgcolor": "white",
           "lakecolor": "white",
           "landcolor": "#E5ECF6",
           "showlakes": true,
           "showland": true,
           "subunitcolor": "white"
          },
          "hoverlabel": {
           "align": "left"
          },
          "hovermode": "closest",
          "mapbox": {
           "style": "light"
          },
          "paper_bgcolor": "white",
          "plot_bgcolor": "#E5ECF6",
          "polar": {
           "angularaxis": {
            "gridcolor": "white",
            "linecolor": "white",
            "ticks": ""
           },
           "bgcolor": "#E5ECF6",
           "radialaxis": {
            "gridcolor": "white",
            "linecolor": "white",
            "ticks": ""
           }
          },
          "scene": {
           "xaxis": {
            "backgroundcolor": "#E5ECF6",
            "gridcolor": "white",
            "gridwidth": 2,
            "linecolor": "white",
            "showbackground": true,
            "ticks": "",
            "zerolinecolor": "white"
           },
           "yaxis": {
            "backgroundcolor": "#E5ECF6",
            "gridcolor": "white",
            "gridwidth": 2,
            "linecolor": "white",
            "showbackground": true,
            "ticks": "",
            "zerolinecolor": "white"
           },
           "zaxis": {
            "backgroundcolor": "#E5ECF6",
            "gridcolor": "white",
            "gridwidth": 2,
            "linecolor": "white",
            "showbackground": true,
            "ticks": "",
            "zerolinecolor": "white"
           }
          },
          "shapedefaults": {
           "line": {
            "color": "#2a3f5f"
           }
          },
          "ternary": {
           "aaxis": {
            "gridcolor": "white",
            "linecolor": "white",
            "ticks": ""
           },
           "baxis": {
            "gridcolor": "white",
            "linecolor": "white",
            "ticks": ""
           },
           "bgcolor": "#E5ECF6",
           "caxis": {
            "gridcolor": "white",
            "linecolor": "white",
            "ticks": ""
           }
          },
          "title": {
           "x": 0.05
          },
          "xaxis": {
           "automargin": true,
           "gridcolor": "white",
           "linecolor": "white",
           "ticks": "",
           "title": {
            "standoff": 15
           },
           "zerolinecolor": "white",
           "zerolinewidth": 2
          },
          "yaxis": {
           "automargin": true,
           "gridcolor": "white",
           "linecolor": "white",
           "ticks": "",
           "title": {
            "standoff": 15
           },
           "zerolinecolor": "white",
           "zerolinewidth": 2
          }
         }
        },
        "title": {
         "text": "Top Performing Product Categories Over The Past Year"
        }
       }
      }
     },
     "metadata": {},
     "output_type": "display_data"
    }
   ],
   "source": [
    "#Graph of Top performing product categories Over The Past Year\n",
    "fig = make_subplots(rows = 4, cols = 3, \n",
    "                    specs=[[{\"type\": \"pie\"}, {\"type\": \"pie\"}, {\"type\": \"pie\"}],\n",
    "                           [{\"type\": \"pie\"}, {\"type\": \"pie\"}, {\"type\": \"pie\"}],\n",
    "                           [{\"type\": \"pie\"}, {\"type\": \"pie\"}, {\"type\": \"pie\"}],\n",
    "                           [{\"type\": \"pie\"}, {\"type\": \"pie\"}, {\"type\": \"pie\"}]],\n",
    "                           \n",
    "                    subplot_titles = ('Month 1', 'Month 2', 'Month 3', 'Month 4', \n",
    "                                      'Month 5', 'Month 6', 'Month 7', 'Month 8',\n",
    "                                      'Month 9', 'Month 10', 'Month 11', 'Month 12'))\n",
    "fig1 = px.pie(values = sm1_1['sales_month_1'], names = sm1_1.index)\n",
    "for trace in fig1.data:\n",
    "    fig.add_trace(fig1.data[0], row=1, col=1)\n",
    "\n",
    "fig2 = px.pie(values = sm2_2['sales_month_2'], names = sm2_2.index)\n",
    "for trace in fig2.data:\n",
    "    fig.add_trace(fig2.data[0], row=1, col=2)\n",
    "\n",
    "fig3 = px.pie(values = sm3_3['sales_month_3'], names = sm3_3.index)\n",
    "for trace in fig3.data:\n",
    "    fig.add_trace(fig3.data[0], row=1, col=3)\n",
    "\n",
    "fig4 = px.pie(values = sm4_4['sales_month_4'], names = sm4_4.index)\n",
    "for trace in fig4.data:\n",
    "    fig.add_trace(fig4.data[0], row=2, col=1)    \n",
    "\n",
    "fig5 = px.pie(values = sm5_5['sales_month_5'], names = sm5_5.index)\n",
    "for trace in fig5.data:\n",
    "    fig.add_trace(fig5.data[0], row=2, col=2)\n",
    "    \n",
    "fig6 = px.pie(values = sm6_6['sales_month_6'], names = sm6_6.index)\n",
    "for trace in fig6.data:\n",
    "    fig.add_trace(fig6.data[0], row=2, col=3)\n",
    "    \n",
    "fig7 = px.pie(values = sm7_7['sales_month_7'], names = sm7_7.index)\n",
    "for trace in fig7.data:\n",
    "    fig.add_trace(fig7.data[0], row=3, col=1)\n",
    "    \n",
    "fig8 = px.pie(values = sm8_8['sales_month_8'], names = sm8_8.index)\n",
    "for trace in fig8.data:\n",
    "    fig.add_trace(fig8.data[0], row=3, col=2)\n",
    "    \n",
    "fig9 = px.pie(values = sm9_9['sales_month_9'], names = sm9_9.index)\n",
    "for trace in fig9.data:\n",
    "    fig.add_trace(fig9.data[0], row=3, col=3)\n",
    "    \n",
    "fig10 = px.pie(values = sm10_10['sales_month_10'], names = sm10_10.index)\n",
    "for trace in fig10.data:\n",
    "    fig.add_trace(fig10.data[0], row=4, col=1)\n",
    "    \n",
    "fig11 = px.pie(values = sm11_11['sales_month_11'], names = sm11_11.index)\n",
    "for trace in fig11.data:\n",
    "    fig.add_trace(fig11.data[0], row=4, col=2)\n",
    "\n",
    "fig12 = px.pie(values = sm12_12['sales_month_12'], names = sm12_12.index)\n",
    "for trace in fig12.data:\n",
    "    fig.add_trace(fig12.data[0], row=4, col=3)\n",
    "    \n",
    "    \n",
    "fig.update_traces(marker_line_width = 1, textinfo = 'label+percent',textposition = \"inside\", textfont_size = 10)\n",
    "fig.update_layout(title = 'Top Performing Product Categories Over The Past Year',\n",
    "                  height = 1200)\n",
    "fig.show()"
   ]
  },
  {
   "cell_type": "code",
   "execution_count": 80,
   "metadata": {},
   "outputs": [
    {
     "data": {
      "text/html": [
       "<div>\n",
       "<style scoped>\n",
       "    .dataframe tbody tr th:only-of-type {\n",
       "        vertical-align: middle;\n",
       "    }\n",
       "\n",
       "    .dataframe tbody tr th {\n",
       "        vertical-align: top;\n",
       "    }\n",
       "\n",
       "    .dataframe thead th {\n",
       "        text-align: right;\n",
       "    }\n",
       "</style>\n",
       "<table border=\"1\" class=\"dataframe\">\n",
       "  <thead>\n",
       "    <tr style=\"text-align: right;\">\n",
       "      <th></th>\n",
       "      <th>product_id</th>\n",
       "      <th>product_name</th>\n",
       "      <th>category</th>\n",
       "      <th>price</th>\n",
       "      <th>review_count</th>\n",
       "      <th>sales_month_1</th>\n",
       "      <th>sales_month_2</th>\n",
       "      <th>sales_month_3</th>\n",
       "      <th>sales_month_4</th>\n",
       "      <th>sales_month_5</th>\n",
       "      <th>sales_month_6</th>\n",
       "      <th>sales_month_7</th>\n",
       "      <th>sales_month_8</th>\n",
       "      <th>sales_month_9</th>\n",
       "      <th>sales_month_10</th>\n",
       "      <th>sales_month_11</th>\n",
       "      <th>sales_month_12</th>\n",
       "      <th>total_sales</th>\n",
       "    </tr>\n",
       "    <tr>\n",
       "      <th>review_score</th>\n",
       "      <th></th>\n",
       "      <th></th>\n",
       "      <th></th>\n",
       "      <th></th>\n",
       "      <th></th>\n",
       "      <th></th>\n",
       "      <th></th>\n",
       "      <th></th>\n",
       "      <th></th>\n",
       "      <th></th>\n",
       "      <th></th>\n",
       "      <th></th>\n",
       "      <th></th>\n",
       "      <th></th>\n",
       "      <th></th>\n",
       "      <th></th>\n",
       "      <th></th>\n",
       "      <th></th>\n",
       "    </tr>\n",
       "  </thead>\n",
       "  <tbody>\n",
       "    <tr>\n",
       "      <th>1.0</th>\n",
       "      <td>7153</td>\n",
       "      <td>Product_169Product_265Product_284Product_427Pr...</td>\n",
       "      <td>BooksHome &amp; KitchenBooksSportsHome &amp; KitchenBo...</td>\n",
       "      <td>2696.98</td>\n",
       "      <td>5856</td>\n",
       "      <td>6007</td>\n",
       "      <td>5478</td>\n",
       "      <td>6743</td>\n",
       "      <td>7228</td>\n",
       "      <td>5365</td>\n",
       "      <td>5549</td>\n",
       "      <td>5734</td>\n",
       "      <td>5506</td>\n",
       "      <td>6223</td>\n",
       "      <td>5071</td>\n",
       "      <td>5312</td>\n",
       "      <td>5895</td>\n",
       "      <td>70111</td>\n",
       "    </tr>\n",
       "    <tr>\n",
       "      <th>1.1</th>\n",
       "      <td>10842</td>\n",
       "      <td>Product_20Product_31Product_48Product_50Produc...</td>\n",
       "      <td>Home &amp; KitchenHealthToysHealthBooksBooksHome &amp;...</td>\n",
       "      <td>5739.10</td>\n",
       "      <td>14085</td>\n",
       "      <td>10563</td>\n",
       "      <td>14478</td>\n",
       "      <td>12792</td>\n",
       "      <td>14539</td>\n",
       "      <td>13416</td>\n",
       "      <td>11569</td>\n",
       "      <td>11793</td>\n",
       "      <td>13560</td>\n",
       "      <td>11111</td>\n",
       "      <td>13787</td>\n",
       "      <td>13771</td>\n",
       "      <td>11662</td>\n",
       "      <td>153041</td>\n",
       "    </tr>\n",
       "    <tr>\n",
       "      <th>1.2</th>\n",
       "      <td>13122</td>\n",
       "      <td>Product_14Product_73Product_101Product_195Prod...</td>\n",
       "      <td>BooksHealthSportsClothingBooksElectronicsHome ...</td>\n",
       "      <td>5386.69</td>\n",
       "      <td>13588</td>\n",
       "      <td>10223</td>\n",
       "      <td>12414</td>\n",
       "      <td>12287</td>\n",
       "      <td>12146</td>\n",
       "      <td>11264</td>\n",
       "      <td>11103</td>\n",
       "      <td>13988</td>\n",
       "      <td>13661</td>\n",
       "      <td>11331</td>\n",
       "      <td>11928</td>\n",
       "      <td>10211</td>\n",
       "      <td>12101</td>\n",
       "      <td>142657</td>\n",
       "    </tr>\n",
       "    <tr>\n",
       "      <th>1.3</th>\n",
       "      <td>15369</td>\n",
       "      <td>Product_35Product_39Product_127Product_133Prod...</td>\n",
       "      <td>ClothingHome &amp; KitchenToysToysHome &amp; KitchenBo...</td>\n",
       "      <td>6987.70</td>\n",
       "      <td>16106</td>\n",
       "      <td>17478</td>\n",
       "      <td>14665</td>\n",
       "      <td>14760</td>\n",
       "      <td>16427</td>\n",
       "      <td>13805</td>\n",
       "      <td>14234</td>\n",
       "      <td>15101</td>\n",
       "      <td>14723</td>\n",
       "      <td>12923</td>\n",
       "      <td>15742</td>\n",
       "      <td>18766</td>\n",
       "      <td>15148</td>\n",
       "      <td>183772</td>\n",
       "    </tr>\n",
       "    <tr>\n",
       "      <th>1.4</th>\n",
       "      <td>14071</td>\n",
       "      <td>Product_68Product_82Product_117Product_178Prod...</td>\n",
       "      <td>BooksClothingElectronicsHealthBooksClothingSpo...</td>\n",
       "      <td>7481.06</td>\n",
       "      <td>12339</td>\n",
       "      <td>12314</td>\n",
       "      <td>13706</td>\n",
       "      <td>17458</td>\n",
       "      <td>13058</td>\n",
       "      <td>14202</td>\n",
       "      <td>13358</td>\n",
       "      <td>14169</td>\n",
       "      <td>14211</td>\n",
       "      <td>11517</td>\n",
       "      <td>13155</td>\n",
       "      <td>14908</td>\n",
       "      <td>14860</td>\n",
       "      <td>166916</td>\n",
       "    </tr>\n",
       "    <tr>\n",
       "      <th>1.5</th>\n",
       "      <td>16152</td>\n",
       "      <td>Product_34Product_120Product_162Product_200Pro...</td>\n",
       "      <td>ToysToysToysSportsBooksClothingToysToysElectro...</td>\n",
       "      <td>7179.76</td>\n",
       "      <td>16331</td>\n",
       "      <td>16340</td>\n",
       "      <td>14657</td>\n",
       "      <td>13268</td>\n",
       "      <td>14207</td>\n",
       "      <td>14565</td>\n",
       "      <td>14865</td>\n",
       "      <td>12301</td>\n",
       "      <td>18356</td>\n",
       "      <td>15916</td>\n",
       "      <td>14458</td>\n",
       "      <td>15325</td>\n",
       "      <td>14037</td>\n",
       "      <td>178295</td>\n",
       "    </tr>\n",
       "    <tr>\n",
       "      <th>1.6</th>\n",
       "      <td>10169</td>\n",
       "      <td>Product_110Product_157Product_165Product_222Pr...</td>\n",
       "      <td>ElectronicsElectronicsBooksSportsToysToysBooks...</td>\n",
       "      <td>4320.98</td>\n",
       "      <td>8416</td>\n",
       "      <td>9694</td>\n",
       "      <td>11322</td>\n",
       "      <td>9225</td>\n",
       "      <td>8284</td>\n",
       "      <td>8603</td>\n",
       "      <td>9208</td>\n",
       "      <td>8814</td>\n",
       "      <td>8465</td>\n",
       "      <td>8876</td>\n",
       "      <td>9789</td>\n",
       "      <td>9839</td>\n",
       "      <td>10180</td>\n",
       "      <td>112299</td>\n",
       "    </tr>\n",
       "    <tr>\n",
       "      <th>1.7</th>\n",
       "      <td>13186</td>\n",
       "      <td>Product_1Product_17Product_88Product_96Product...</td>\n",
       "      <td>ClothingToysHealthBooksHome &amp; KitchenBooksSpor...</td>\n",
       "      <td>7287.27</td>\n",
       "      <td>15641</td>\n",
       "      <td>13435</td>\n",
       "      <td>16788</td>\n",
       "      <td>14747</td>\n",
       "      <td>14613</td>\n",
       "      <td>15033</td>\n",
       "      <td>13085</td>\n",
       "      <td>12962</td>\n",
       "      <td>14452</td>\n",
       "      <td>12465</td>\n",
       "      <td>14576</td>\n",
       "      <td>13590</td>\n",
       "      <td>16695</td>\n",
       "      <td>172441</td>\n",
       "    </tr>\n",
       "    <tr>\n",
       "      <th>1.8</th>\n",
       "      <td>10173</td>\n",
       "      <td>Product_257Product_296Product_337Product_362Pr...</td>\n",
       "      <td>Home &amp; KitchenToysToysSportsHealthBooksHealthH...</td>\n",
       "      <td>5090.11</td>\n",
       "      <td>8834</td>\n",
       "      <td>7965</td>\n",
       "      <td>8851</td>\n",
       "      <td>7470</td>\n",
       "      <td>8710</td>\n",
       "      <td>8107</td>\n",
       "      <td>6781</td>\n",
       "      <td>10703</td>\n",
       "      <td>9411</td>\n",
       "      <td>9993</td>\n",
       "      <td>9151</td>\n",
       "      <td>8746</td>\n",
       "      <td>6393</td>\n",
       "      <td>102281</td>\n",
       "    </tr>\n",
       "    <tr>\n",
       "      <th>1.9</th>\n",
       "      <td>11809</td>\n",
       "      <td>Product_11Product_33Product_47Product_72Produc...</td>\n",
       "      <td>ToysClothingSportsToysHealthHealthElectronicsC...</td>\n",
       "      <td>7055.79</td>\n",
       "      <td>13083</td>\n",
       "      <td>15982</td>\n",
       "      <td>16935</td>\n",
       "      <td>13637</td>\n",
       "      <td>16993</td>\n",
       "      <td>12992</td>\n",
       "      <td>15980</td>\n",
       "      <td>14530</td>\n",
       "      <td>13169</td>\n",
       "      <td>18042</td>\n",
       "      <td>14891</td>\n",
       "      <td>12473</td>\n",
       "      <td>17169</td>\n",
       "      <td>182793</td>\n",
       "    </tr>\n",
       "    <tr>\n",
       "      <th>2.0</th>\n",
       "      <td>11494</td>\n",
       "      <td>Product_9Product_67Product_130Product_174Produ...</td>\n",
       "      <td>ElectronicsHome &amp; KitchenBooksToysElectronicsT...</td>\n",
       "      <td>5617.77</td>\n",
       "      <td>11404</td>\n",
       "      <td>9980</td>\n",
       "      <td>12429</td>\n",
       "      <td>9549</td>\n",
       "      <td>10887</td>\n",
       "      <td>12105</td>\n",
       "      <td>9641</td>\n",
       "      <td>12082</td>\n",
       "      <td>11373</td>\n",
       "      <td>14425</td>\n",
       "      <td>10936</td>\n",
       "      <td>11087</td>\n",
       "      <td>14048</td>\n",
       "      <td>138542</td>\n",
       "    </tr>\n",
       "    <tr>\n",
       "      <th>2.1</th>\n",
       "      <td>9643</td>\n",
       "      <td>Product_70Product_119Product_145Product_170Pro...</td>\n",
       "      <td>BooksBooksElectronicsClothingElectronicsClothi...</td>\n",
       "      <td>5117.48</td>\n",
       "      <td>12552</td>\n",
       "      <td>9588</td>\n",
       "      <td>10243</td>\n",
       "      <td>12111</td>\n",
       "      <td>10630</td>\n",
       "      <td>9113</td>\n",
       "      <td>10898</td>\n",
       "      <td>11974</td>\n",
       "      <td>8558</td>\n",
       "      <td>10396</td>\n",
       "      <td>10614</td>\n",
       "      <td>11705</td>\n",
       "      <td>11640</td>\n",
       "      <td>127470</td>\n",
       "    </tr>\n",
       "    <tr>\n",
       "      <th>2.2</th>\n",
       "      <td>11670</td>\n",
       "      <td>Product_22Product_71Product_189Product_263Prod...</td>\n",
       "      <td>BooksHome &amp; KitchenHome &amp; KitchenHealthClothin...</td>\n",
       "      <td>3952.54</td>\n",
       "      <td>11769</td>\n",
       "      <td>10334</td>\n",
       "      <td>10221</td>\n",
       "      <td>9489</td>\n",
       "      <td>9178</td>\n",
       "      <td>11802</td>\n",
       "      <td>11585</td>\n",
       "      <td>11233</td>\n",
       "      <td>7805</td>\n",
       "      <td>9450</td>\n",
       "      <td>10547</td>\n",
       "      <td>10649</td>\n",
       "      <td>8745</td>\n",
       "      <td>121038</td>\n",
       "    </tr>\n",
       "    <tr>\n",
       "      <th>2.3</th>\n",
       "      <td>10394</td>\n",
       "      <td>Product_29Product_40Product_43Product_163Produ...</td>\n",
       "      <td>BooksHome &amp; KitchenHome &amp; KitchenHome &amp; Kitche...</td>\n",
       "      <td>5634.52</td>\n",
       "      <td>11393</td>\n",
       "      <td>11334</td>\n",
       "      <td>12803</td>\n",
       "      <td>11891</td>\n",
       "      <td>12732</td>\n",
       "      <td>11576</td>\n",
       "      <td>13124</td>\n",
       "      <td>9898</td>\n",
       "      <td>9758</td>\n",
       "      <td>10588</td>\n",
       "      <td>10780</td>\n",
       "      <td>9720</td>\n",
       "      <td>8900</td>\n",
       "      <td>133104</td>\n",
       "    </tr>\n",
       "    <tr>\n",
       "      <th>2.4</th>\n",
       "      <td>11498</td>\n",
       "      <td>Product_37Product_56Product_69Product_100Produ...</td>\n",
       "      <td>Home &amp; KitchenClothingElectronicsClothingToysC...</td>\n",
       "      <td>6539.66</td>\n",
       "      <td>12949</td>\n",
       "      <td>12902</td>\n",
       "      <td>11439</td>\n",
       "      <td>14469</td>\n",
       "      <td>9705</td>\n",
       "      <td>13731</td>\n",
       "      <td>12746</td>\n",
       "      <td>13024</td>\n",
       "      <td>12792</td>\n",
       "      <td>9709</td>\n",
       "      <td>12980</td>\n",
       "      <td>13034</td>\n",
       "      <td>13433</td>\n",
       "      <td>149964</td>\n",
       "    </tr>\n",
       "    <tr>\n",
       "      <th>2.5</th>\n",
       "      <td>10093</td>\n",
       "      <td>Product_77Product_129Product_236Product_348Pro...</td>\n",
       "      <td>Home &amp; KitchenBooksSportsElectronicsElectronic...</td>\n",
       "      <td>3690.89</td>\n",
       "      <td>8813</td>\n",
       "      <td>8420</td>\n",
       "      <td>11474</td>\n",
       "      <td>7498</td>\n",
       "      <td>8623</td>\n",
       "      <td>8708</td>\n",
       "      <td>7927</td>\n",
       "      <td>9659</td>\n",
       "      <td>8229</td>\n",
       "      <td>9772</td>\n",
       "      <td>9076</td>\n",
       "      <td>7737</td>\n",
       "      <td>8065</td>\n",
       "      <td>105188</td>\n",
       "    </tr>\n",
       "    <tr>\n",
       "      <th>2.6</th>\n",
       "      <td>12513</td>\n",
       "      <td>Product_58Product_107Product_128Product_227Pro...</td>\n",
       "      <td>HealthBooksClothingToysElectronicsToysSportsSp...</td>\n",
       "      <td>6954.36</td>\n",
       "      <td>11965</td>\n",
       "      <td>11249</td>\n",
       "      <td>11962</td>\n",
       "      <td>14293</td>\n",
       "      <td>13183</td>\n",
       "      <td>12095</td>\n",
       "      <td>12185</td>\n",
       "      <td>11743</td>\n",
       "      <td>16100</td>\n",
       "      <td>11244</td>\n",
       "      <td>14337</td>\n",
       "      <td>14658</td>\n",
       "      <td>11439</td>\n",
       "      <td>154488</td>\n",
       "    </tr>\n",
       "    <tr>\n",
       "      <th>2.7</th>\n",
       "      <td>13032</td>\n",
       "      <td>Product_64Product_65Product_76Product_83Produc...</td>\n",
       "      <td>HealthHealthToysBooksHealthToysToysToysSportsT...</td>\n",
       "      <td>5155.20</td>\n",
       "      <td>12433</td>\n",
       "      <td>11802</td>\n",
       "      <td>12223</td>\n",
       "      <td>12455</td>\n",
       "      <td>11466</td>\n",
       "      <td>13821</td>\n",
       "      <td>9871</td>\n",
       "      <td>14583</td>\n",
       "      <td>11629</td>\n",
       "      <td>13334</td>\n",
       "      <td>14162</td>\n",
       "      <td>12454</td>\n",
       "      <td>11229</td>\n",
       "      <td>149029</td>\n",
       "    </tr>\n",
       "    <tr>\n",
       "      <th>2.8</th>\n",
       "      <td>16444</td>\n",
       "      <td>Product_208Product_212Product_264Product_315Pr...</td>\n",
       "      <td>HealthHealthToysSportsHome &amp; KitchenSportsHome...</td>\n",
       "      <td>6073.12</td>\n",
       "      <td>15549</td>\n",
       "      <td>11071</td>\n",
       "      <td>13767</td>\n",
       "      <td>15070</td>\n",
       "      <td>14115</td>\n",
       "      <td>15939</td>\n",
       "      <td>11169</td>\n",
       "      <td>14235</td>\n",
       "      <td>13427</td>\n",
       "      <td>13304</td>\n",
       "      <td>17635</td>\n",
       "      <td>14255</td>\n",
       "      <td>13007</td>\n",
       "      <td>166994</td>\n",
       "    </tr>\n",
       "    <tr>\n",
       "      <th>2.9</th>\n",
       "      <td>9252</td>\n",
       "      <td>Product_26Product_59Product_86Product_139Produ...</td>\n",
       "      <td>ClothingBooksSportsBooksBooksBooksElectronicsH...</td>\n",
       "      <td>4683.73</td>\n",
       "      <td>9099</td>\n",
       "      <td>10733</td>\n",
       "      <td>11503</td>\n",
       "      <td>12066</td>\n",
       "      <td>9894</td>\n",
       "      <td>9154</td>\n",
       "      <td>11034</td>\n",
       "      <td>9028</td>\n",
       "      <td>10415</td>\n",
       "      <td>10385</td>\n",
       "      <td>11161</td>\n",
       "      <td>8275</td>\n",
       "      <td>9463</td>\n",
       "      <td>123111</td>\n",
       "    </tr>\n",
       "    <tr>\n",
       "      <th>3.0</th>\n",
       "      <td>12565</td>\n",
       "      <td>Product_10Product_132Product_138Product_168Pro...</td>\n",
       "      <td>ClothingClothingElectronicsSportsHome &amp; Kitche...</td>\n",
       "      <td>6029.36</td>\n",
       "      <td>12264</td>\n",
       "      <td>11422</td>\n",
       "      <td>11902</td>\n",
       "      <td>13153</td>\n",
       "      <td>11377</td>\n",
       "      <td>9206</td>\n",
       "      <td>13498</td>\n",
       "      <td>11714</td>\n",
       "      <td>10668</td>\n",
       "      <td>12172</td>\n",
       "      <td>9725</td>\n",
       "      <td>9878</td>\n",
       "      <td>12670</td>\n",
       "      <td>137385</td>\n",
       "    </tr>\n",
       "    <tr>\n",
       "      <th>3.1</th>\n",
       "      <td>12203</td>\n",
       "      <td>Product_52Product_94Product_114Product_286Prod...</td>\n",
       "      <td>ClothingClothingSportsClothingSportsHealthHeal...</td>\n",
       "      <td>6224.10</td>\n",
       "      <td>10829</td>\n",
       "      <td>11625</td>\n",
       "      <td>12870</td>\n",
       "      <td>12171</td>\n",
       "      <td>12667</td>\n",
       "      <td>11471</td>\n",
       "      <td>9889</td>\n",
       "      <td>13808</td>\n",
       "      <td>12136</td>\n",
       "      <td>12096</td>\n",
       "      <td>10653</td>\n",
       "      <td>11878</td>\n",
       "      <td>11587</td>\n",
       "      <td>142851</td>\n",
       "    </tr>\n",
       "    <tr>\n",
       "      <th>3.2</th>\n",
       "      <td>13908</td>\n",
       "      <td>Product_2Product_41Product_126Product_176Produ...</td>\n",
       "      <td>Home &amp; KitchenToysHome &amp; KitchenBooksSportsSpo...</td>\n",
       "      <td>6163.09</td>\n",
       "      <td>13470</td>\n",
       "      <td>15383</td>\n",
       "      <td>14520</td>\n",
       "      <td>11295</td>\n",
       "      <td>13870</td>\n",
       "      <td>12938</td>\n",
       "      <td>13267</td>\n",
       "      <td>13829</td>\n",
       "      <td>11645</td>\n",
       "      <td>13004</td>\n",
       "      <td>11618</td>\n",
       "      <td>13344</td>\n",
       "      <td>13444</td>\n",
       "      <td>158157</td>\n",
       "    </tr>\n",
       "    <tr>\n",
       "      <th>3.3</th>\n",
       "      <td>8535</td>\n",
       "      <td>Product_18Product_116Product_144Product_192Pro...</td>\n",
       "      <td>Home &amp; KitchenElectronicsBooksElectronicsToysE...</td>\n",
       "      <td>4600.85</td>\n",
       "      <td>9539</td>\n",
       "      <td>8964</td>\n",
       "      <td>9848</td>\n",
       "      <td>11622</td>\n",
       "      <td>7930</td>\n",
       "      <td>9143</td>\n",
       "      <td>10527</td>\n",
       "      <td>9140</td>\n",
       "      <td>8519</td>\n",
       "      <td>7838</td>\n",
       "      <td>9033</td>\n",
       "      <td>7807</td>\n",
       "      <td>8244</td>\n",
       "      <td>108615</td>\n",
       "    </tr>\n",
       "    <tr>\n",
       "      <th>3.4</th>\n",
       "      <td>13946</td>\n",
       "      <td>Product_32Product_93Product_115Product_140Prod...</td>\n",
       "      <td>ClothingBooksSportsToysSportsToysClothingElect...</td>\n",
       "      <td>6543.87</td>\n",
       "      <td>13107</td>\n",
       "      <td>12711</td>\n",
       "      <td>9672</td>\n",
       "      <td>12924</td>\n",
       "      <td>12299</td>\n",
       "      <td>11590</td>\n",
       "      <td>11275</td>\n",
       "      <td>13486</td>\n",
       "      <td>11422</td>\n",
       "      <td>11138</td>\n",
       "      <td>13847</td>\n",
       "      <td>11557</td>\n",
       "      <td>11811</td>\n",
       "      <td>143732</td>\n",
       "    </tr>\n",
       "    <tr>\n",
       "      <th>3.5</th>\n",
       "      <td>16880</td>\n",
       "      <td>Product_44Product_46Product_60Product_87Produc...</td>\n",
       "      <td>SportsHome &amp; KitchenHealthSportsHome &amp; Kitchen...</td>\n",
       "      <td>10315.53</td>\n",
       "      <td>22467</td>\n",
       "      <td>20626</td>\n",
       "      <td>17123</td>\n",
       "      <td>15685</td>\n",
       "      <td>18180</td>\n",
       "      <td>18563</td>\n",
       "      <td>16615</td>\n",
       "      <td>16614</td>\n",
       "      <td>16763</td>\n",
       "      <td>16171</td>\n",
       "      <td>19120</td>\n",
       "      <td>20187</td>\n",
       "      <td>19499</td>\n",
       "      <td>215146</td>\n",
       "    </tr>\n",
       "    <tr>\n",
       "      <th>3.6</th>\n",
       "      <td>17315</td>\n",
       "      <td>Product_6Product_92Product_125Product_148Produ...</td>\n",
       "      <td>ToysElectronicsSportsHealthBooksToysHome &amp; Kit...</td>\n",
       "      <td>7677.21</td>\n",
       "      <td>19756</td>\n",
       "      <td>15962</td>\n",
       "      <td>18206</td>\n",
       "      <td>14245</td>\n",
       "      <td>13173</td>\n",
       "      <td>16287</td>\n",
       "      <td>17039</td>\n",
       "      <td>15720</td>\n",
       "      <td>15990</td>\n",
       "      <td>14922</td>\n",
       "      <td>14034</td>\n",
       "      <td>14470</td>\n",
       "      <td>15909</td>\n",
       "      <td>185957</td>\n",
       "    </tr>\n",
       "    <tr>\n",
       "      <th>3.7</th>\n",
       "      <td>9213</td>\n",
       "      <td>Product_78Product_135Product_143Product_154Pro...</td>\n",
       "      <td>Home &amp; KitchenClothingElectronicsBooksSportsEl...</td>\n",
       "      <td>4740.88</td>\n",
       "      <td>9506</td>\n",
       "      <td>9777</td>\n",
       "      <td>10330</td>\n",
       "      <td>9631</td>\n",
       "      <td>13849</td>\n",
       "      <td>11511</td>\n",
       "      <td>11159</td>\n",
       "      <td>9361</td>\n",
       "      <td>13444</td>\n",
       "      <td>9669</td>\n",
       "      <td>9909</td>\n",
       "      <td>11437</td>\n",
       "      <td>10452</td>\n",
       "      <td>130529</td>\n",
       "    </tr>\n",
       "    <tr>\n",
       "      <th>3.8</th>\n",
       "      <td>13407</td>\n",
       "      <td>Product_7Product_15Product_21Product_36Product...</td>\n",
       "      <td>ElectronicsClothingClothingHome &amp; KitchenHome ...</td>\n",
       "      <td>8320.93</td>\n",
       "      <td>17015</td>\n",
       "      <td>13783</td>\n",
       "      <td>15644</td>\n",
       "      <td>16750</td>\n",
       "      <td>14884</td>\n",
       "      <td>12290</td>\n",
       "      <td>16715</td>\n",
       "      <td>19162</td>\n",
       "      <td>16787</td>\n",
       "      <td>14852</td>\n",
       "      <td>15128</td>\n",
       "      <td>15677</td>\n",
       "      <td>15018</td>\n",
       "      <td>186690</td>\n",
       "    </tr>\n",
       "    <tr>\n",
       "      <th>3.9</th>\n",
       "      <td>17722</td>\n",
       "      <td>Product_4Product_38Product_131Product_307Produ...</td>\n",
       "      <td>ToysSportsClothingToysSportsHealthClothingClot...</td>\n",
       "      <td>8207.30</td>\n",
       "      <td>15525</td>\n",
       "      <td>17207</td>\n",
       "      <td>15074</td>\n",
       "      <td>13609</td>\n",
       "      <td>14530</td>\n",
       "      <td>15033</td>\n",
       "      <td>17248</td>\n",
       "      <td>12417</td>\n",
       "      <td>14416</td>\n",
       "      <td>15674</td>\n",
       "      <td>15827</td>\n",
       "      <td>19695</td>\n",
       "      <td>13893</td>\n",
       "      <td>184623</td>\n",
       "    </tr>\n",
       "    <tr>\n",
       "      <th>4.0</th>\n",
       "      <td>10819</td>\n",
       "      <td>Product_66Product_108Product_156Product_164Pro...</td>\n",
       "      <td>ClothingBooksElectronicsClothingSportsElectron...</td>\n",
       "      <td>5264.58</td>\n",
       "      <td>10420</td>\n",
       "      <td>10957</td>\n",
       "      <td>10682</td>\n",
       "      <td>11886</td>\n",
       "      <td>10672</td>\n",
       "      <td>9352</td>\n",
       "      <td>9371</td>\n",
       "      <td>13250</td>\n",
       "      <td>9762</td>\n",
       "      <td>9875</td>\n",
       "      <td>12268</td>\n",
       "      <td>9053</td>\n",
       "      <td>9903</td>\n",
       "      <td>127031</td>\n",
       "    </tr>\n",
       "    <tr>\n",
       "      <th>4.1</th>\n",
       "      <td>15628</td>\n",
       "      <td>Product_57Product_63Product_81Product_99Produc...</td>\n",
       "      <td>ClothingHealthSportsBooksHome &amp; KitchenBooksCl...</td>\n",
       "      <td>8362.28</td>\n",
       "      <td>14610</td>\n",
       "      <td>14429</td>\n",
       "      <td>13584</td>\n",
       "      <td>13839</td>\n",
       "      <td>14783</td>\n",
       "      <td>14227</td>\n",
       "      <td>13098</td>\n",
       "      <td>15113</td>\n",
       "      <td>12064</td>\n",
       "      <td>13139</td>\n",
       "      <td>14159</td>\n",
       "      <td>14859</td>\n",
       "      <td>15840</td>\n",
       "      <td>169134</td>\n",
       "    </tr>\n",
       "    <tr>\n",
       "      <th>4.2</th>\n",
       "      <td>14162</td>\n",
       "      <td>Product_5Product_42Product_54Product_124Produc...</td>\n",
       "      <td>BooksBooksHome &amp; KitchenSportsClothingToysBook...</td>\n",
       "      <td>6290.98</td>\n",
       "      <td>13550</td>\n",
       "      <td>12491</td>\n",
       "      <td>12522</td>\n",
       "      <td>13503</td>\n",
       "      <td>14142</td>\n",
       "      <td>14684</td>\n",
       "      <td>13667</td>\n",
       "      <td>12357</td>\n",
       "      <td>12642</td>\n",
       "      <td>14579</td>\n",
       "      <td>15974</td>\n",
       "      <td>16237</td>\n",
       "      <td>14526</td>\n",
       "      <td>167324</td>\n",
       "    </tr>\n",
       "    <tr>\n",
       "      <th>4.3</th>\n",
       "      <td>11163</td>\n",
       "      <td>Product_30Product_111Product_141Product_152Pro...</td>\n",
       "      <td>BooksBooksBooksBooksHome &amp; KitchenElectronicsH...</td>\n",
       "      <td>6373.36</td>\n",
       "      <td>13249</td>\n",
       "      <td>13100</td>\n",
       "      <td>10963</td>\n",
       "      <td>12839</td>\n",
       "      <td>12233</td>\n",
       "      <td>12091</td>\n",
       "      <td>12035</td>\n",
       "      <td>11591</td>\n",
       "      <td>11977</td>\n",
       "      <td>10397</td>\n",
       "      <td>13822</td>\n",
       "      <td>10487</td>\n",
       "      <td>12167</td>\n",
       "      <td>143702</td>\n",
       "    </tr>\n",
       "    <tr>\n",
       "      <th>4.4</th>\n",
       "      <td>11694</td>\n",
       "      <td>Product_8Product_27Product_28Product_123Produc...</td>\n",
       "      <td>ElectronicsElectronicsToysHealthHealthBooksEle...</td>\n",
       "      <td>5336.81</td>\n",
       "      <td>11453</td>\n",
       "      <td>12596</td>\n",
       "      <td>11210</td>\n",
       "      <td>9169</td>\n",
       "      <td>12736</td>\n",
       "      <td>9400</td>\n",
       "      <td>11534</td>\n",
       "      <td>11892</td>\n",
       "      <td>13881</td>\n",
       "      <td>10604</td>\n",
       "      <td>13513</td>\n",
       "      <td>10919</td>\n",
       "      <td>10099</td>\n",
       "      <td>137553</td>\n",
       "    </tr>\n",
       "    <tr>\n",
       "      <th>4.5</th>\n",
       "      <td>15395</td>\n",
       "      <td>Product_3Product_45Product_49Product_51Product...</td>\n",
       "      <td>ToysClothingHealthHealthClothingHome &amp; Kitchen...</td>\n",
       "      <td>8920.42</td>\n",
       "      <td>19078</td>\n",
       "      <td>18910</td>\n",
       "      <td>18275</td>\n",
       "      <td>18003</td>\n",
       "      <td>19123</td>\n",
       "      <td>18263</td>\n",
       "      <td>21686</td>\n",
       "      <td>22007</td>\n",
       "      <td>20566</td>\n",
       "      <td>20614</td>\n",
       "      <td>20627</td>\n",
       "      <td>18369</td>\n",
       "      <td>18852</td>\n",
       "      <td>235295</td>\n",
       "    </tr>\n",
       "    <tr>\n",
       "      <th>4.6</th>\n",
       "      <td>5769</td>\n",
       "      <td>Product_121Product_231Product_312Product_357Pr...</td>\n",
       "      <td>ToysHealthHealthElectronicsElectronicsSportsEl...</td>\n",
       "      <td>3055.30</td>\n",
       "      <td>6253</td>\n",
       "      <td>6287</td>\n",
       "      <td>5715</td>\n",
       "      <td>5628</td>\n",
       "      <td>5975</td>\n",
       "      <td>5453</td>\n",
       "      <td>5178</td>\n",
       "      <td>3615</td>\n",
       "      <td>4453</td>\n",
       "      <td>3784</td>\n",
       "      <td>4864</td>\n",
       "      <td>6932</td>\n",
       "      <td>7607</td>\n",
       "      <td>65491</td>\n",
       "    </tr>\n",
       "    <tr>\n",
       "      <th>4.7</th>\n",
       "      <td>10882</td>\n",
       "      <td>Product_16Product_19Product_23Product_104Produ...</td>\n",
       "      <td>BooksBooksBooksHome &amp; KitchenHome &amp; KitchenEle...</td>\n",
       "      <td>5239.10</td>\n",
       "      <td>13536</td>\n",
       "      <td>11868</td>\n",
       "      <td>10278</td>\n",
       "      <td>13472</td>\n",
       "      <td>11708</td>\n",
       "      <td>9870</td>\n",
       "      <td>10036</td>\n",
       "      <td>11376</td>\n",
       "      <td>11528</td>\n",
       "      <td>13667</td>\n",
       "      <td>11144</td>\n",
       "      <td>11187</td>\n",
       "      <td>12561</td>\n",
       "      <td>138695</td>\n",
       "    </tr>\n",
       "    <tr>\n",
       "      <th>4.8</th>\n",
       "      <td>9536</td>\n",
       "      <td>Product_13Product_25Product_53Product_80Produc...</td>\n",
       "      <td>ElectronicsClothingSportsElectronicsBooksCloth...</td>\n",
       "      <td>5929.94</td>\n",
       "      <td>12492</td>\n",
       "      <td>9376</td>\n",
       "      <td>10958</td>\n",
       "      <td>10061</td>\n",
       "      <td>9298</td>\n",
       "      <td>6486</td>\n",
       "      <td>8991</td>\n",
       "      <td>12129</td>\n",
       "      <td>13711</td>\n",
       "      <td>10797</td>\n",
       "      <td>11906</td>\n",
       "      <td>10562</td>\n",
       "      <td>10359</td>\n",
       "      <td>124634</td>\n",
       "    </tr>\n",
       "    <tr>\n",
       "      <th>4.9</th>\n",
       "      <td>12685</td>\n",
       "      <td>Product_24Product_62Product_102Product_172Prod...</td>\n",
       "      <td>SportsHome &amp; KitchenElectronicsHome &amp; KitchenH...</td>\n",
       "      <td>6193.34</td>\n",
       "      <td>16723</td>\n",
       "      <td>15020</td>\n",
       "      <td>13518</td>\n",
       "      <td>16581</td>\n",
       "      <td>16599</td>\n",
       "      <td>15326</td>\n",
       "      <td>16692</td>\n",
       "      <td>10993</td>\n",
       "      <td>15546</td>\n",
       "      <td>16078</td>\n",
       "      <td>13421</td>\n",
       "      <td>15606</td>\n",
       "      <td>12652</td>\n",
       "      <td>178032</td>\n",
       "    </tr>\n",
       "    <tr>\n",
       "      <th>5.0</th>\n",
       "      <td>8994</td>\n",
       "      <td>Product_12Product_55Product_75Product_89Produc...</td>\n",
       "      <td>HealthBooksToysToysHealthSportsHealthClothingC...</td>\n",
       "      <td>5243.19</td>\n",
       "      <td>9459</td>\n",
       "      <td>8398</td>\n",
       "      <td>7409</td>\n",
       "      <td>9395</td>\n",
       "      <td>7177</td>\n",
       "      <td>8614</td>\n",
       "      <td>6221</td>\n",
       "      <td>9883</td>\n",
       "      <td>11049</td>\n",
       "      <td>9860</td>\n",
       "      <td>9430</td>\n",
       "      <td>9182</td>\n",
       "      <td>9184</td>\n",
       "      <td>105802</td>\n",
       "    </tr>\n",
       "  </tbody>\n",
       "</table>\n",
       "</div>"
      ],
      "text/plain": [
       "              product_id                                       product_name  \\\n",
       "review_score                                                                  \n",
       "1.0                 7153  Product_169Product_265Product_284Product_427Pr...   \n",
       "1.1                10842  Product_20Product_31Product_48Product_50Produc...   \n",
       "1.2                13122  Product_14Product_73Product_101Product_195Prod...   \n",
       "1.3                15369  Product_35Product_39Product_127Product_133Prod...   \n",
       "1.4                14071  Product_68Product_82Product_117Product_178Prod...   \n",
       "1.5                16152  Product_34Product_120Product_162Product_200Pro...   \n",
       "1.6                10169  Product_110Product_157Product_165Product_222Pr...   \n",
       "1.7                13186  Product_1Product_17Product_88Product_96Product...   \n",
       "1.8                10173  Product_257Product_296Product_337Product_362Pr...   \n",
       "1.9                11809  Product_11Product_33Product_47Product_72Produc...   \n",
       "2.0                11494  Product_9Product_67Product_130Product_174Produ...   \n",
       "2.1                 9643  Product_70Product_119Product_145Product_170Pro...   \n",
       "2.2                11670  Product_22Product_71Product_189Product_263Prod...   \n",
       "2.3                10394  Product_29Product_40Product_43Product_163Produ...   \n",
       "2.4                11498  Product_37Product_56Product_69Product_100Produ...   \n",
       "2.5                10093  Product_77Product_129Product_236Product_348Pro...   \n",
       "2.6                12513  Product_58Product_107Product_128Product_227Pro...   \n",
       "2.7                13032  Product_64Product_65Product_76Product_83Produc...   \n",
       "2.8                16444  Product_208Product_212Product_264Product_315Pr...   \n",
       "2.9                 9252  Product_26Product_59Product_86Product_139Produ...   \n",
       "3.0                12565  Product_10Product_132Product_138Product_168Pro...   \n",
       "3.1                12203  Product_52Product_94Product_114Product_286Prod...   \n",
       "3.2                13908  Product_2Product_41Product_126Product_176Produ...   \n",
       "3.3                 8535  Product_18Product_116Product_144Product_192Pro...   \n",
       "3.4                13946  Product_32Product_93Product_115Product_140Prod...   \n",
       "3.5                16880  Product_44Product_46Product_60Product_87Produc...   \n",
       "3.6                17315  Product_6Product_92Product_125Product_148Produ...   \n",
       "3.7                 9213  Product_78Product_135Product_143Product_154Pro...   \n",
       "3.8                13407  Product_7Product_15Product_21Product_36Product...   \n",
       "3.9                17722  Product_4Product_38Product_131Product_307Produ...   \n",
       "4.0                10819  Product_66Product_108Product_156Product_164Pro...   \n",
       "4.1                15628  Product_57Product_63Product_81Product_99Produc...   \n",
       "4.2                14162  Product_5Product_42Product_54Product_124Produc...   \n",
       "4.3                11163  Product_30Product_111Product_141Product_152Pro...   \n",
       "4.4                11694  Product_8Product_27Product_28Product_123Produc...   \n",
       "4.5                15395  Product_3Product_45Product_49Product_51Product...   \n",
       "4.6                 5769  Product_121Product_231Product_312Product_357Pr...   \n",
       "4.7                10882  Product_16Product_19Product_23Product_104Produ...   \n",
       "4.8                 9536  Product_13Product_25Product_53Product_80Produc...   \n",
       "4.9                12685  Product_24Product_62Product_102Product_172Prod...   \n",
       "5.0                 8994  Product_12Product_55Product_75Product_89Produc...   \n",
       "\n",
       "                                                       category     price  \\\n",
       "review_score                                                                \n",
       "1.0           BooksHome & KitchenBooksSportsHome & KitchenBo...   2696.98   \n",
       "1.1           Home & KitchenHealthToysHealthBooksBooksHome &...   5739.10   \n",
       "1.2           BooksHealthSportsClothingBooksElectronicsHome ...   5386.69   \n",
       "1.3           ClothingHome & KitchenToysToysHome & KitchenBo...   6987.70   \n",
       "1.4           BooksClothingElectronicsHealthBooksClothingSpo...   7481.06   \n",
       "1.5           ToysToysToysSportsBooksClothingToysToysElectro...   7179.76   \n",
       "1.6           ElectronicsElectronicsBooksSportsToysToysBooks...   4320.98   \n",
       "1.7           ClothingToysHealthBooksHome & KitchenBooksSpor...   7287.27   \n",
       "1.8           Home & KitchenToysToysSportsHealthBooksHealthH...   5090.11   \n",
       "1.9           ToysClothingSportsToysHealthHealthElectronicsC...   7055.79   \n",
       "2.0           ElectronicsHome & KitchenBooksToysElectronicsT...   5617.77   \n",
       "2.1           BooksBooksElectronicsClothingElectronicsClothi...   5117.48   \n",
       "2.2           BooksHome & KitchenHome & KitchenHealthClothin...   3952.54   \n",
       "2.3           BooksHome & KitchenHome & KitchenHome & Kitche...   5634.52   \n",
       "2.4           Home & KitchenClothingElectronicsClothingToysC...   6539.66   \n",
       "2.5           Home & KitchenBooksSportsElectronicsElectronic...   3690.89   \n",
       "2.6           HealthBooksClothingToysElectronicsToysSportsSp...   6954.36   \n",
       "2.7           HealthHealthToysBooksHealthToysToysToysSportsT...   5155.20   \n",
       "2.8           HealthHealthToysSportsHome & KitchenSportsHome...   6073.12   \n",
       "2.9           ClothingBooksSportsBooksBooksBooksElectronicsH...   4683.73   \n",
       "3.0           ClothingClothingElectronicsSportsHome & Kitche...   6029.36   \n",
       "3.1           ClothingClothingSportsClothingSportsHealthHeal...   6224.10   \n",
       "3.2           Home & KitchenToysHome & KitchenBooksSportsSpo...   6163.09   \n",
       "3.3           Home & KitchenElectronicsBooksElectronicsToysE...   4600.85   \n",
       "3.4           ClothingBooksSportsToysSportsToysClothingElect...   6543.87   \n",
       "3.5           SportsHome & KitchenHealthSportsHome & Kitchen...  10315.53   \n",
       "3.6           ToysElectronicsSportsHealthBooksToysHome & Kit...   7677.21   \n",
       "3.7           Home & KitchenClothingElectronicsBooksSportsEl...   4740.88   \n",
       "3.8           ElectronicsClothingClothingHome & KitchenHome ...   8320.93   \n",
       "3.9           ToysSportsClothingToysSportsHealthClothingClot...   8207.30   \n",
       "4.0           ClothingBooksElectronicsClothingSportsElectron...   5264.58   \n",
       "4.1           ClothingHealthSportsBooksHome & KitchenBooksCl...   8362.28   \n",
       "4.2           BooksBooksHome & KitchenSportsClothingToysBook...   6290.98   \n",
       "4.3           BooksBooksBooksBooksHome & KitchenElectronicsH...   6373.36   \n",
       "4.4           ElectronicsElectronicsToysHealthHealthBooksEle...   5336.81   \n",
       "4.5           ToysClothingHealthHealthClothingHome & Kitchen...   8920.42   \n",
       "4.6           ToysHealthHealthElectronicsElectronicsSportsEl...   3055.30   \n",
       "4.7           BooksBooksBooksHome & KitchenHome & KitchenEle...   5239.10   \n",
       "4.8           ElectronicsClothingSportsElectronicsBooksCloth...   5929.94   \n",
       "4.9           SportsHome & KitchenElectronicsHome & KitchenH...   6193.34   \n",
       "5.0           HealthBooksToysToysHealthSportsHealthClothingC...   5243.19   \n",
       "\n",
       "              review_count  sales_month_1  sales_month_2  sales_month_3  \\\n",
       "review_score                                                              \n",
       "1.0                   5856           6007           5478           6743   \n",
       "1.1                  14085          10563          14478          12792   \n",
       "1.2                  13588          10223          12414          12287   \n",
       "1.3                  16106          17478          14665          14760   \n",
       "1.4                  12339          12314          13706          17458   \n",
       "1.5                  16331          16340          14657          13268   \n",
       "1.6                   8416           9694          11322           9225   \n",
       "1.7                  15641          13435          16788          14747   \n",
       "1.8                   8834           7965           8851           7470   \n",
       "1.9                  13083          15982          16935          13637   \n",
       "2.0                  11404           9980          12429           9549   \n",
       "2.1                  12552           9588          10243          12111   \n",
       "2.2                  11769          10334          10221           9489   \n",
       "2.3                  11393          11334          12803          11891   \n",
       "2.4                  12949          12902          11439          14469   \n",
       "2.5                   8813           8420          11474           7498   \n",
       "2.6                  11965          11249          11962          14293   \n",
       "2.7                  12433          11802          12223          12455   \n",
       "2.8                  15549          11071          13767          15070   \n",
       "2.9                   9099          10733          11503          12066   \n",
       "3.0                  12264          11422          11902          13153   \n",
       "3.1                  10829          11625          12870          12171   \n",
       "3.2                  13470          15383          14520          11295   \n",
       "3.3                   9539           8964           9848          11622   \n",
       "3.4                  13107          12711           9672          12924   \n",
       "3.5                  22467          20626          17123          15685   \n",
       "3.6                  19756          15962          18206          14245   \n",
       "3.7                   9506           9777          10330           9631   \n",
       "3.8                  17015          13783          15644          16750   \n",
       "3.9                  15525          17207          15074          13609   \n",
       "4.0                  10420          10957          10682          11886   \n",
       "4.1                  14610          14429          13584          13839   \n",
       "4.2                  13550          12491          12522          13503   \n",
       "4.3                  13249          13100          10963          12839   \n",
       "4.4                  11453          12596          11210           9169   \n",
       "4.5                  19078          18910          18275          18003   \n",
       "4.6                   6253           6287           5715           5628   \n",
       "4.7                  13536          11868          10278          13472   \n",
       "4.8                  12492           9376          10958          10061   \n",
       "4.9                  16723          15020          13518          16581   \n",
       "5.0                   9459           8398           7409           9395   \n",
       "\n",
       "              sales_month_4  sales_month_5  sales_month_6  sales_month_7  \\\n",
       "review_score                                                               \n",
       "1.0                    7228           5365           5549           5734   \n",
       "1.1                   14539          13416          11569          11793   \n",
       "1.2                   12146          11264          11103          13988   \n",
       "1.3                   16427          13805          14234          15101   \n",
       "1.4                   13058          14202          13358          14169   \n",
       "1.5                   14207          14565          14865          12301   \n",
       "1.6                    8284           8603           9208           8814   \n",
       "1.7                   14613          15033          13085          12962   \n",
       "1.8                    8710           8107           6781          10703   \n",
       "1.9                   16993          12992          15980          14530   \n",
       "2.0                   10887          12105           9641          12082   \n",
       "2.1                   10630           9113          10898          11974   \n",
       "2.2                    9178          11802          11585          11233   \n",
       "2.3                   12732          11576          13124           9898   \n",
       "2.4                    9705          13731          12746          13024   \n",
       "2.5                    8623           8708           7927           9659   \n",
       "2.6                   13183          12095          12185          11743   \n",
       "2.7                   11466          13821           9871          14583   \n",
       "2.8                   14115          15939          11169          14235   \n",
       "2.9                    9894           9154          11034           9028   \n",
       "3.0                   11377           9206          13498          11714   \n",
       "3.1                   12667          11471           9889          13808   \n",
       "3.2                   13870          12938          13267          13829   \n",
       "3.3                    7930           9143          10527           9140   \n",
       "3.4                   12299          11590          11275          13486   \n",
       "3.5                   18180          18563          16615          16614   \n",
       "3.6                   13173          16287          17039          15720   \n",
       "3.7                   13849          11511          11159           9361   \n",
       "3.8                   14884          12290          16715          19162   \n",
       "3.9                   14530          15033          17248          12417   \n",
       "4.0                   10672           9352           9371          13250   \n",
       "4.1                   14783          14227          13098          15113   \n",
       "4.2                   14142          14684          13667          12357   \n",
       "4.3                   12233          12091          12035          11591   \n",
       "4.4                   12736           9400          11534          11892   \n",
       "4.5                   19123          18263          21686          22007   \n",
       "4.6                    5975           5453           5178           3615   \n",
       "4.7                   11708           9870          10036          11376   \n",
       "4.8                    9298           6486           8991          12129   \n",
       "4.9                   16599          15326          16692          10993   \n",
       "5.0                    7177           8614           6221           9883   \n",
       "\n",
       "              sales_month_8  sales_month_9  sales_month_10  sales_month_11  \\\n",
       "review_score                                                                 \n",
       "1.0                    5506           6223            5071            5312   \n",
       "1.1                   13560          11111           13787           13771   \n",
       "1.2                   13661          11331           11928           10211   \n",
       "1.3                   14723          12923           15742           18766   \n",
       "1.4                   14211          11517           13155           14908   \n",
       "1.5                   18356          15916           14458           15325   \n",
       "1.6                    8465           8876            9789            9839   \n",
       "1.7                   14452          12465           14576           13590   \n",
       "1.8                    9411           9993            9151            8746   \n",
       "1.9                   13169          18042           14891           12473   \n",
       "2.0                   11373          14425           10936           11087   \n",
       "2.1                    8558          10396           10614           11705   \n",
       "2.2                    7805           9450           10547           10649   \n",
       "2.3                    9758          10588           10780            9720   \n",
       "2.4                   12792           9709           12980           13034   \n",
       "2.5                    8229           9772            9076            7737   \n",
       "2.6                   16100          11244           14337           14658   \n",
       "2.7                   11629          13334           14162           12454   \n",
       "2.8                   13427          13304           17635           14255   \n",
       "2.9                   10415          10385           11161            8275   \n",
       "3.0                   10668          12172            9725            9878   \n",
       "3.1                   12136          12096           10653           11878   \n",
       "3.2                   11645          13004           11618           13344   \n",
       "3.3                    8519           7838            9033            7807   \n",
       "3.4                   11422          11138           13847           11557   \n",
       "3.5                   16763          16171           19120           20187   \n",
       "3.6                   15990          14922           14034           14470   \n",
       "3.7                   13444           9669            9909           11437   \n",
       "3.8                   16787          14852           15128           15677   \n",
       "3.9                   14416          15674           15827           19695   \n",
       "4.0                    9762           9875           12268            9053   \n",
       "4.1                   12064          13139           14159           14859   \n",
       "4.2                   12642          14579           15974           16237   \n",
       "4.3                   11977          10397           13822           10487   \n",
       "4.4                   13881          10604           13513           10919   \n",
       "4.5                   20566          20614           20627           18369   \n",
       "4.6                    4453           3784            4864            6932   \n",
       "4.7                   11528          13667           11144           11187   \n",
       "4.8                   13711          10797           11906           10562   \n",
       "4.9                   15546          16078           13421           15606   \n",
       "5.0                   11049           9860            9430            9182   \n",
       "\n",
       "              sales_month_12  total_sales  \n",
       "review_score                               \n",
       "1.0                     5895        70111  \n",
       "1.1                    11662       153041  \n",
       "1.2                    12101       142657  \n",
       "1.3                    15148       183772  \n",
       "1.4                    14860       166916  \n",
       "1.5                    14037       178295  \n",
       "1.6                    10180       112299  \n",
       "1.7                    16695       172441  \n",
       "1.8                     6393       102281  \n",
       "1.9                    17169       182793  \n",
       "2.0                    14048       138542  \n",
       "2.1                    11640       127470  \n",
       "2.2                     8745       121038  \n",
       "2.3                     8900       133104  \n",
       "2.4                    13433       149964  \n",
       "2.5                     8065       105188  \n",
       "2.6                    11439       154488  \n",
       "2.7                    11229       149029  \n",
       "2.8                    13007       166994  \n",
       "2.9                     9463       123111  \n",
       "3.0                    12670       137385  \n",
       "3.1                    11587       142851  \n",
       "3.2                    13444       158157  \n",
       "3.3                     8244       108615  \n",
       "3.4                    11811       143732  \n",
       "3.5                    19499       215146  \n",
       "3.6                    15909       185957  \n",
       "3.7                    10452       130529  \n",
       "3.8                    15018       186690  \n",
       "3.9                    13893       184623  \n",
       "4.0                     9903       127031  \n",
       "4.1                    15840       169134  \n",
       "4.2                    14526       167324  \n",
       "4.3                    12167       143702  \n",
       "4.4                    10099       137553  \n",
       "4.5                    18852       235295  \n",
       "4.6                     7607        65491  \n",
       "4.7                    12561       138695  \n",
       "4.8                    10359       124634  \n",
       "4.9                    12652       178032  \n",
       "5.0                     9184       105802  "
      ]
     },
     "execution_count": 80,
     "metadata": {},
     "output_type": "execute_result"
    }
   ],
   "source": [
    "#Exploring review score and count\n",
    "score = data.groupby('review_score').sum()\n",
    "score"
   ]
  },
  {
   "cell_type": "code",
   "execution_count": 81,
   "metadata": {},
   "outputs": [
    {
     "data": {
      "application/vnd.plotly.v1+json": {
       "config": {
        "plotlyServerURL": "https://plot.ly"
       },
       "data": [
        {
         "alignmentgroup": "True",
         "hovertemplate": "review_score=%{x}<br>review_count=%{y}<extra></extra>",
         "legendgroup": "",
         "marker": {
          "color": "moccasin",
          "line": {
           "color": "darkslategray",
           "width": 1
          },
          "pattern": {
           "shape": ""
          }
         },
         "name": "",
         "offsetgroup": "",
         "orientation": "v",
         "showlegend": false,
         "textposition": "auto",
         "texttemplate": "%{y:.0f}",
         "type": "bar",
         "x": [
          1,
          1.1,
          1.2,
          1.3,
          1.4,
          1.5,
          1.6,
          1.7,
          1.8,
          1.9,
          2,
          2.1,
          2.2,
          2.3,
          2.4,
          2.5,
          2.6,
          2.7,
          2.8,
          2.9,
          3,
          3.1,
          3.2,
          3.3,
          3.4,
          3.5,
          3.6,
          3.7,
          3.8,
          3.9,
          4,
          4.1,
          4.2,
          4.3,
          4.4,
          4.5,
          4.6,
          4.7,
          4.8,
          4.9,
          5
         ],
         "xaxis": "x",
         "y": [
          5856,
          14085,
          13588,
          16106,
          12339,
          16331,
          8416,
          15641,
          8834,
          13083,
          11404,
          12552,
          11769,
          11393,
          12949,
          8813,
          11965,
          12433,
          15549,
          9099,
          12264,
          10829,
          13470,
          9539,
          13107,
          22467,
          19756,
          9506,
          17015,
          15525,
          10420,
          14610,
          13550,
          13249,
          11453,
          19078,
          6253,
          13536,
          12492,
          16723,
          9459
         ],
         "yaxis": "y"
        }
       ],
       "layout": {
        "barmode": "relative",
        "legend": {
         "tracegroupgap": 0
        },
        "template": {
         "data": {
          "bar": [
           {
            "error_x": {
             "color": "#2a3f5f"
            },
            "error_y": {
             "color": "#2a3f5f"
            },
            "marker": {
             "line": {
              "color": "#E5ECF6",
              "width": 0.5
             },
             "pattern": {
              "fillmode": "overlay",
              "size": 10,
              "solidity": 0.2
             }
            },
            "type": "bar"
           }
          ],
          "barpolar": [
           {
            "marker": {
             "line": {
              "color": "#E5ECF6",
              "width": 0.5
             },
             "pattern": {
              "fillmode": "overlay",
              "size": 10,
              "solidity": 0.2
             }
            },
            "type": "barpolar"
           }
          ],
          "carpet": [
           {
            "aaxis": {
             "endlinecolor": "#2a3f5f",
             "gridcolor": "white",
             "linecolor": "white",
             "minorgridcolor": "white",
             "startlinecolor": "#2a3f5f"
            },
            "baxis": {
             "endlinecolor": "#2a3f5f",
             "gridcolor": "white",
             "linecolor": "white",
             "minorgridcolor": "white",
             "startlinecolor": "#2a3f5f"
            },
            "type": "carpet"
           }
          ],
          "choropleth": [
           {
            "colorbar": {
             "outlinewidth": 0,
             "ticks": ""
            },
            "type": "choropleth"
           }
          ],
          "contour": [
           {
            "colorbar": {
             "outlinewidth": 0,
             "ticks": ""
            },
            "colorscale": [
             [
              0,
              "#0d0887"
             ],
             [
              0.1111111111111111,
              "#46039f"
             ],
             [
              0.2222222222222222,
              "#7201a8"
             ],
             [
              0.3333333333333333,
              "#9c179e"
             ],
             [
              0.4444444444444444,
              "#bd3786"
             ],
             [
              0.5555555555555556,
              "#d8576b"
             ],
             [
              0.6666666666666666,
              "#ed7953"
             ],
             [
              0.7777777777777778,
              "#fb9f3a"
             ],
             [
              0.8888888888888888,
              "#fdca26"
             ],
             [
              1,
              "#f0f921"
             ]
            ],
            "type": "contour"
           }
          ],
          "contourcarpet": [
           {
            "colorbar": {
             "outlinewidth": 0,
             "ticks": ""
            },
            "type": "contourcarpet"
           }
          ],
          "heatmap": [
           {
            "colorbar": {
             "outlinewidth": 0,
             "ticks": ""
            },
            "colorscale": [
             [
              0,
              "#0d0887"
             ],
             [
              0.1111111111111111,
              "#46039f"
             ],
             [
              0.2222222222222222,
              "#7201a8"
             ],
             [
              0.3333333333333333,
              "#9c179e"
             ],
             [
              0.4444444444444444,
              "#bd3786"
             ],
             [
              0.5555555555555556,
              "#d8576b"
             ],
             [
              0.6666666666666666,
              "#ed7953"
             ],
             [
              0.7777777777777778,
              "#fb9f3a"
             ],
             [
              0.8888888888888888,
              "#fdca26"
             ],
             [
              1,
              "#f0f921"
             ]
            ],
            "type": "heatmap"
           }
          ],
          "heatmapgl": [
           {
            "colorbar": {
             "outlinewidth": 0,
             "ticks": ""
            },
            "colorscale": [
             [
              0,
              "#0d0887"
             ],
             [
              0.1111111111111111,
              "#46039f"
             ],
             [
              0.2222222222222222,
              "#7201a8"
             ],
             [
              0.3333333333333333,
              "#9c179e"
             ],
             [
              0.4444444444444444,
              "#bd3786"
             ],
             [
              0.5555555555555556,
              "#d8576b"
             ],
             [
              0.6666666666666666,
              "#ed7953"
             ],
             [
              0.7777777777777778,
              "#fb9f3a"
             ],
             [
              0.8888888888888888,
              "#fdca26"
             ],
             [
              1,
              "#f0f921"
             ]
            ],
            "type": "heatmapgl"
           }
          ],
          "histogram": [
           {
            "marker": {
             "pattern": {
              "fillmode": "overlay",
              "size": 10,
              "solidity": 0.2
             }
            },
            "type": "histogram"
           }
          ],
          "histogram2d": [
           {
            "colorbar": {
             "outlinewidth": 0,
             "ticks": ""
            },
            "colorscale": [
             [
              0,
              "#0d0887"
             ],
             [
              0.1111111111111111,
              "#46039f"
             ],
             [
              0.2222222222222222,
              "#7201a8"
             ],
             [
              0.3333333333333333,
              "#9c179e"
             ],
             [
              0.4444444444444444,
              "#bd3786"
             ],
             [
              0.5555555555555556,
              "#d8576b"
             ],
             [
              0.6666666666666666,
              "#ed7953"
             ],
             [
              0.7777777777777778,
              "#fb9f3a"
             ],
             [
              0.8888888888888888,
              "#fdca26"
             ],
             [
              1,
              "#f0f921"
             ]
            ],
            "type": "histogram2d"
           }
          ],
          "histogram2dcontour": [
           {
            "colorbar": {
             "outlinewidth": 0,
             "ticks": ""
            },
            "colorscale": [
             [
              0,
              "#0d0887"
             ],
             [
              0.1111111111111111,
              "#46039f"
             ],
             [
              0.2222222222222222,
              "#7201a8"
             ],
             [
              0.3333333333333333,
              "#9c179e"
             ],
             [
              0.4444444444444444,
              "#bd3786"
             ],
             [
              0.5555555555555556,
              "#d8576b"
             ],
             [
              0.6666666666666666,
              "#ed7953"
             ],
             [
              0.7777777777777778,
              "#fb9f3a"
             ],
             [
              0.8888888888888888,
              "#fdca26"
             ],
             [
              1,
              "#f0f921"
             ]
            ],
            "type": "histogram2dcontour"
           }
          ],
          "mesh3d": [
           {
            "colorbar": {
             "outlinewidth": 0,
             "ticks": ""
            },
            "type": "mesh3d"
           }
          ],
          "parcoords": [
           {
            "line": {
             "colorbar": {
              "outlinewidth": 0,
              "ticks": ""
             }
            },
            "type": "parcoords"
           }
          ],
          "pie": [
           {
            "automargin": true,
            "type": "pie"
           }
          ],
          "scatter": [
           {
            "fillpattern": {
             "fillmode": "overlay",
             "size": 10,
             "solidity": 0.2
            },
            "type": "scatter"
           }
          ],
          "scatter3d": [
           {
            "line": {
             "colorbar": {
              "outlinewidth": 0,
              "ticks": ""
             }
            },
            "marker": {
             "colorbar": {
              "outlinewidth": 0,
              "ticks": ""
             }
            },
            "type": "scatter3d"
           }
          ],
          "scattercarpet": [
           {
            "marker": {
             "colorbar": {
              "outlinewidth": 0,
              "ticks": ""
             }
            },
            "type": "scattercarpet"
           }
          ],
          "scattergeo": [
           {
            "marker": {
             "colorbar": {
              "outlinewidth": 0,
              "ticks": ""
             }
            },
            "type": "scattergeo"
           }
          ],
          "scattergl": [
           {
            "marker": {
             "colorbar": {
              "outlinewidth": 0,
              "ticks": ""
             }
            },
            "type": "scattergl"
           }
          ],
          "scattermapbox": [
           {
            "marker": {
             "colorbar": {
              "outlinewidth": 0,
              "ticks": ""
             }
            },
            "type": "scattermapbox"
           }
          ],
          "scatterpolar": [
           {
            "marker": {
             "colorbar": {
              "outlinewidth": 0,
              "ticks": ""
             }
            },
            "type": "scatterpolar"
           }
          ],
          "scatterpolargl": [
           {
            "marker": {
             "colorbar": {
              "outlinewidth": 0,
              "ticks": ""
             }
            },
            "type": "scatterpolargl"
           }
          ],
          "scatterternary": [
           {
            "marker": {
             "colorbar": {
              "outlinewidth": 0,
              "ticks": ""
             }
            },
            "type": "scatterternary"
           }
          ],
          "surface": [
           {
            "colorbar": {
             "outlinewidth": 0,
             "ticks": ""
            },
            "colorscale": [
             [
              0,
              "#0d0887"
             ],
             [
              0.1111111111111111,
              "#46039f"
             ],
             [
              0.2222222222222222,
              "#7201a8"
             ],
             [
              0.3333333333333333,
              "#9c179e"
             ],
             [
              0.4444444444444444,
              "#bd3786"
             ],
             [
              0.5555555555555556,
              "#d8576b"
             ],
             [
              0.6666666666666666,
              "#ed7953"
             ],
             [
              0.7777777777777778,
              "#fb9f3a"
             ],
             [
              0.8888888888888888,
              "#fdca26"
             ],
             [
              1,
              "#f0f921"
             ]
            ],
            "type": "surface"
           }
          ],
          "table": [
           {
            "cells": {
             "fill": {
              "color": "#EBF0F8"
             },
             "line": {
              "color": "white"
             }
            },
            "header": {
             "fill": {
              "color": "#C8D4E3"
             },
             "line": {
              "color": "white"
             }
            },
            "type": "table"
           }
          ]
         },
         "layout": {
          "annotationdefaults": {
           "arrowcolor": "#2a3f5f",
           "arrowhead": 0,
           "arrowwidth": 1
          },
          "autotypenumbers": "strict",
          "coloraxis": {
           "colorbar": {
            "outlinewidth": 0,
            "ticks": ""
           }
          },
          "colorscale": {
           "diverging": [
            [
             0,
             "#8e0152"
            ],
            [
             0.1,
             "#c51b7d"
            ],
            [
             0.2,
             "#de77ae"
            ],
            [
             0.3,
             "#f1b6da"
            ],
            [
             0.4,
             "#fde0ef"
            ],
            [
             0.5,
             "#f7f7f7"
            ],
            [
             0.6,
             "#e6f5d0"
            ],
            [
             0.7,
             "#b8e186"
            ],
            [
             0.8,
             "#7fbc41"
            ],
            [
             0.9,
             "#4d9221"
            ],
            [
             1,
             "#276419"
            ]
           ],
           "sequential": [
            [
             0,
             "#0d0887"
            ],
            [
             0.1111111111111111,
             "#46039f"
            ],
            [
             0.2222222222222222,
             "#7201a8"
            ],
            [
             0.3333333333333333,
             "#9c179e"
            ],
            [
             0.4444444444444444,
             "#bd3786"
            ],
            [
             0.5555555555555556,
             "#d8576b"
            ],
            [
             0.6666666666666666,
             "#ed7953"
            ],
            [
             0.7777777777777778,
             "#fb9f3a"
            ],
            [
             0.8888888888888888,
             "#fdca26"
            ],
            [
             1,
             "#f0f921"
            ]
           ],
           "sequentialminus": [
            [
             0,
             "#0d0887"
            ],
            [
             0.1111111111111111,
             "#46039f"
            ],
            [
             0.2222222222222222,
             "#7201a8"
            ],
            [
             0.3333333333333333,
             "#9c179e"
            ],
            [
             0.4444444444444444,
             "#bd3786"
            ],
            [
             0.5555555555555556,
             "#d8576b"
            ],
            [
             0.6666666666666666,
             "#ed7953"
            ],
            [
             0.7777777777777778,
             "#fb9f3a"
            ],
            [
             0.8888888888888888,
             "#fdca26"
            ],
            [
             1,
             "#f0f921"
            ]
           ]
          },
          "colorway": [
           "#636efa",
           "#EF553B",
           "#00cc96",
           "#ab63fa",
           "#FFA15A",
           "#19d3f3",
           "#FF6692",
           "#B6E880",
           "#FF97FF",
           "#FECB52"
          ],
          "font": {
           "color": "#2a3f5f"
          },
          "geo": {
           "bgcolor": "white",
           "lakecolor": "white",
           "landcolor": "#E5ECF6",
           "showlakes": true,
           "showland": true,
           "subunitcolor": "white"
          },
          "hoverlabel": {
           "align": "left"
          },
          "hovermode": "closest",
          "mapbox": {
           "style": "light"
          },
          "paper_bgcolor": "white",
          "plot_bgcolor": "#E5ECF6",
          "polar": {
           "angularaxis": {
            "gridcolor": "white",
            "linecolor": "white",
            "ticks": ""
           },
           "bgcolor": "#E5ECF6",
           "radialaxis": {
            "gridcolor": "white",
            "linecolor": "white",
            "ticks": ""
           }
          },
          "scene": {
           "xaxis": {
            "backgroundcolor": "#E5ECF6",
            "gridcolor": "white",
            "gridwidth": 2,
            "linecolor": "white",
            "showbackground": true,
            "ticks": "",
            "zerolinecolor": "white"
           },
           "yaxis": {
            "backgroundcolor": "#E5ECF6",
            "gridcolor": "white",
            "gridwidth": 2,
            "linecolor": "white",
            "showbackground": true,
            "ticks": "",
            "zerolinecolor": "white"
           },
           "zaxis": {
            "backgroundcolor": "#E5ECF6",
            "gridcolor": "white",
            "gridwidth": 2,
            "linecolor": "white",
            "showbackground": true,
            "ticks": "",
            "zerolinecolor": "white"
           }
          },
          "shapedefaults": {
           "line": {
            "color": "#2a3f5f"
           }
          },
          "ternary": {
           "aaxis": {
            "gridcolor": "white",
            "linecolor": "white",
            "ticks": ""
           },
           "baxis": {
            "gridcolor": "white",
            "linecolor": "white",
            "ticks": ""
           },
           "bgcolor": "#E5ECF6",
           "caxis": {
            "gridcolor": "white",
            "linecolor": "white",
            "ticks": ""
           }
          },
          "title": {
           "x": 0.05
          },
          "xaxis": {
           "automargin": true,
           "gridcolor": "white",
           "linecolor": "white",
           "ticks": "",
           "title": {
            "standoff": 15
           },
           "zerolinecolor": "white",
           "zerolinewidth": 2
          },
          "yaxis": {
           "automargin": true,
           "gridcolor": "white",
           "linecolor": "white",
           "ticks": "",
           "title": {
            "standoff": 15
           },
           "zerolinecolor": "white",
           "zerolinewidth": 2
          }
         }
        },
        "title": {
         "text": "Count of Review Scores From 1 to 5"
        },
        "width": 900,
        "xaxis": {
         "anchor": "y",
         "domain": [
          0,
          1
         ],
         "title": {
          "text": "Review Score"
         }
        },
        "yaxis": {
         "anchor": "x",
         "domain": [
          0,
          1
         ],
         "title": {
          "text": "Review Count"
         }
        }
       }
      }
     },
     "metadata": {},
     "output_type": "display_data"
    }
   ],
   "source": [
    "#Graph showing the count of review score \n",
    "fig = px.bar(score, x = score.index, y = 'review_count' ,  text_auto = '.0f', \n",
    "             title = 'Count of Review Scores From 1 to 5')\n",
    "fig.update_traces(marker_color = 'moccasin', marker_line_color = 'darkslategray',\n",
    "                 marker_line_width = 1)\n",
    "fig.update_xaxes(title = 'Review Score')\n",
    "fig.update_yaxes(title = 'Review Count')\n",
    "fig.update_layout(width = 900)\n",
    "fig.show()"
   ]
  },
  {
   "cell_type": "code",
   "execution_count": 82,
   "metadata": {},
   "outputs": [
    {
     "data": {
      "application/vnd.plotly.v1+json": {
       "config": {
        "plotlyServerURL": "https://plot.ly"
       },
       "data": [
        {
         "alignmentgroup": "True",
         "hovertemplate": "review_score=%{x}<br>sales_month_1=%{y}<extra></extra>",
         "legendgroup": "",
         "marker": {
          "color": "moccasin",
          "line": {
           "color": "darksalmon",
           "width": 1
          },
          "pattern": {
           "shape": ""
          }
         },
         "name": "",
         "offsetgroup": "",
         "orientation": "v",
         "showlegend": false,
         "textposition": "auto",
         "type": "bar",
         "x": [
          1,
          1.1,
          1.2,
          1.3,
          1.4,
          1.5,
          1.6,
          1.7,
          1.8,
          1.9,
          2,
          2.1,
          2.2,
          2.3,
          2.4,
          2.5,
          2.6,
          2.7,
          2.8,
          2.9,
          3,
          3.1,
          3.2,
          3.3,
          3.4,
          3.5,
          3.6,
          3.7,
          3.8,
          3.9,
          4,
          4.1,
          4.2,
          4.3,
          4.4,
          4.5,
          4.6,
          4.7,
          4.8,
          4.9,
          5
         ],
         "xaxis": "x",
         "y": [
          6007,
          10563,
          10223,
          17478,
          12314,
          16340,
          9694,
          13435,
          7965,
          15982,
          9980,
          9588,
          10334,
          11334,
          12902,
          8420,
          11249,
          11802,
          11071,
          10733,
          11422,
          11625,
          15383,
          8964,
          12711,
          20626,
          15962,
          9777,
          13783,
          17207,
          10957,
          14429,
          12491,
          13100,
          12596,
          18910,
          6287,
          11868,
          9376,
          15020,
          8398
         ],
         "yaxis": "y"
        },
        {
         "alignmentgroup": "True",
         "hovertemplate": "review_score=%{x}<br>sales_month_2=%{y}<extra></extra>",
         "legendgroup": "",
         "marker": {
          "color": "moccasin",
          "line": {
           "color": "darksalmon",
           "width": 1
          },
          "pattern": {
           "shape": ""
          }
         },
         "name": "",
         "offsetgroup": "",
         "orientation": "v",
         "showlegend": false,
         "textposition": "auto",
         "type": "bar",
         "x": [
          1,
          1.1,
          1.2,
          1.3,
          1.4,
          1.5,
          1.6,
          1.7,
          1.8,
          1.9,
          2,
          2.1,
          2.2,
          2.3,
          2.4,
          2.5,
          2.6,
          2.7,
          2.8,
          2.9,
          3,
          3.1,
          3.2,
          3.3,
          3.4,
          3.5,
          3.6,
          3.7,
          3.8,
          3.9,
          4,
          4.1,
          4.2,
          4.3,
          4.4,
          4.5,
          4.6,
          4.7,
          4.8,
          4.9,
          5
         ],
         "xaxis": "x2",
         "y": [
          5478,
          14478,
          12414,
          14665,
          13706,
          14657,
          11322,
          16788,
          8851,
          16935,
          12429,
          10243,
          10221,
          12803,
          11439,
          11474,
          11962,
          12223,
          13767,
          11503,
          11902,
          12870,
          14520,
          9848,
          9672,
          17123,
          18206,
          10330,
          15644,
          15074,
          10682,
          13584,
          12522,
          10963,
          11210,
          18275,
          5715,
          10278,
          10958,
          13518,
          7409
         ],
         "yaxis": "y2"
        },
        {
         "alignmentgroup": "True",
         "hovertemplate": "review_score=%{x}<br>sales_month_3=%{y}<extra></extra>",
         "legendgroup": "",
         "marker": {
          "color": "moccasin",
          "line": {
           "color": "darksalmon",
           "width": 1
          },
          "pattern": {
           "shape": ""
          }
         },
         "name": "",
         "offsetgroup": "",
         "orientation": "v",
         "showlegend": false,
         "textposition": "auto",
         "type": "bar",
         "x": [
          1,
          1.1,
          1.2,
          1.3,
          1.4,
          1.5,
          1.6,
          1.7,
          1.8,
          1.9,
          2,
          2.1,
          2.2,
          2.3,
          2.4,
          2.5,
          2.6,
          2.7,
          2.8,
          2.9,
          3,
          3.1,
          3.2,
          3.3,
          3.4,
          3.5,
          3.6,
          3.7,
          3.8,
          3.9,
          4,
          4.1,
          4.2,
          4.3,
          4.4,
          4.5,
          4.6,
          4.7,
          4.8,
          4.9,
          5
         ],
         "xaxis": "x3",
         "y": [
          6743,
          12792,
          12287,
          14760,
          17458,
          13268,
          9225,
          14747,
          7470,
          13637,
          9549,
          12111,
          9489,
          11891,
          14469,
          7498,
          14293,
          12455,
          15070,
          12066,
          13153,
          12171,
          11295,
          11622,
          12924,
          15685,
          14245,
          9631,
          16750,
          13609,
          11886,
          13839,
          13503,
          12839,
          9169,
          18003,
          5628,
          13472,
          10061,
          16581,
          9395
         ],
         "yaxis": "y3"
        },
        {
         "alignmentgroup": "True",
         "hovertemplate": "review_score=%{x}<br>sales_month_4=%{y}<extra></extra>",
         "legendgroup": "",
         "marker": {
          "color": "moccasin",
          "line": {
           "color": "darksalmon",
           "width": 1
          },
          "pattern": {
           "shape": ""
          }
         },
         "name": "",
         "offsetgroup": "",
         "orientation": "v",
         "showlegend": false,
         "textposition": "auto",
         "type": "bar",
         "x": [
          1,
          1.1,
          1.2,
          1.3,
          1.4,
          1.5,
          1.6,
          1.7,
          1.8,
          1.9,
          2,
          2.1,
          2.2,
          2.3,
          2.4,
          2.5,
          2.6,
          2.7,
          2.8,
          2.9,
          3,
          3.1,
          3.2,
          3.3,
          3.4,
          3.5,
          3.6,
          3.7,
          3.8,
          3.9,
          4,
          4.1,
          4.2,
          4.3,
          4.4,
          4.5,
          4.6,
          4.7,
          4.8,
          4.9,
          5
         ],
         "xaxis": "x4",
         "y": [
          7228,
          14539,
          12146,
          16427,
          13058,
          14207,
          8284,
          14613,
          8710,
          16993,
          10887,
          10630,
          9178,
          12732,
          9705,
          8623,
          13183,
          11466,
          14115,
          9894,
          11377,
          12667,
          13870,
          7930,
          12299,
          18180,
          13173,
          13849,
          14884,
          14530,
          10672,
          14783,
          14142,
          12233,
          12736,
          19123,
          5975,
          11708,
          9298,
          16599,
          7177
         ],
         "yaxis": "y4"
        },
        {
         "alignmentgroup": "True",
         "hovertemplate": "review_score=%{x}<br>sales_month_5=%{y}<extra></extra>",
         "legendgroup": "",
         "marker": {
          "color": "moccasin",
          "line": {
           "color": "darksalmon",
           "width": 1
          },
          "pattern": {
           "shape": ""
          }
         },
         "name": "",
         "offsetgroup": "",
         "orientation": "v",
         "showlegend": false,
         "textposition": "auto",
         "type": "bar",
         "x": [
          1,
          1.1,
          1.2,
          1.3,
          1.4,
          1.5,
          1.6,
          1.7,
          1.8,
          1.9,
          2,
          2.1,
          2.2,
          2.3,
          2.4,
          2.5,
          2.6,
          2.7,
          2.8,
          2.9,
          3,
          3.1,
          3.2,
          3.3,
          3.4,
          3.5,
          3.6,
          3.7,
          3.8,
          3.9,
          4,
          4.1,
          4.2,
          4.3,
          4.4,
          4.5,
          4.6,
          4.7,
          4.8,
          4.9,
          5
         ],
         "xaxis": "x5",
         "y": [
          5365,
          13416,
          11264,
          13805,
          14202,
          14565,
          8603,
          15033,
          8107,
          12992,
          12105,
          9113,
          11802,
          11576,
          13731,
          8708,
          12095,
          13821,
          15939,
          9154,
          9206,
          11471,
          12938,
          9143,
          11590,
          18563,
          16287,
          11511,
          12290,
          15033,
          9352,
          14227,
          14684,
          12091,
          9400,
          18263,
          5453,
          9870,
          6486,
          15326,
          8614
         ],
         "yaxis": "y5"
        },
        {
         "alignmentgroup": "True",
         "hovertemplate": "review_score=%{x}<br>sales_month_6=%{y}<extra></extra>",
         "legendgroup": "",
         "marker": {
          "color": "moccasin",
          "line": {
           "color": "darksalmon",
           "width": 1
          },
          "pattern": {
           "shape": ""
          }
         },
         "name": "",
         "offsetgroup": "",
         "orientation": "v",
         "showlegend": false,
         "textposition": "auto",
         "type": "bar",
         "x": [
          1,
          1.1,
          1.2,
          1.3,
          1.4,
          1.5,
          1.6,
          1.7,
          1.8,
          1.9,
          2,
          2.1,
          2.2,
          2.3,
          2.4,
          2.5,
          2.6,
          2.7,
          2.8,
          2.9,
          3,
          3.1,
          3.2,
          3.3,
          3.4,
          3.5,
          3.6,
          3.7,
          3.8,
          3.9,
          4,
          4.1,
          4.2,
          4.3,
          4.4,
          4.5,
          4.6,
          4.7,
          4.8,
          4.9,
          5
         ],
         "xaxis": "x6",
         "y": [
          5549,
          11569,
          11103,
          14234,
          13358,
          14865,
          9208,
          13085,
          6781,
          15980,
          9641,
          10898,
          11585,
          13124,
          12746,
          7927,
          12185,
          9871,
          11169,
          11034,
          13498,
          9889,
          13267,
          10527,
          11275,
          16615,
          17039,
          11159,
          16715,
          17248,
          9371,
          13098,
          13667,
          12035,
          11534,
          21686,
          5178,
          10036,
          8991,
          16692,
          6221
         ],
         "yaxis": "y6"
        },
        {
         "alignmentgroup": "True",
         "hovertemplate": "review_score=%{x}<br>sales_month_7=%{y}<extra></extra>",
         "legendgroup": "",
         "marker": {
          "color": "moccasin",
          "line": {
           "color": "darksalmon",
           "width": 1
          },
          "pattern": {
           "shape": ""
          }
         },
         "name": "",
         "offsetgroup": "",
         "orientation": "v",
         "showlegend": false,
         "textposition": "auto",
         "type": "bar",
         "x": [
          1,
          1.1,
          1.2,
          1.3,
          1.4,
          1.5,
          1.6,
          1.7,
          1.8,
          1.9,
          2,
          2.1,
          2.2,
          2.3,
          2.4,
          2.5,
          2.6,
          2.7,
          2.8,
          2.9,
          3,
          3.1,
          3.2,
          3.3,
          3.4,
          3.5,
          3.6,
          3.7,
          3.8,
          3.9,
          4,
          4.1,
          4.2,
          4.3,
          4.4,
          4.5,
          4.6,
          4.7,
          4.8,
          4.9,
          5
         ],
         "xaxis": "x7",
         "y": [
          5734,
          11793,
          13988,
          15101,
          14169,
          12301,
          8814,
          12962,
          10703,
          14530,
          12082,
          11974,
          11233,
          9898,
          13024,
          9659,
          11743,
          14583,
          14235,
          9028,
          11714,
          13808,
          13829,
          9140,
          13486,
          16614,
          15720,
          9361,
          19162,
          12417,
          13250,
          15113,
          12357,
          11591,
          11892,
          22007,
          3615,
          11376,
          12129,
          10993,
          9883
         ],
         "yaxis": "y7"
        },
        {
         "alignmentgroup": "True",
         "hovertemplate": "review_score=%{x}<br>sales_month_8=%{y}<extra></extra>",
         "legendgroup": "",
         "marker": {
          "color": "moccasin",
          "line": {
           "color": "darksalmon",
           "width": 1
          },
          "pattern": {
           "shape": ""
          }
         },
         "name": "",
         "offsetgroup": "",
         "orientation": "v",
         "showlegend": false,
         "textposition": "auto",
         "type": "bar",
         "x": [
          1,
          1.1,
          1.2,
          1.3,
          1.4,
          1.5,
          1.6,
          1.7,
          1.8,
          1.9,
          2,
          2.1,
          2.2,
          2.3,
          2.4,
          2.5,
          2.6,
          2.7,
          2.8,
          2.9,
          3,
          3.1,
          3.2,
          3.3,
          3.4,
          3.5,
          3.6,
          3.7,
          3.8,
          3.9,
          4,
          4.1,
          4.2,
          4.3,
          4.4,
          4.5,
          4.6,
          4.7,
          4.8,
          4.9,
          5
         ],
         "xaxis": "x8",
         "y": [
          5506,
          13560,
          13661,
          14723,
          14211,
          18356,
          8465,
          14452,
          9411,
          13169,
          11373,
          8558,
          7805,
          9758,
          12792,
          8229,
          16100,
          11629,
          13427,
          10415,
          10668,
          12136,
          11645,
          8519,
          11422,
          16763,
          15990,
          13444,
          16787,
          14416,
          9762,
          12064,
          12642,
          11977,
          13881,
          20566,
          4453,
          11528,
          13711,
          15546,
          11049
         ],
         "yaxis": "y8"
        },
        {
         "alignmentgroup": "True",
         "hovertemplate": "review_score=%{x}<br>sales_month_9=%{y}<extra></extra>",
         "legendgroup": "",
         "marker": {
          "color": "moccasin",
          "line": {
           "color": "darksalmon",
           "width": 1
          },
          "pattern": {
           "shape": ""
          }
         },
         "name": "",
         "offsetgroup": "",
         "orientation": "v",
         "showlegend": false,
         "textposition": "auto",
         "type": "bar",
         "x": [
          1,
          1.1,
          1.2,
          1.3,
          1.4,
          1.5,
          1.6,
          1.7,
          1.8,
          1.9,
          2,
          2.1,
          2.2,
          2.3,
          2.4,
          2.5,
          2.6,
          2.7,
          2.8,
          2.9,
          3,
          3.1,
          3.2,
          3.3,
          3.4,
          3.5,
          3.6,
          3.7,
          3.8,
          3.9,
          4,
          4.1,
          4.2,
          4.3,
          4.4,
          4.5,
          4.6,
          4.7,
          4.8,
          4.9,
          5
         ],
         "xaxis": "x9",
         "y": [
          6223,
          11111,
          11331,
          12923,
          11517,
          15916,
          8876,
          12465,
          9993,
          18042,
          14425,
          10396,
          9450,
          10588,
          9709,
          9772,
          11244,
          13334,
          13304,
          10385,
          12172,
          12096,
          13004,
          7838,
          11138,
          16171,
          14922,
          9669,
          14852,
          15674,
          9875,
          13139,
          14579,
          10397,
          10604,
          20614,
          3784,
          13667,
          10797,
          16078,
          9860
         ],
         "yaxis": "y9"
        },
        {
         "alignmentgroup": "True",
         "hovertemplate": "review_score=%{x}<br>sales_month_10=%{y}<extra></extra>",
         "legendgroup": "",
         "marker": {
          "color": "moccasin",
          "line": {
           "color": "darksalmon",
           "width": 1
          },
          "pattern": {
           "shape": ""
          }
         },
         "name": "",
         "offsetgroup": "",
         "orientation": "v",
         "showlegend": false,
         "textposition": "auto",
         "type": "bar",
         "x": [
          1,
          1.1,
          1.2,
          1.3,
          1.4,
          1.5,
          1.6,
          1.7,
          1.8,
          1.9,
          2,
          2.1,
          2.2,
          2.3,
          2.4,
          2.5,
          2.6,
          2.7,
          2.8,
          2.9,
          3,
          3.1,
          3.2,
          3.3,
          3.4,
          3.5,
          3.6,
          3.7,
          3.8,
          3.9,
          4,
          4.1,
          4.2,
          4.3,
          4.4,
          4.5,
          4.6,
          4.7,
          4.8,
          4.9,
          5
         ],
         "xaxis": "x10",
         "y": [
          5071,
          13787,
          11928,
          15742,
          13155,
          14458,
          9789,
          14576,
          9151,
          14891,
          10936,
          10614,
          10547,
          10780,
          12980,
          9076,
          14337,
          14162,
          17635,
          11161,
          9725,
          10653,
          11618,
          9033,
          13847,
          19120,
          14034,
          9909,
          15128,
          15827,
          12268,
          14159,
          15974,
          13822,
          13513,
          20627,
          4864,
          11144,
          11906,
          13421,
          9430
         ],
         "yaxis": "y10"
        },
        {
         "alignmentgroup": "True",
         "hovertemplate": "review_score=%{x}<br>sales_month_11=%{y}<extra></extra>",
         "legendgroup": "",
         "marker": {
          "color": "moccasin",
          "line": {
           "color": "darksalmon",
           "width": 1
          },
          "pattern": {
           "shape": ""
          }
         },
         "name": "",
         "offsetgroup": "",
         "orientation": "v",
         "showlegend": false,
         "textposition": "auto",
         "type": "bar",
         "x": [
          1,
          1.1,
          1.2,
          1.3,
          1.4,
          1.5,
          1.6,
          1.7,
          1.8,
          1.9,
          2,
          2.1,
          2.2,
          2.3,
          2.4,
          2.5,
          2.6,
          2.7,
          2.8,
          2.9,
          3,
          3.1,
          3.2,
          3.3,
          3.4,
          3.5,
          3.6,
          3.7,
          3.8,
          3.9,
          4,
          4.1,
          4.2,
          4.3,
          4.4,
          4.5,
          4.6,
          4.7,
          4.8,
          4.9,
          5
         ],
         "xaxis": "x11",
         "y": [
          5312,
          13771,
          10211,
          18766,
          14908,
          15325,
          9839,
          13590,
          8746,
          12473,
          11087,
          11705,
          10649,
          9720,
          13034,
          7737,
          14658,
          12454,
          14255,
          8275,
          9878,
          11878,
          13344,
          7807,
          11557,
          20187,
          14470,
          11437,
          15677,
          19695,
          9053,
          14859,
          16237,
          10487,
          10919,
          18369,
          6932,
          11187,
          10562,
          15606,
          9182
         ],
         "yaxis": "y11"
        },
        {
         "alignmentgroup": "True",
         "hovertemplate": "review_score=%{x}<br>sales_month_12=%{y}<extra></extra>",
         "legendgroup": "",
         "marker": {
          "color": "moccasin",
          "line": {
           "color": "darksalmon",
           "width": 1
          },
          "pattern": {
           "shape": ""
          }
         },
         "name": "",
         "offsetgroup": "",
         "orientation": "v",
         "showlegend": false,
         "textposition": "auto",
         "type": "bar",
         "x": [
          1,
          1.1,
          1.2,
          1.3,
          1.4,
          1.5,
          1.6,
          1.7,
          1.8,
          1.9,
          2,
          2.1,
          2.2,
          2.3,
          2.4,
          2.5,
          2.6,
          2.7,
          2.8,
          2.9,
          3,
          3.1,
          3.2,
          3.3,
          3.4,
          3.5,
          3.6,
          3.7,
          3.8,
          3.9,
          4,
          4.1,
          4.2,
          4.3,
          4.4,
          4.5,
          4.6,
          4.7,
          4.8,
          4.9,
          5
         ],
         "xaxis": "x12",
         "y": [
          5895,
          11662,
          12101,
          15148,
          14860,
          14037,
          10180,
          16695,
          6393,
          17169,
          14048,
          11640,
          8745,
          8900,
          13433,
          8065,
          11439,
          11229,
          13007,
          9463,
          12670,
          11587,
          13444,
          8244,
          11811,
          19499,
          15909,
          10452,
          15018,
          13893,
          9903,
          15840,
          14526,
          12167,
          10099,
          18852,
          7607,
          12561,
          10359,
          12652,
          9184
         ],
         "yaxis": "y12"
        }
       ],
       "layout": {
        "annotations": [
         {
          "font": {
           "size": 16
          },
          "showarrow": false,
          "text": "Month 1",
          "x": 0.225,
          "xanchor": "center",
          "xref": "paper",
          "y": 0.9999999999999999,
          "yanchor": "bottom",
          "yref": "paper"
         },
         {
          "font": {
           "size": 16
          },
          "showarrow": false,
          "text": "Month 2",
          "x": 0.775,
          "xanchor": "center",
          "xref": "paper",
          "y": 0.9999999999999999,
          "yanchor": "bottom",
          "yref": "paper"
         },
         {
          "font": {
           "size": 16
          },
          "showarrow": false,
          "text": "Month 3",
          "x": 0.225,
          "xanchor": "center",
          "xref": "paper",
          "y": 0.8194444444444444,
          "yanchor": "bottom",
          "yref": "paper"
         },
         {
          "font": {
           "size": 16
          },
          "showarrow": false,
          "text": "Month 4",
          "x": 0.775,
          "xanchor": "center",
          "xref": "paper",
          "y": 0.8194444444444444,
          "yanchor": "bottom",
          "yref": "paper"
         },
         {
          "font": {
           "size": 16
          },
          "showarrow": false,
          "text": "Month 5",
          "x": 0.225,
          "xanchor": "center",
          "xref": "paper",
          "y": 0.638888888888889,
          "yanchor": "bottom",
          "yref": "paper"
         },
         {
          "font": {
           "size": 16
          },
          "showarrow": false,
          "text": "Month 6",
          "x": 0.775,
          "xanchor": "center",
          "xref": "paper",
          "y": 0.638888888888889,
          "yanchor": "bottom",
          "yref": "paper"
         },
         {
          "font": {
           "size": 16
          },
          "showarrow": false,
          "text": "Month 7",
          "x": 0.225,
          "xanchor": "center",
          "xref": "paper",
          "y": 0.4583333333333333,
          "yanchor": "bottom",
          "yref": "paper"
         },
         {
          "font": {
           "size": 16
          },
          "showarrow": false,
          "text": "Month 8",
          "x": 0.775,
          "xanchor": "center",
          "xref": "paper",
          "y": 0.4583333333333333,
          "yanchor": "bottom",
          "yref": "paper"
         },
         {
          "font": {
           "size": 16
          },
          "showarrow": false,
          "text": "Month 9",
          "x": 0.225,
          "xanchor": "center",
          "xref": "paper",
          "y": 0.2777777777777778,
          "yanchor": "bottom",
          "yref": "paper"
         },
         {
          "font": {
           "size": 16
          },
          "showarrow": false,
          "text": "Month 10",
          "x": 0.775,
          "xanchor": "center",
          "xref": "paper",
          "y": 0.2777777777777778,
          "yanchor": "bottom",
          "yref": "paper"
         },
         {
          "font": {
           "size": 16
          },
          "showarrow": false,
          "text": "Month 11",
          "x": 0.225,
          "xanchor": "center",
          "xref": "paper",
          "y": 0.09722222222222222,
          "yanchor": "bottom",
          "yref": "paper"
         },
         {
          "font": {
           "size": 16
          },
          "showarrow": false,
          "text": "Month 12",
          "x": 0.775,
          "xanchor": "center",
          "xref": "paper",
          "y": 0.09722222222222222,
          "yanchor": "bottom",
          "yref": "paper"
         }
        ],
        "height": 1200,
        "template": {
         "data": {
          "bar": [
           {
            "error_x": {
             "color": "#2a3f5f"
            },
            "error_y": {
             "color": "#2a3f5f"
            },
            "marker": {
             "line": {
              "color": "#E5ECF6",
              "width": 0.5
             },
             "pattern": {
              "fillmode": "overlay",
              "size": 10,
              "solidity": 0.2
             }
            },
            "type": "bar"
           }
          ],
          "barpolar": [
           {
            "marker": {
             "line": {
              "color": "#E5ECF6",
              "width": 0.5
             },
             "pattern": {
              "fillmode": "overlay",
              "size": 10,
              "solidity": 0.2
             }
            },
            "type": "barpolar"
           }
          ],
          "carpet": [
           {
            "aaxis": {
             "endlinecolor": "#2a3f5f",
             "gridcolor": "white",
             "linecolor": "white",
             "minorgridcolor": "white",
             "startlinecolor": "#2a3f5f"
            },
            "baxis": {
             "endlinecolor": "#2a3f5f",
             "gridcolor": "white",
             "linecolor": "white",
             "minorgridcolor": "white",
             "startlinecolor": "#2a3f5f"
            },
            "type": "carpet"
           }
          ],
          "choropleth": [
           {
            "colorbar": {
             "outlinewidth": 0,
             "ticks": ""
            },
            "type": "choropleth"
           }
          ],
          "contour": [
           {
            "colorbar": {
             "outlinewidth": 0,
             "ticks": ""
            },
            "colorscale": [
             [
              0,
              "#0d0887"
             ],
             [
              0.1111111111111111,
              "#46039f"
             ],
             [
              0.2222222222222222,
              "#7201a8"
             ],
             [
              0.3333333333333333,
              "#9c179e"
             ],
             [
              0.4444444444444444,
              "#bd3786"
             ],
             [
              0.5555555555555556,
              "#d8576b"
             ],
             [
              0.6666666666666666,
              "#ed7953"
             ],
             [
              0.7777777777777778,
              "#fb9f3a"
             ],
             [
              0.8888888888888888,
              "#fdca26"
             ],
             [
              1,
              "#f0f921"
             ]
            ],
            "type": "contour"
           }
          ],
          "contourcarpet": [
           {
            "colorbar": {
             "outlinewidth": 0,
             "ticks": ""
            },
            "type": "contourcarpet"
           }
          ],
          "heatmap": [
           {
            "colorbar": {
             "outlinewidth": 0,
             "ticks": ""
            },
            "colorscale": [
             [
              0,
              "#0d0887"
             ],
             [
              0.1111111111111111,
              "#46039f"
             ],
             [
              0.2222222222222222,
              "#7201a8"
             ],
             [
              0.3333333333333333,
              "#9c179e"
             ],
             [
              0.4444444444444444,
              "#bd3786"
             ],
             [
              0.5555555555555556,
              "#d8576b"
             ],
             [
              0.6666666666666666,
              "#ed7953"
             ],
             [
              0.7777777777777778,
              "#fb9f3a"
             ],
             [
              0.8888888888888888,
              "#fdca26"
             ],
             [
              1,
              "#f0f921"
             ]
            ],
            "type": "heatmap"
           }
          ],
          "heatmapgl": [
           {
            "colorbar": {
             "outlinewidth": 0,
             "ticks": ""
            },
            "colorscale": [
             [
              0,
              "#0d0887"
             ],
             [
              0.1111111111111111,
              "#46039f"
             ],
             [
              0.2222222222222222,
              "#7201a8"
             ],
             [
              0.3333333333333333,
              "#9c179e"
             ],
             [
              0.4444444444444444,
              "#bd3786"
             ],
             [
              0.5555555555555556,
              "#d8576b"
             ],
             [
              0.6666666666666666,
              "#ed7953"
             ],
             [
              0.7777777777777778,
              "#fb9f3a"
             ],
             [
              0.8888888888888888,
              "#fdca26"
             ],
             [
              1,
              "#f0f921"
             ]
            ],
            "type": "heatmapgl"
           }
          ],
          "histogram": [
           {
            "marker": {
             "pattern": {
              "fillmode": "overlay",
              "size": 10,
              "solidity": 0.2
             }
            },
            "type": "histogram"
           }
          ],
          "histogram2d": [
           {
            "colorbar": {
             "outlinewidth": 0,
             "ticks": ""
            },
            "colorscale": [
             [
              0,
              "#0d0887"
             ],
             [
              0.1111111111111111,
              "#46039f"
             ],
             [
              0.2222222222222222,
              "#7201a8"
             ],
             [
              0.3333333333333333,
              "#9c179e"
             ],
             [
              0.4444444444444444,
              "#bd3786"
             ],
             [
              0.5555555555555556,
              "#d8576b"
             ],
             [
              0.6666666666666666,
              "#ed7953"
             ],
             [
              0.7777777777777778,
              "#fb9f3a"
             ],
             [
              0.8888888888888888,
              "#fdca26"
             ],
             [
              1,
              "#f0f921"
             ]
            ],
            "type": "histogram2d"
           }
          ],
          "histogram2dcontour": [
           {
            "colorbar": {
             "outlinewidth": 0,
             "ticks": ""
            },
            "colorscale": [
             [
              0,
              "#0d0887"
             ],
             [
              0.1111111111111111,
              "#46039f"
             ],
             [
              0.2222222222222222,
              "#7201a8"
             ],
             [
              0.3333333333333333,
              "#9c179e"
             ],
             [
              0.4444444444444444,
              "#bd3786"
             ],
             [
              0.5555555555555556,
              "#d8576b"
             ],
             [
              0.6666666666666666,
              "#ed7953"
             ],
             [
              0.7777777777777778,
              "#fb9f3a"
             ],
             [
              0.8888888888888888,
              "#fdca26"
             ],
             [
              1,
              "#f0f921"
             ]
            ],
            "type": "histogram2dcontour"
           }
          ],
          "mesh3d": [
           {
            "colorbar": {
             "outlinewidth": 0,
             "ticks": ""
            },
            "type": "mesh3d"
           }
          ],
          "parcoords": [
           {
            "line": {
             "colorbar": {
              "outlinewidth": 0,
              "ticks": ""
             }
            },
            "type": "parcoords"
           }
          ],
          "pie": [
           {
            "automargin": true,
            "type": "pie"
           }
          ],
          "scatter": [
           {
            "fillpattern": {
             "fillmode": "overlay",
             "size": 10,
             "solidity": 0.2
            },
            "type": "scatter"
           }
          ],
          "scatter3d": [
           {
            "line": {
             "colorbar": {
              "outlinewidth": 0,
              "ticks": ""
             }
            },
            "marker": {
             "colorbar": {
              "outlinewidth": 0,
              "ticks": ""
             }
            },
            "type": "scatter3d"
           }
          ],
          "scattercarpet": [
           {
            "marker": {
             "colorbar": {
              "outlinewidth": 0,
              "ticks": ""
             }
            },
            "type": "scattercarpet"
           }
          ],
          "scattergeo": [
           {
            "marker": {
             "colorbar": {
              "outlinewidth": 0,
              "ticks": ""
             }
            },
            "type": "scattergeo"
           }
          ],
          "scattergl": [
           {
            "marker": {
             "colorbar": {
              "outlinewidth": 0,
              "ticks": ""
             }
            },
            "type": "scattergl"
           }
          ],
          "scattermapbox": [
           {
            "marker": {
             "colorbar": {
              "outlinewidth": 0,
              "ticks": ""
             }
            },
            "type": "scattermapbox"
           }
          ],
          "scatterpolar": [
           {
            "marker": {
             "colorbar": {
              "outlinewidth": 0,
              "ticks": ""
             }
            },
            "type": "scatterpolar"
           }
          ],
          "scatterpolargl": [
           {
            "marker": {
             "colorbar": {
              "outlinewidth": 0,
              "ticks": ""
             }
            },
            "type": "scatterpolargl"
           }
          ],
          "scatterternary": [
           {
            "marker": {
             "colorbar": {
              "outlinewidth": 0,
              "ticks": ""
             }
            },
            "type": "scatterternary"
           }
          ],
          "surface": [
           {
            "colorbar": {
             "outlinewidth": 0,
             "ticks": ""
            },
            "colorscale": [
             [
              0,
              "#0d0887"
             ],
             [
              0.1111111111111111,
              "#46039f"
             ],
             [
              0.2222222222222222,
              "#7201a8"
             ],
             [
              0.3333333333333333,
              "#9c179e"
             ],
             [
              0.4444444444444444,
              "#bd3786"
             ],
             [
              0.5555555555555556,
              "#d8576b"
             ],
             [
              0.6666666666666666,
              "#ed7953"
             ],
             [
              0.7777777777777778,
              "#fb9f3a"
             ],
             [
              0.8888888888888888,
              "#fdca26"
             ],
             [
              1,
              "#f0f921"
             ]
            ],
            "type": "surface"
           }
          ],
          "table": [
           {
            "cells": {
             "fill": {
              "color": "#EBF0F8"
             },
             "line": {
              "color": "white"
             }
            },
            "header": {
             "fill": {
              "color": "#C8D4E3"
             },
             "line": {
              "color": "white"
             }
            },
            "type": "table"
           }
          ]
         },
         "layout": {
          "annotationdefaults": {
           "arrowcolor": "#2a3f5f",
           "arrowhead": 0,
           "arrowwidth": 1
          },
          "autotypenumbers": "strict",
          "coloraxis": {
           "colorbar": {
            "outlinewidth": 0,
            "ticks": ""
           }
          },
          "colorscale": {
           "diverging": [
            [
             0,
             "#8e0152"
            ],
            [
             0.1,
             "#c51b7d"
            ],
            [
             0.2,
             "#de77ae"
            ],
            [
             0.3,
             "#f1b6da"
            ],
            [
             0.4,
             "#fde0ef"
            ],
            [
             0.5,
             "#f7f7f7"
            ],
            [
             0.6,
             "#e6f5d0"
            ],
            [
             0.7,
             "#b8e186"
            ],
            [
             0.8,
             "#7fbc41"
            ],
            [
             0.9,
             "#4d9221"
            ],
            [
             1,
             "#276419"
            ]
           ],
           "sequential": [
            [
             0,
             "#0d0887"
            ],
            [
             0.1111111111111111,
             "#46039f"
            ],
            [
             0.2222222222222222,
             "#7201a8"
            ],
            [
             0.3333333333333333,
             "#9c179e"
            ],
            [
             0.4444444444444444,
             "#bd3786"
            ],
            [
             0.5555555555555556,
             "#d8576b"
            ],
            [
             0.6666666666666666,
             "#ed7953"
            ],
            [
             0.7777777777777778,
             "#fb9f3a"
            ],
            [
             0.8888888888888888,
             "#fdca26"
            ],
            [
             1,
             "#f0f921"
            ]
           ],
           "sequentialminus": [
            [
             0,
             "#0d0887"
            ],
            [
             0.1111111111111111,
             "#46039f"
            ],
            [
             0.2222222222222222,
             "#7201a8"
            ],
            [
             0.3333333333333333,
             "#9c179e"
            ],
            [
             0.4444444444444444,
             "#bd3786"
            ],
            [
             0.5555555555555556,
             "#d8576b"
            ],
            [
             0.6666666666666666,
             "#ed7953"
            ],
            [
             0.7777777777777778,
             "#fb9f3a"
            ],
            [
             0.8888888888888888,
             "#fdca26"
            ],
            [
             1,
             "#f0f921"
            ]
           ]
          },
          "colorway": [
           "#636efa",
           "#EF553B",
           "#00cc96",
           "#ab63fa",
           "#FFA15A",
           "#19d3f3",
           "#FF6692",
           "#B6E880",
           "#FF97FF",
           "#FECB52"
          ],
          "font": {
           "color": "#2a3f5f"
          },
          "geo": {
           "bgcolor": "white",
           "lakecolor": "white",
           "landcolor": "#E5ECF6",
           "showlakes": true,
           "showland": true,
           "subunitcolor": "white"
          },
          "hoverlabel": {
           "align": "left"
          },
          "hovermode": "closest",
          "mapbox": {
           "style": "light"
          },
          "paper_bgcolor": "white",
          "plot_bgcolor": "#E5ECF6",
          "polar": {
           "angularaxis": {
            "gridcolor": "white",
            "linecolor": "white",
            "ticks": ""
           },
           "bgcolor": "#E5ECF6",
           "radialaxis": {
            "gridcolor": "white",
            "linecolor": "white",
            "ticks": ""
           }
          },
          "scene": {
           "xaxis": {
            "backgroundcolor": "#E5ECF6",
            "gridcolor": "white",
            "gridwidth": 2,
            "linecolor": "white",
            "showbackground": true,
            "ticks": "",
            "zerolinecolor": "white"
           },
           "yaxis": {
            "backgroundcolor": "#E5ECF6",
            "gridcolor": "white",
            "gridwidth": 2,
            "linecolor": "white",
            "showbackground": true,
            "ticks": "",
            "zerolinecolor": "white"
           },
           "zaxis": {
            "backgroundcolor": "#E5ECF6",
            "gridcolor": "white",
            "gridwidth": 2,
            "linecolor": "white",
            "showbackground": true,
            "ticks": "",
            "zerolinecolor": "white"
           }
          },
          "shapedefaults": {
           "line": {
            "color": "#2a3f5f"
           }
          },
          "ternary": {
           "aaxis": {
            "gridcolor": "white",
            "linecolor": "white",
            "ticks": ""
           },
           "baxis": {
            "gridcolor": "white",
            "linecolor": "white",
            "ticks": ""
           },
           "bgcolor": "#E5ECF6",
           "caxis": {
            "gridcolor": "white",
            "linecolor": "white",
            "ticks": ""
           }
          },
          "title": {
           "x": 0.05
          },
          "xaxis": {
           "automargin": true,
           "gridcolor": "white",
           "linecolor": "white",
           "ticks": "",
           "title": {
            "standoff": 15
           },
           "zerolinecolor": "white",
           "zerolinewidth": 2
          },
          "yaxis": {
           "automargin": true,
           "gridcolor": "white",
           "linecolor": "white",
           "ticks": "",
           "title": {
            "standoff": 15
           },
           "zerolinecolor": "white",
           "zerolinewidth": 2
          }
         }
        },
        "title": {
         "text": "Count of Sales Based on Review Score Over The Past Year"
        },
        "width": 900,
        "xaxis": {
         "anchor": "y",
         "domain": [
          0,
          0.45
         ],
         "title": {
          "text": "Review Score"
         }
        },
        "xaxis10": {
         "anchor": "y10",
         "domain": [
          0.55,
          1
         ],
         "title": {
          "text": "Review Score"
         }
        },
        "xaxis11": {
         "anchor": "y11",
         "domain": [
          0,
          0.45
         ],
         "title": {
          "text": "Review Score"
         }
        },
        "xaxis12": {
         "anchor": "y12",
         "domain": [
          0.55,
          1
         ],
         "title": {
          "text": "Review Score"
         }
        },
        "xaxis2": {
         "anchor": "y2",
         "domain": [
          0.55,
          1
         ],
         "title": {
          "text": "Review Score"
         }
        },
        "xaxis3": {
         "anchor": "y3",
         "domain": [
          0,
          0.45
         ],
         "title": {
          "text": "Review Score"
         }
        },
        "xaxis4": {
         "anchor": "y4",
         "domain": [
          0.55,
          1
         ],
         "title": {
          "text": "Review Score"
         }
        },
        "xaxis5": {
         "anchor": "y5",
         "domain": [
          0,
          0.45
         ],
         "title": {
          "text": "Review Score"
         }
        },
        "xaxis6": {
         "anchor": "y6",
         "domain": [
          0.55,
          1
         ],
         "title": {
          "text": "Review Score"
         }
        },
        "xaxis7": {
         "anchor": "y7",
         "domain": [
          0,
          0.45
         ],
         "title": {
          "text": "Review Score"
         }
        },
        "xaxis8": {
         "anchor": "y8",
         "domain": [
          0.55,
          1
         ],
         "title": {
          "text": "Review Score"
         }
        },
        "xaxis9": {
         "anchor": "y9",
         "domain": [
          0,
          0.45
         ],
         "title": {
          "text": "Review Score"
         }
        },
        "yaxis": {
         "anchor": "x",
         "domain": [
          0.9027777777777777,
          0.9999999999999999
         ],
         "title": {
          "text": "Sales"
         }
        },
        "yaxis10": {
         "anchor": "x10",
         "domain": [
          0.18055555555555555,
          0.2777777777777778
         ],
         "title": {
          "text": "Sales"
         }
        },
        "yaxis11": {
         "anchor": "x11",
         "domain": [
          0,
          0.09722222222222222
         ],
         "title": {
          "text": "Sales"
         }
        },
        "yaxis12": {
         "anchor": "x12",
         "domain": [
          0,
          0.09722222222222222
         ],
         "title": {
          "text": "Sales"
         }
        },
        "yaxis2": {
         "anchor": "x2",
         "domain": [
          0.9027777777777777,
          0.9999999999999999
         ],
         "title": {
          "text": "Sales"
         }
        },
        "yaxis3": {
         "anchor": "x3",
         "domain": [
          0.7222222222222222,
          0.8194444444444444
         ],
         "title": {
          "text": "Sales"
         }
        },
        "yaxis4": {
         "anchor": "x4",
         "domain": [
          0.7222222222222222,
          0.8194444444444444
         ],
         "title": {
          "text": "Sales"
         }
        },
        "yaxis5": {
         "anchor": "x5",
         "domain": [
          0.5416666666666667,
          0.638888888888889
         ],
         "title": {
          "text": "Sales"
         }
        },
        "yaxis6": {
         "anchor": "x6",
         "domain": [
          0.5416666666666667,
          0.638888888888889
         ],
         "title": {
          "text": "Sales"
         }
        },
        "yaxis7": {
         "anchor": "x7",
         "domain": [
          0.3611111111111111,
          0.4583333333333333
         ],
         "title": {
          "text": "Sales"
         }
        },
        "yaxis8": {
         "anchor": "x8",
         "domain": [
          0.3611111111111111,
          0.4583333333333333
         ],
         "title": {
          "text": "Sales"
         }
        },
        "yaxis9": {
         "anchor": "x9",
         "domain": [
          0.18055555555555555,
          0.2777777777777778
         ],
         "title": {
          "text": "Sales"
         }
        }
       }
      }
     },
     "metadata": {},
     "output_type": "display_data"
    }
   ],
   "source": [
    "#Graph of Sales Over The Past Year based on review score\n",
    "fig = make_subplots(rows = 6, cols = 2, \n",
    "                    subplot_titles = ('Month 1', 'Month 2', 'Month 3', 'Month 4', \n",
    "                                      'Month 5', 'Month 6', 'Month 7', 'Month 8',\n",
    "                                      'Month 9', 'Month 10', 'Month 11', 'Month 12'))\n",
    "fig1 = px.bar(score, x = score.index, y = 'sales_month_1')\n",
    "for trace in fig1.data:\n",
    "    fig.add_trace(fig1.data[0], row=1, col=1)\n",
    "\n",
    "fig1 = px.bar(score, x = score.index, y = 'sales_month_2')\n",
    "for trace in fig1.data:\n",
    "    fig.add_trace(fig1.data[0], row=1, col=2)\n",
    "\n",
    "fig1 = px.bar(score, x = score.index, y = 'sales_month_3')\n",
    "for trace in fig1.data:\n",
    "    fig.add_trace(fig1.data[0], row=2, col=1)\n",
    "\n",
    "fig1 = px.bar(score, x = score.index, y = 'sales_month_4')\n",
    "for trace in fig1.data:\n",
    "    fig.add_trace(fig1.data[0], row=2, col=2)    \n",
    "\n",
    "fig1 = px.bar(score, x = score.index, y = 'sales_month_5')\n",
    "for trace in fig1.data:\n",
    "    fig.add_trace(fig1.data[0], row=3, col=1)\n",
    "    \n",
    "fig1 = px.bar(score, x = score.index, y = 'sales_month_6')\n",
    "for trace in fig1.data:\n",
    "    fig.add_trace(fig1.data[0], row=3, col=2)\n",
    "    \n",
    "fig1 = px.bar(score, x = score.index, y = 'sales_month_7')\n",
    "for trace in fig1.data:\n",
    "    fig.add_trace(fig1.data[0], row=4, col=1)\n",
    "    \n",
    "fig1 = px.bar(score, x = score.index, y = 'sales_month_8')\n",
    "for trace in fig1.data:\n",
    "    fig.add_trace(fig1.data[0], row=4, col=2)\n",
    "    \n",
    "fig1 = px.bar(score, x = score.index, y = 'sales_month_9')\n",
    "for trace in fig1.data:\n",
    "    fig.add_trace(fig1.data[0], row=5, col=1)\n",
    "    \n",
    "fig1 = px.bar(score, x = score.index, y = 'sales_month_10')\n",
    "for trace in fig1.data:\n",
    "    fig.add_trace(fig1.data[0], row=5, col=2)\n",
    "    \n",
    "fig1 = px.bar(score, x = score.index, y = 'sales_month_11')\n",
    "for trace in fig1.data:\n",
    "    fig.add_trace(fig1.data[0], row=6, col=1)\n",
    "\n",
    "fig1 = px.bar(score, x = score.index, y = 'sales_month_12')\n",
    "for trace in fig1.data:\n",
    "    fig.add_trace(fig1.data[0], row=6, col=2)\n",
    "    \n",
    "    \n",
    "fig.update_traces(marker_color = 'moccasin', marker_line_color = 'darksalmon',\n",
    "                  marker_line_width = 1)\n",
    "fig.update_xaxes(title = 'Review Score')\n",
    "fig.update_yaxes(title = 'Sales')\n",
    "fig.update_layout(title = 'Count of Sales Based on Review Score Over The Past Year',\n",
    "                  height = 1200, width = 900)\n",
    "fig.show()"
   ]
  },
  {
   "cell_type": "markdown",
   "metadata": {},
   "source": [
    "Inventory Optimization"
   ]
  },
  {
   "cell_type": "code",
   "execution_count": 83,
   "metadata": {},
   "outputs": [],
   "source": [
    "import pandas as pd\n",
    "import numpy as np\n",
    "import matplotlib.pyplot as plt\n",
    "import seaborn as sns\n",
    "from sklearn.model_selection import train_test_split\n",
    "from sklearn.ensemble import RandomForestRegressor\n",
    "from sklearn.metrics import mean_squared_error, mean_absolute_error\n"
   ]
  },
  {
   "cell_type": "code",
   "execution_count": 84,
   "metadata": {},
   "outputs": [
    {
     "name": "stderr",
     "output_type": "stream",
     "text": [
      "C:\\Users\\User\\AppData\\Local\\Temp\\ipykernel_1968\\663125.py:5: FutureWarning:\n",
      "\n",
      "DataFrame.fillna with 'method' is deprecated and will raise in a future version. Use obj.ffill() or obj.bfill() instead.\n",
      "\n"
     ]
    }
   ],
   "source": [
    "# Load the data\n",
    "data = pd.read_csv(\"data/data.csv\")\n",
    "\n",
    "# Check for missing values and handle them (fill or drop)\n",
    "data.fillna(method='ffill', inplace=True)\n",
    "\n",
    "# Feature Engineering\n",
    "data['total_sales'] = data.loc[:, 'sales_month_1':'sales_month_12'].sum(axis=1)  # Total sales for the year\n"
   ]
  },
  {
   "cell_type": "code",
   "execution_count": 85,
   "metadata": {},
   "outputs": [
    {
     "data": {
      "text/plain": [
       "category\n",
       "Books             154\n",
       "Sports            153\n",
       "Toys              151\n",
       "Clothing          140\n",
       "Health            139\n",
       "Electronics       138\n",
       "Home & Kitchen    125\n",
       "Name: count, dtype: int64"
      ]
     },
     "execution_count": 85,
     "metadata": {},
     "output_type": "execute_result"
    }
   ],
   "source": [
    "# Group data by category\n",
    "categories = data['category'].unique()\n",
    "\n",
    "# Create a dictionary to store results\n",
    "category_results = {}\n",
    "\n",
    "data['category'].value_counts()\n"
   ]
  },
  {
   "cell_type": "code",
   "execution_count": 86,
   "metadata": {},
   "outputs": [
    {
     "name": "stdout",
     "output_type": "stream",
     "text": [
      "Category: Clothing\n",
      "Best Model: RandomForestRegressor(max_depth=30, min_samples_leaf=2, min_samples_split=3,\n",
      "                      n_estimators=94, random_state=42)\n",
      "MSE: 1285491.3547\n",
      "MAE: 890.0043\n",
      "Predictions: [6014.74931611 7048.50536981 5993.77402482 5926.12968592 5908.14713894]...\n",
      "\n",
      "Category: Home & Kitchen\n",
      "Best Model: RandomForestRegressor(min_samples_leaf=3, min_samples_split=7, n_estimators=170,\n",
      "                      random_state=42)\n",
      "MSE: 844545.2715\n",
      "MAE: 787.3600\n",
      "Predictions: [5650.08153257 6321.9888067  6065.48913087 5554.44815782 5732.15678172]...\n",
      "\n",
      "Category: Toys\n",
      "Best Model: RandomForestRegressor(max_depth=20, min_samples_leaf=3, min_samples_split=9,\n",
      "                      n_estimators=89, random_state=42)\n",
      "MSE: 1066353.4696\n",
      "MAE: 825.5567\n",
      "Predictions: [5917.05867871 6339.4718722  5957.39855335 5879.86991167 6231.76832233]...\n",
      "\n",
      "Category: Books\n",
      "Best Model: RandomForestRegressor(max_depth=30, min_samples_leaf=2, min_samples_split=9,\n",
      "                      n_estimators=181, random_state=42)\n",
      "MSE: 1144227.5284\n",
      "MAE: 834.0799\n",
      "Predictions: [5801.25285159 5926.39659949 5834.41668217 5813.26785346 5594.67567982]...\n",
      "\n",
      "Category: Electronics\n",
      "Best Model: RandomForestRegressor(max_depth=20, min_samples_split=3, n_estimators=90,\n",
      "                      random_state=42)\n",
      "MSE: 1311125.5821\n",
      "MAE: 875.4857\n",
      "Predictions: [5749.37386243 6413.0962963  6467.6762037  5349.67058201 6903.23537037]...\n",
      "\n",
      "Category: Health\n",
      "Best Model: RandomForestRegressor(max_depth=20, min_samples_leaf=3, min_samples_split=9,\n",
      "                      n_estimators=89, random_state=42)\n",
      "MSE: 673100.8572\n",
      "MAE: 700.1011\n",
      "Predictions: [5620.054798   6621.15024068 6574.88502041 5809.45672235 6423.15975919]...\n",
      "\n",
      "Category: Sports\n",
      "Best Model: RandomForestRegressor(max_depth=30, min_samples_leaf=2, min_samples_split=9,\n",
      "                      n_estimators=181, random_state=42)\n",
      "MSE: 1026305.9543\n",
      "MAE: 766.4819\n",
      "Predictions: [6331.29598359 6209.27221356 5928.2321639  6195.8282165  5962.66768485]...\n",
      "\n"
     ]
    }
   ],
   "source": [
    "import numpy as np\n",
    "import pandas as pd\n",
    "from sklearn.model_selection import train_test_split, RandomizedSearchCV\n",
    "from sklearn.ensemble import RandomForestRegressor\n",
    "from sklearn.metrics import mean_squared_error, mean_absolute_error\n",
    "from scipy.stats import randint\n",
    "\n",
    "# Assuming 'data' and 'categories' are already defined\n",
    "category_results = {}\n",
    "\n",
    "for category in categories:\n",
    "    category_data = data[data['category'] == category]\n",
    "\n",
    "    # Features and target variable for the model\n",
    "    X = category_data[['price', 'review_score', 'review_count']]\n",
    "    y = category_data['total_sales']\n",
    "\n",
    "    # Split the data into train and test sets\n",
    "    X_train, X_test, y_train, y_test = train_test_split(X, y, test_size=0.2, random_state=42)\n",
    "\n",
    "    # Define parameter distributions instead of grids for RandomizedSearchCV\n",
    "    param_dist = {\n",
    "        'n_estimators': randint(50, 200),  # Random range for n_estimators\n",
    "        'max_depth': [None, 10, 20, 30],  # Max depth options\n",
    "        'min_samples_split': randint(2, 10),  # Random range for min_samples_split\n",
    "        'min_samples_leaf': randint(1, 4)  # Random range for min_samples_leaf\n",
    "    }\n",
    "\n",
    "    # Initialize RandomizedSearchCV\n",
    "    random_search = RandomizedSearchCV(estimator=RandomForestRegressor(random_state=42),\n",
    "                                       param_distributions=param_dist,\n",
    "                                       n_iter=50,  # Number of random combinations to sample\n",
    "                                       cv=5,  # 5-fold cross-validation\n",
    "                                       n_jobs=-1,  # Use all available cores for parallelization\n",
    "                                       scoring='neg_mean_squared_error',  # Use negative MSE as scoring metric\n",
    "                                       random_state=42)\n",
    "\n",
    "    # Fit the model\n",
    "    random_search.fit(X_train, y_train)\n",
    "    best_model = random_search.best_estimator_\n",
    "\n",
    "    # Make predictions with the best model\n",
    "    y_pred = best_model.predict(X_test)\n",
    "\n",
    "    # Evaluate the model\n",
    "    mse = mean_squared_error(y_test, y_pred)\n",
    "    mae = mean_absolute_error(y_test, y_pred)\n",
    "\n",
    "    # Store results\n",
    "    category_results[category] = {\n",
    "        'model': best_model,\n",
    "        'mse': mse,\n",
    "        'mae': mae,\n",
    "        'predictions': y_pred,\n",
    "        'true_values': y_test\n",
    "    }\n",
    "\n",
    "# Optionally, print the results\n",
    "for category, results in category_results.items():\n",
    "    print(f\"Category: {category}\")\n",
    "    print(f\"Best Model: {results['model']}\")\n",
    "    print(f\"MSE: {results['mse']:.4f}\")\n",
    "    print(f\"MAE: {results['mae']:.4f}\")\n",
    "    print(f\"Predictions: {results['predictions'][:5]}...\")  # Display first 5 predictions\n",
    "    print()\n"
   ]
  },
  {
   "cell_type": "code",
   "execution_count": 87,
   "metadata": {},
   "outputs": [],
   "source": [
    "def calculate_reorder_point(daily_sales, lead_time=5, buffer_days=None, demand_fluctuation_factor=1.2):\n",
    "    # If buffer_days is not provided, calculate based on demand fluctuations\n",
    "    if buffer_days is None:\n",
    "        buffer_days = int(daily_sales * demand_fluctuation_factor)\n",
    "    \n",
    "    safety_stock = daily_sales * buffer_days  # Safety stock for buffer days\n",
    "    reorder_point = (lead_time * daily_sales) + safety_stock\n",
    "    return reorder_point\n"
   ]
  },
  {
   "cell_type": "code",
   "execution_count": 88,
   "metadata": {},
   "outputs": [],
   "source": [
    "import numpy as np\n",
    "from sklearn.linear_model import LinearRegression\n",
    "\n",
    "def forecast_demand(daily_sales, days_to_forecast=30):\n",
    "    # Use linear regression to forecast future demand\n",
    "    X = np.array(range(len(daily_sales))).reshape(-1, 1)  # Time as a feature\n",
    "    y = np.array(daily_sales)  # Historical demand as the target\n",
    "    \n",
    "    # Train the model\n",
    "    model = LinearRegression()\n",
    "    model.fit(X, y)\n",
    "\n",
    "    # Forecast demand for the next 'days_to_forecast' days\n",
    "    future_days = np.array(range(len(daily_sales), len(daily_sales) + days_to_forecast)).reshape(-1, 1)\n",
    "    predicted_demand = model.predict(future_days)\n",
    "    return predicted_demand[-1]  # Return the forecasted demand for the last day\n",
    "\n",
    "def calculate_economic_order_quantity(daily_sales, holding_cost=2, order_cost=50, demand_forecast_days=30):\n",
    "    # Forecast future demand\n",
    "    forecasted_demand = forecast_demand(daily_sales, demand_forecast_days)\n",
    "    \n",
    "    # Calculate EOQ using the forecasted demand\n",
    "    eoq = np.sqrt((2 * forecasted_demand * order_cost) / holding_cost)\n",
    "    return eoq\n"
   ]
  },
  {
   "cell_type": "code",
   "execution_count": 89,
   "metadata": {},
   "outputs": [
    {
     "name": "stdout",
     "output_type": "stream",
     "text": [
      "Category: Clothing\n",
      "  Product 1: ROP = 1477.30 units, EOQ = 102.72 units\n",
      "  Product 2: ROP = 1448.83 units, EOQ = 101.73 units\n",
      "  Product 3: ROP = 1383.25 units, EOQ = 99.40 units\n",
      "  Product 4: ROP = 1445.69 units, EOQ = 101.62 units\n",
      "  Product 5: ROP = 1391.29 units, EOQ = 99.69 units\n",
      "  Product 6: ROP = 1348.46 units, EOQ = 98.14 units\n",
      "  Product 7: ROP = 1335.80 units, EOQ = 97.68 units\n",
      "  Product 8: ROP = 1367.12 units, EOQ = 98.82 units\n",
      "  Product 9: ROP = 1404.72 units, EOQ = 100.17 units\n",
      "  Product 10: ROP = 1268.99 units, EOQ = 95.21 units\n",
      "  Product 11: ROP = 1410.66 units, EOQ = 100.38 units\n",
      "  Product 12: ROP = 1418.47 units, EOQ = 100.66 units\n",
      "  Product 13: ROP = 1415.94 units, EOQ = 100.57 units\n",
      "  Product 14: ROP = 1444.88 units, EOQ = 101.59 units\n",
      "  Product 15: ROP = 1327.74 units, EOQ = 97.39 units\n",
      "  Product 16: ROP = 1350.66 units, EOQ = 98.22 units\n",
      "  Product 17: ROP = 1303.17 units, EOQ = 96.48 units\n",
      "  Product 18: ROP = 1425.99 units, EOQ = 100.92 units\n",
      "  Product 19: ROP = 1367.06 units, EOQ = 98.82 units\n",
      "  Product 20: ROP = 1458.01 units, EOQ = 102.05 units\n",
      "  Product 21: ROP = 1303.58 units, EOQ = 96.49 units\n",
      "  Product 22: ROP = 1488.90 units, EOQ = 103.13 units\n",
      "  Product 23: ROP = 1321.83 units, EOQ = 97.17 units\n",
      "  Product 24: ROP = 1381.84 units, EOQ = 99.35 units\n",
      "  Product 25: ROP = 1427.05 units, EOQ = 100.96 units\n",
      "  Product 26: ROP = 1457.18 units, EOQ = 102.02 units\n",
      "  Product 27: ROP = 1343.62 units, EOQ = 97.97 units\n",
      "  Product 28: ROP = 1255.12 units, EOQ = 94.68 units\n",
      "  Product 29: ROP = 1335.56 units, EOQ = 97.67 units\n",
      "  Product 30: ROP = 1399.28 units, EOQ = 99.97 units\n",
      "  Product 31: ROP = 1487.27 units, EOQ = 103.07 units\n",
      "  Total ROP for Category Clothing: 42995.28 units\n",
      "  Total EOQ for Category Clothing: 3084.74 units\n",
      "\n",
      "Category: Home & Kitchen\n",
      "  Product 1: ROP = 1477.30 units, EOQ = 102.72 units\n",
      "  Product 2: ROP = 1448.83 units, EOQ = 101.73 units\n",
      "  Product 3: ROP = 1383.25 units, EOQ = 99.40 units\n",
      "  Product 4: ROP = 1445.69 units, EOQ = 101.62 units\n",
      "  Product 5: ROP = 1391.29 units, EOQ = 99.69 units\n",
      "  Product 6: ROP = 1348.46 units, EOQ = 98.14 units\n",
      "  Product 7: ROP = 1335.80 units, EOQ = 97.68 units\n",
      "  Product 8: ROP = 1367.12 units, EOQ = 98.82 units\n",
      "  Product 9: ROP = 1404.72 units, EOQ = 100.17 units\n",
      "  Product 10: ROP = 1268.99 units, EOQ = 95.21 units\n",
      "  Product 11: ROP = 1410.66 units, EOQ = 100.38 units\n",
      "  Product 12: ROP = 1418.47 units, EOQ = 100.66 units\n",
      "  Product 13: ROP = 1415.94 units, EOQ = 100.57 units\n",
      "  Product 14: ROP = 1444.88 units, EOQ = 101.59 units\n",
      "  Product 15: ROP = 1327.74 units, EOQ = 97.39 units\n",
      "  Product 16: ROP = 1350.66 units, EOQ = 98.22 units\n",
      "  Product 17: ROP = 1303.17 units, EOQ = 96.48 units\n",
      "  Product 18: ROP = 1425.99 units, EOQ = 100.92 units\n",
      "  Product 19: ROP = 1367.06 units, EOQ = 98.82 units\n",
      "  Product 20: ROP = 1458.01 units, EOQ = 102.05 units\n",
      "  Product 21: ROP = 1303.58 units, EOQ = 96.49 units\n",
      "  Product 22: ROP = 1488.90 units, EOQ = 103.13 units\n",
      "  Product 23: ROP = 1321.83 units, EOQ = 97.17 units\n",
      "  Product 24: ROP = 1381.84 units, EOQ = 99.35 units\n",
      "  Product 25: ROP = 1427.05 units, EOQ = 100.96 units\n",
      "  Product 26: ROP = 1457.18 units, EOQ = 102.02 units\n",
      "  Product 27: ROP = 1343.62 units, EOQ = 97.97 units\n",
      "  Product 28: ROP = 1255.12 units, EOQ = 94.68 units\n",
      "  Product 29: ROP = 1335.56 units, EOQ = 97.67 units\n",
      "  Product 30: ROP = 1399.28 units, EOQ = 99.97 units\n",
      "  Product 31: ROP = 1487.27 units, EOQ = 103.07 units\n",
      "  Total ROP for Category Home & Kitchen: 42995.28 units\n",
      "  Total EOQ for Category Home & Kitchen: 3084.74 units\n",
      "\n",
      "Category: Toys\n",
      "  Product 1: ROP = 1477.30 units, EOQ = 102.72 units\n",
      "  Product 2: ROP = 1448.83 units, EOQ = 101.73 units\n",
      "  Product 3: ROP = 1383.25 units, EOQ = 99.40 units\n",
      "  Product 4: ROP = 1445.69 units, EOQ = 101.62 units\n",
      "  Product 5: ROP = 1391.29 units, EOQ = 99.69 units\n",
      "  Product 6: ROP = 1348.46 units, EOQ = 98.14 units\n",
      "  Product 7: ROP = 1335.80 units, EOQ = 97.68 units\n",
      "  Product 8: ROP = 1367.12 units, EOQ = 98.82 units\n",
      "  Product 9: ROP = 1404.72 units, EOQ = 100.17 units\n",
      "  Product 10: ROP = 1268.99 units, EOQ = 95.21 units\n",
      "  Product 11: ROP = 1410.66 units, EOQ = 100.38 units\n",
      "  Product 12: ROP = 1418.47 units, EOQ = 100.66 units\n",
      "  Product 13: ROP = 1415.94 units, EOQ = 100.57 units\n",
      "  Product 14: ROP = 1444.88 units, EOQ = 101.59 units\n",
      "  Product 15: ROP = 1327.74 units, EOQ = 97.39 units\n",
      "  Product 16: ROP = 1350.66 units, EOQ = 98.22 units\n",
      "  Product 17: ROP = 1303.17 units, EOQ = 96.48 units\n",
      "  Product 18: ROP = 1425.99 units, EOQ = 100.92 units\n",
      "  Product 19: ROP = 1367.06 units, EOQ = 98.82 units\n",
      "  Product 20: ROP = 1458.01 units, EOQ = 102.05 units\n",
      "  Product 21: ROP = 1303.58 units, EOQ = 96.49 units\n",
      "  Product 22: ROP = 1488.90 units, EOQ = 103.13 units\n",
      "  Product 23: ROP = 1321.83 units, EOQ = 97.17 units\n",
      "  Product 24: ROP = 1381.84 units, EOQ = 99.35 units\n",
      "  Product 25: ROP = 1427.05 units, EOQ = 100.96 units\n",
      "  Product 26: ROP = 1457.18 units, EOQ = 102.02 units\n",
      "  Product 27: ROP = 1343.62 units, EOQ = 97.97 units\n",
      "  Product 28: ROP = 1255.12 units, EOQ = 94.68 units\n",
      "  Product 29: ROP = 1335.56 units, EOQ = 97.67 units\n",
      "  Product 30: ROP = 1399.28 units, EOQ = 99.97 units\n",
      "  Product 31: ROP = 1487.27 units, EOQ = 103.07 units\n",
      "  Total ROP for Category Toys: 42995.28 units\n",
      "  Total EOQ for Category Toys: 3084.74 units\n",
      "\n",
      "Category: Books\n",
      "  Product 1: ROP = 1477.30 units, EOQ = 102.72 units\n",
      "  Product 2: ROP = 1448.83 units, EOQ = 101.73 units\n",
      "  Product 3: ROP = 1383.25 units, EOQ = 99.40 units\n",
      "  Product 4: ROP = 1445.69 units, EOQ = 101.62 units\n",
      "  Product 5: ROP = 1391.29 units, EOQ = 99.69 units\n",
      "  Product 6: ROP = 1348.46 units, EOQ = 98.14 units\n",
      "  Product 7: ROP = 1335.80 units, EOQ = 97.68 units\n",
      "  Product 8: ROP = 1367.12 units, EOQ = 98.82 units\n",
      "  Product 9: ROP = 1404.72 units, EOQ = 100.17 units\n",
      "  Product 10: ROP = 1268.99 units, EOQ = 95.21 units\n",
      "  Product 11: ROP = 1410.66 units, EOQ = 100.38 units\n",
      "  Product 12: ROP = 1418.47 units, EOQ = 100.66 units\n",
      "  Product 13: ROP = 1415.94 units, EOQ = 100.57 units\n",
      "  Product 14: ROP = 1444.88 units, EOQ = 101.59 units\n",
      "  Product 15: ROP = 1327.74 units, EOQ = 97.39 units\n",
      "  Product 16: ROP = 1350.66 units, EOQ = 98.22 units\n",
      "  Product 17: ROP = 1303.17 units, EOQ = 96.48 units\n",
      "  Product 18: ROP = 1425.99 units, EOQ = 100.92 units\n",
      "  Product 19: ROP = 1367.06 units, EOQ = 98.82 units\n",
      "  Product 20: ROP = 1458.01 units, EOQ = 102.05 units\n",
      "  Product 21: ROP = 1303.58 units, EOQ = 96.49 units\n",
      "  Product 22: ROP = 1488.90 units, EOQ = 103.13 units\n",
      "  Product 23: ROP = 1321.83 units, EOQ = 97.17 units\n",
      "  Product 24: ROP = 1381.84 units, EOQ = 99.35 units\n",
      "  Product 25: ROP = 1427.05 units, EOQ = 100.96 units\n",
      "  Product 26: ROP = 1457.18 units, EOQ = 102.02 units\n",
      "  Product 27: ROP = 1343.62 units, EOQ = 97.97 units\n",
      "  Product 28: ROP = 1255.12 units, EOQ = 94.68 units\n",
      "  Product 29: ROP = 1335.56 units, EOQ = 97.67 units\n",
      "  Product 30: ROP = 1399.28 units, EOQ = 99.97 units\n",
      "  Product 31: ROP = 1487.27 units, EOQ = 103.07 units\n",
      "  Total ROP for Category Books: 42995.28 units\n",
      "  Total EOQ for Category Books: 3084.74 units\n",
      "\n",
      "Category: Electronics\n",
      "  Product 1: ROP = 1477.30 units, EOQ = 102.72 units\n",
      "  Product 2: ROP = 1448.83 units, EOQ = 101.73 units\n",
      "  Product 3: ROP = 1383.25 units, EOQ = 99.40 units\n",
      "  Product 4: ROP = 1445.69 units, EOQ = 101.62 units\n",
      "  Product 5: ROP = 1391.29 units, EOQ = 99.69 units\n",
      "  Product 6: ROP = 1348.46 units, EOQ = 98.14 units\n",
      "  Product 7: ROP = 1335.80 units, EOQ = 97.68 units\n",
      "  Product 8: ROP = 1367.12 units, EOQ = 98.82 units\n",
      "  Product 9: ROP = 1404.72 units, EOQ = 100.17 units\n",
      "  Product 10: ROP = 1268.99 units, EOQ = 95.21 units\n",
      "  Product 11: ROP = 1410.66 units, EOQ = 100.38 units\n",
      "  Product 12: ROP = 1418.47 units, EOQ = 100.66 units\n",
      "  Product 13: ROP = 1415.94 units, EOQ = 100.57 units\n",
      "  Product 14: ROP = 1444.88 units, EOQ = 101.59 units\n",
      "  Product 15: ROP = 1327.74 units, EOQ = 97.39 units\n",
      "  Product 16: ROP = 1350.66 units, EOQ = 98.22 units\n",
      "  Product 17: ROP = 1303.17 units, EOQ = 96.48 units\n",
      "  Product 18: ROP = 1425.99 units, EOQ = 100.92 units\n",
      "  Product 19: ROP = 1367.06 units, EOQ = 98.82 units\n",
      "  Product 20: ROP = 1458.01 units, EOQ = 102.05 units\n",
      "  Product 21: ROP = 1303.58 units, EOQ = 96.49 units\n",
      "  Product 22: ROP = 1488.90 units, EOQ = 103.13 units\n",
      "  Product 23: ROP = 1321.83 units, EOQ = 97.17 units\n",
      "  Product 24: ROP = 1381.84 units, EOQ = 99.35 units\n",
      "  Product 25: ROP = 1427.05 units, EOQ = 100.96 units\n",
      "  Product 26: ROP = 1457.18 units, EOQ = 102.02 units\n",
      "  Product 27: ROP = 1343.62 units, EOQ = 97.97 units\n",
      "  Product 28: ROP = 1255.12 units, EOQ = 94.68 units\n",
      "  Product 29: ROP = 1335.56 units, EOQ = 97.67 units\n",
      "  Product 30: ROP = 1399.28 units, EOQ = 99.97 units\n",
      "  Product 31: ROP = 1487.27 units, EOQ = 103.07 units\n",
      "  Total ROP for Category Electronics: 42995.28 units\n",
      "  Total EOQ for Category Electronics: 3084.74 units\n",
      "\n",
      "Category: Health\n",
      "  Product 1: ROP = 1477.30 units, EOQ = 102.72 units\n",
      "  Product 2: ROP = 1448.83 units, EOQ = 101.73 units\n",
      "  Product 3: ROP = 1383.25 units, EOQ = 99.40 units\n",
      "  Product 4: ROP = 1445.69 units, EOQ = 101.62 units\n",
      "  Product 5: ROP = 1391.29 units, EOQ = 99.69 units\n",
      "  Product 6: ROP = 1348.46 units, EOQ = 98.14 units\n",
      "  Product 7: ROP = 1335.80 units, EOQ = 97.68 units\n",
      "  Product 8: ROP = 1367.12 units, EOQ = 98.82 units\n",
      "  Product 9: ROP = 1404.72 units, EOQ = 100.17 units\n",
      "  Product 10: ROP = 1268.99 units, EOQ = 95.21 units\n",
      "  Product 11: ROP = 1410.66 units, EOQ = 100.38 units\n",
      "  Product 12: ROP = 1418.47 units, EOQ = 100.66 units\n",
      "  Product 13: ROP = 1415.94 units, EOQ = 100.57 units\n",
      "  Product 14: ROP = 1444.88 units, EOQ = 101.59 units\n",
      "  Product 15: ROP = 1327.74 units, EOQ = 97.39 units\n",
      "  Product 16: ROP = 1350.66 units, EOQ = 98.22 units\n",
      "  Product 17: ROP = 1303.17 units, EOQ = 96.48 units\n",
      "  Product 18: ROP = 1425.99 units, EOQ = 100.92 units\n",
      "  Product 19: ROP = 1367.06 units, EOQ = 98.82 units\n",
      "  Product 20: ROP = 1458.01 units, EOQ = 102.05 units\n",
      "  Product 21: ROP = 1303.58 units, EOQ = 96.49 units\n",
      "  Product 22: ROP = 1488.90 units, EOQ = 103.13 units\n",
      "  Product 23: ROP = 1321.83 units, EOQ = 97.17 units\n",
      "  Product 24: ROP = 1381.84 units, EOQ = 99.35 units\n",
      "  Product 25: ROP = 1427.05 units, EOQ = 100.96 units\n",
      "  Product 26: ROP = 1457.18 units, EOQ = 102.02 units\n",
      "  Product 27: ROP = 1343.62 units, EOQ = 97.97 units\n",
      "  Product 28: ROP = 1255.12 units, EOQ = 94.68 units\n",
      "  Product 29: ROP = 1335.56 units, EOQ = 97.67 units\n",
      "  Product 30: ROP = 1399.28 units, EOQ = 99.97 units\n",
      "  Product 31: ROP = 1487.27 units, EOQ = 103.07 units\n",
      "  Total ROP for Category Health: 42995.28 units\n",
      "  Total EOQ for Category Health: 3084.74 units\n",
      "\n",
      "Category: Sports\n",
      "  Product 1: ROP = 1477.30 units, EOQ = 102.72 units\n",
      "  Product 2: ROP = 1448.83 units, EOQ = 101.73 units\n",
      "  Product 3: ROP = 1383.25 units, EOQ = 99.40 units\n",
      "  Product 4: ROP = 1445.69 units, EOQ = 101.62 units\n",
      "  Product 5: ROP = 1391.29 units, EOQ = 99.69 units\n",
      "  Product 6: ROP = 1348.46 units, EOQ = 98.14 units\n",
      "  Product 7: ROP = 1335.80 units, EOQ = 97.68 units\n",
      "  Product 8: ROP = 1367.12 units, EOQ = 98.82 units\n",
      "  Product 9: ROP = 1404.72 units, EOQ = 100.17 units\n",
      "  Product 10: ROP = 1268.99 units, EOQ = 95.21 units\n",
      "  Product 11: ROP = 1410.66 units, EOQ = 100.38 units\n",
      "  Product 12: ROP = 1418.47 units, EOQ = 100.66 units\n",
      "  Product 13: ROP = 1415.94 units, EOQ = 100.57 units\n",
      "  Product 14: ROP = 1444.88 units, EOQ = 101.59 units\n",
      "  Product 15: ROP = 1327.74 units, EOQ = 97.39 units\n",
      "  Product 16: ROP = 1350.66 units, EOQ = 98.22 units\n",
      "  Product 17: ROP = 1303.17 units, EOQ = 96.48 units\n",
      "  Product 18: ROP = 1425.99 units, EOQ = 100.92 units\n",
      "  Product 19: ROP = 1367.06 units, EOQ = 98.82 units\n",
      "  Product 20: ROP = 1458.01 units, EOQ = 102.05 units\n",
      "  Product 21: ROP = 1303.58 units, EOQ = 96.49 units\n",
      "  Product 22: ROP = 1488.90 units, EOQ = 103.13 units\n",
      "  Product 23: ROP = 1321.83 units, EOQ = 97.17 units\n",
      "  Product 24: ROP = 1381.84 units, EOQ = 99.35 units\n",
      "  Product 25: ROP = 1427.05 units, EOQ = 100.96 units\n",
      "  Product 26: ROP = 1457.18 units, EOQ = 102.02 units\n",
      "  Product 27: ROP = 1343.62 units, EOQ = 97.97 units\n",
      "  Product 28: ROP = 1255.12 units, EOQ = 94.68 units\n",
      "  Product 29: ROP = 1335.56 units, EOQ = 97.67 units\n",
      "  Product 30: ROP = 1399.28 units, EOQ = 99.97 units\n",
      "  Product 31: ROP = 1487.27 units, EOQ = 103.07 units\n",
      "  Total ROP for Category Sports: 42995.28 units\n",
      "  Total EOQ for Category Sports: 3084.74 units\n",
      "\n"
     ]
    }
   ],
   "source": [
    "import numpy as np\n",
    "from sklearn.linear_model import LinearRegression\n",
    "\n",
    "# Forecasting demand using linear regression\n",
    "def forecast_demand(daily_sales, days_to_forecast=30):\n",
    "    # If daily_sales is a single value, return it repeated for the forecast period\n",
    "    if isinstance(daily_sales, (int, float)):\n",
    "        return np.full(days_to_forecast, daily_sales)\n",
    "    \n",
    "    # Use linear regression to forecast future demand if daily_sales is a time series\n",
    "    X = np.array(range(len(daily_sales))).reshape(-1, 1)  # Time as a feature\n",
    "    y = np.array(daily_sales)  # Historical demand as the target\n",
    "    \n",
    "    # Train the model\n",
    "    model = LinearRegression()\n",
    "    model.fit(X, y)\n",
    "\n",
    "    # Forecast demand for the next 'days_to_forecast' days\n",
    "    future_days = np.array(range(len(daily_sales), len(daily_sales) + days_to_forecast)).reshape(-1, 1)\n",
    "    predicted_demand = model.predict(future_days)\n",
    "    return predicted_demand\n",
    "\n",
    "# Calculate Economic Order Quantity (EOQ)\n",
    "def calculate_economic_order_quantity(daily_sales, holding_cost=2, order_cost=50, demand_forecast_days=30):\n",
    "    # Forecast future demand\n",
    "    forecasted_demand = forecast_demand(daily_sales, demand_forecast_days)\n",
    "    \n",
    "    # Calculate EOQ using the forecasted demand\n",
    "    eoq = np.sqrt((2 * forecasted_demand[-1] * order_cost) / holding_cost)\n",
    "    return eoq\n",
    "\n",
    "# Calculate Reorder Point (ROP)\n",
    "def calculate_reorder_point(daily_sales, lead_time=7):\n",
    "    # Assuming lead time is 7 days\n",
    "    reorder_point = daily_sales * lead_time\n",
    "    return reorder_point\n",
    "\n",
    "# Assuming 'data' is your dataset, and 'categories' is a list of categories you want to analyze\n",
    "categories = ['Clothing', 'Home & Kitchen', 'Toys', 'Books', 'Electronics', 'Health', 'Sports'] # Replace with your actual categories\n",
    "\n",
    "category_results = {}\n",
    "\n",
    "# Example code to loop through categories in your dataset\n",
    "for category in categories:\n",
    "    category_data = data[data['category'] == category]  # Filter data for this category\n",
    "    \n",
    "    # Features for each product (adjust based on your dataset structure)\n",
    "    X = category_data[['price', 'review_score', 'review_count']]  # Features\n",
    "    y = category_data['total_sales']  # Target variable (total sales)\n",
    "    \n",
    "    # Get the model predictions (forecasted total sales) for the products in this category\n",
    "    predictions = y_pred \n",
    "    \n",
    "    # Calculate average daily sales (approximate by dividing by 30)\n",
    "    average_daily_sales = predictions / 30  # Assuming 30 days in a month\n",
    "    \n",
    "    # Store the results for this category\n",
    "    category_results[category] = {\n",
    "        'predictions': predictions,\n",
    "        'average_daily_sales': average_daily_sales\n",
    "    }\n",
    "\n",
    "# Calculate reorder points and EOQ for each category\n",
    "for category, result in category_results.items():\n",
    "    print(f\"Category: {category}\")\n",
    "    \n",
    "    # Get the model predictions (forecasted total sales)\n",
    "    predictions = result['predictions']\n",
    "    \n",
    "    # Get the average daily sales\n",
    "    average_daily_sales = result['average_daily_sales']\n",
    "\n",
    "    # Calculate reorder point (ROP) for each product\n",
    "    reorder_points = [calculate_reorder_point(daily_sales) for daily_sales in average_daily_sales]\n",
    "    \n",
    "    # Calculate Economic Order Quantity (EOQ) for each product\n",
    "    eoq_values = [calculate_economic_order_quantity(daily_sales) for daily_sales in average_daily_sales]\n",
    "\n",
    "    # Print ROP and EOQ for each product\n",
    "    for idx, (rop, eoq) in enumerate(zip(reorder_points, eoq_values)):\n",
    "        print(f\"  Product {idx + 1}: ROP = {rop:.2f} units, EOQ = {eoq:.2f} units\")\n",
    "    \n",
    "    # Calculate and print the total ROP and EOQ for the category\n",
    "    total_rop = sum(reorder_points)\n",
    "    total_eoq = sum(eoq_values)\n",
    "    \n",
    "    print(f\"  Total ROP for Category {category}: {total_rop:.2f} units\")\n",
    "    print(f\"  Total EOQ for Category {category}: {total_eoq:.2f} units\\n\")\n"
   ]
  },
  {
   "cell_type": "code",
   "execution_count": 90,
   "metadata": {},
   "outputs": [
    {
     "data": {
      "image/png": "[encoded data removed]",
      "text/plain": [
       "<Figure size 1000x600 with 1 Axes>"
      ]
     },
     "metadata": {},
     "output_type": "display_data"
    },
    {
     "data": {
      "image/png": "[encoded data removed]",
      "text/plain": [
       "<Figure size 1000x600 with 1 Axes>"
      ]
     },
     "metadata": {},
     "output_type": "display_data"
    },
    {
     "data": {
      "image/png": "[encoded data removed]",
      "text/plain": [
       "<Figure size 1000x600 with 1 Axes>"
      ]
     },
     "metadata": {},
     "output_type": "display_data"
    },
    {
     "data": {
      "image/png": "[encoded data removed]",
      "text/plain": [
       "<Figure size 1000x600 with 1 Axes>"
      ]
     },
     "metadata": {},
     "output_type": "display_data"
    },
    {
     "data": {
      "image/png": "[encoded data removed]",
      "text/plain": [
       "<Figure size 1000x600 with 1 Axes>"
      ]
     },
     "metadata": {},
     "output_type": "display_data"
    },
    {
     "data": {
      "image/png": "[encoded data removed]",
      "text/plain": [
       "<Figure size 1000x600 with 1 Axes>"
      ]
     },
     "metadata": {},
     "output_type": "display_data"
    },
    {
     "data": {
      "image/png": "[encoded data removed]",
      "text/plain": [
       "<Figure size 1000x600 with 1 Axes>"
      ]
     },
     "metadata": {},
     "output_type": "display_data"
    }
   ],
   "source": [
    "import numpy as np\n",
    "import matplotlib.pyplot as plt\n",
    "\n",
    "# Assuming 'category_results' contains the predictions and average_daily_sales as before\n",
    "for category, result in category_results.items():\n",
    "    # Get the model predictions (forecasted total sales)\n",
    "    predictions = result['predictions']\n",
    "    \n",
    "    # Calculate average daily sales (approximate by dividing by 30)\n",
    "    average_daily_sales = predictions / 30  # Assuming 30 days in a month\n",
    "\n",
    "    # Calculate reorder point (ROP) for each product\n",
    "    reorder_points = [calculate_reorder_point(daily_sales) for daily_sales in average_daily_sales]\n",
    "    \n",
    "    # Calculate Economic Order Quantity (EOQ) for each product\n",
    "    eoq_values = [calculate_economic_order_quantity(daily_sales) for daily_sales in average_daily_sales]\n",
    "\n",
    "    # Plot ROP and EOQ for the category\n",
    "    plt.figure(figsize=(10, 6))\n",
    "    \n",
    "    # Plot Reorder Points (ROP) as a bar chart\n",
    "    plt.bar(range(len(reorder_points)), reorder_points, color='moccasin', label='Reorder Point (ROP)')\n",
    "    \n",
    "    # Plot Economic Order Quantity (EOQ) as a line\n",
    "    plt.plot(range(len(eoq_values)), eoq_values, color='red', linestyle='--', label='Economic Order Quantity (EOQ)')\n",
    "    \n",
    "    # Adding labels and title\n",
    "    plt.xlabel('Product Index')\n",
    "    plt.ylabel('Units')\n",
    "    plt.title(f'Inventory Optimization: ROP and EOQ for Category {category}')\n",
    "    \n",
    "    # Add legend to the plot\n",
    "    plt.legend()\n",
    "\n",
    "    # Show the plot\n",
    "    plt.show()\n"
   ]
  }
 ],
 "metadata": {
  "kernelspec": {
   "display_name": "Python 3",
   "language": "python",
   "name": "python3"
  },
  "language_info": {
   "codemirror_mode": {
    "name": "ipython",
    "version": 3
   },
   "file_extension": ".py",
   "mimetype": "text/x-python",
   "name": "python",
   "nbconvert_exporter": "python",
   "pygments_lexer": "ipython3",
   "version": "3.10.11"
  }
 },
 "nbformat": 4,
 "nbformat_minor": 2
}
